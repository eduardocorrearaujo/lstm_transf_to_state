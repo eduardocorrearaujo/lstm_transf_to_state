{
 "cells": [
  {
   "cell_type": "code",
   "execution_count": 1,
   "id": "495e4441-581d-4862-ad1e-ed29a27e7004",
   "metadata": {},
   "outputs": [],
   "source": [
    "import numpy as np \n",
    "import pandas as pd \n",
    "import preprocess_data as prep\n",
    "import matplotlib.pyplot as plt\n",
    "from keras.models import load_model\n",
    "from models import make_predictions\n",
    "\n",
    "import warnings\n",
    "warnings.simplefilter(action='ignore', category=pd.errors.SettingWithCopyWarning)\n"
   ]
  },
  {
   "cell_type": "code",
   "execution_count": 2,
   "id": "e544c700-0c4e-4824-82cc-f1db739acd8b",
   "metadata": {},
   "outputs": [],
   "source": [
    "state_to_code = {'RJ': 33, 'ES': 32, 'PR': 41, 'CE': 23, 'MA': 21,\n",
    "                 'MG': 31, 'SC': 42, 'PE': 26, 'PB': 25, 'RN': 24,\n",
    "                 'PI': 22, 'AL': 27, 'SE': 28, 'SP': 35, 'RS': 43,\n",
    "                 'PA': 15, 'AP': 16, 'RR': 14, 'RO': 11, 'AM': 13,\n",
    "                 'AC': 12, 'MT': 51, 'MS': 50, 'GO': 52, 'TO': 17,\n",
    "                 'DF': 53, 'BA': 29}"
   ]
  },
  {
   "cell_type": "code",
   "execution_count": 3,
   "id": "2b21dd4a-a98d-4cb1-8576-cc3b7ccd2e4e",
   "metadata": {},
   "outputs": [],
   "source": [
    "STATE = 'GO'\n",
    "model_name = 'att'"
   ]
  },
  {
   "cell_type": "code",
   "execution_count": 4,
   "id": "0e183b5c-4efa-4fac-9fc8-710dbb0cea2b",
   "metadata": {},
   "outputs": [
    {
     "data": {
      "text/html": [
       "<div>\n",
       "<style scoped>\n",
       "    .dataframe tbody tr th:only-of-type {\n",
       "        vertical-align: middle;\n",
       "    }\n",
       "\n",
       "    .dataframe tbody tr th {\n",
       "        vertical-align: top;\n",
       "    }\n",
       "\n",
       "    .dataframe thead th {\n",
       "        text-align: right;\n",
       "    }\n",
       "</style>\n",
       "<table border=\"1\" class=\"dataframe\">\n",
       "  <thead>\n",
       "    <tr style=\"text-align: right;\">\n",
       "      <th></th>\n",
       "      <th>geocode</th>\n",
       "      <th>name_muni</th>\n",
       "      <th>name_region</th>\n",
       "      <th>code_region</th>\n",
       "      <th>name_macro</th>\n",
       "      <th>code_macro</th>\n",
       "      <th>state</th>\n",
       "    </tr>\n",
       "  </thead>\n",
       "  <tbody>\n",
       "    <tr>\n",
       "      <th>354</th>\n",
       "      <td>5208806</td>\n",
       "      <td>Goianira</td>\n",
       "      <td>Central</td>\n",
       "      <td>52001</td>\n",
       "      <td>Centro-Oeste</td>\n",
       "      <td>5208</td>\n",
       "      <td>GO</td>\n",
       "    </tr>\n",
       "    <tr>\n",
       "      <th>355</th>\n",
       "      <td>5208905</td>\n",
       "      <td>Goiás</td>\n",
       "      <td>Rio Vermelho</td>\n",
       "      <td>52012</td>\n",
       "      <td>Centro-Oeste</td>\n",
       "      <td>5208</td>\n",
       "      <td>GO</td>\n",
       "    </tr>\n",
       "    <tr>\n",
       "      <th>356</th>\n",
       "      <td>5209101</td>\n",
       "      <td>Goiatuba</td>\n",
       "      <td>Sul</td>\n",
       "      <td>52017</td>\n",
       "      <td>Centro Sudeste</td>\n",
       "      <td>5210</td>\n",
       "      <td>GO</td>\n",
       "    </tr>\n",
       "    <tr>\n",
       "      <th>393</th>\n",
       "      <td>5213756</td>\n",
       "      <td>Montividiu</td>\n",
       "      <td>Sudoeste I</td>\n",
       "      <td>52015</td>\n",
       "      <td>Sudoeste</td>\n",
       "      <td>5206</td>\n",
       "      <td>GO</td>\n",
       "    </tr>\n",
       "    <tr>\n",
       "      <th>394</th>\n",
       "      <td>5213772</td>\n",
       "      <td>Montividiu do Norte</td>\n",
       "      <td>Norte</td>\n",
       "      <td>52008</td>\n",
       "      <td>Centro-Norte</td>\n",
       "      <td>5209</td>\n",
       "      <td>GO</td>\n",
       "    </tr>\n",
       "  </tbody>\n",
       "</table>\n",
       "</div>"
      ],
      "text/plain": [
       "     geocode            name_muni   name_region  code_region      name_macro  \\\n",
       "354  5208806             Goianira       Central        52001    Centro-Oeste   \n",
       "355  5208905                Goiás  Rio Vermelho        52012    Centro-Oeste   \n",
       "356  5209101             Goiatuba           Sul        52017  Centro Sudeste   \n",
       "393  5213756           Montividiu    Sudoeste I        52015        Sudoeste   \n",
       "394  5213772  Montividiu do Norte         Norte        52008    Centro-Norte   \n",
       "\n",
       "     code_macro state  \n",
       "354        5208    GO  \n",
       "355        5208    GO  \n",
       "356        5210    GO  \n",
       "393        5206    GO  \n",
       "394        5209    GO  "
      ]
     },
     "execution_count": 4,
     "metadata": {},
     "output_type": "execute_result"
    }
   ],
   "source": [
    "df_macro = pd.read_csv('./data/macro_saude.csv', index_col = 'Unnamed: 0')\n",
    "\n",
    "df_macro = df_macro.loc[df_macro.state == STATE]\n",
    "\n",
    "df_macro.head()"
   ]
  },
  {
   "cell_type": "code",
   "execution_count": 5,
   "id": "6e0b8e2f-883f-4a57-b6bc-2b2ed2dc7aa6",
   "metadata": {},
   "outputs": [
    {
     "data": {
      "text/plain": [
       "(18,)"
      ]
     },
     "execution_count": 5,
     "metadata": {},
     "output_type": "execute_result"
    }
   ],
   "source": [
    "df_macro.code_region.unique().shape"
   ]
  },
  {
   "cell_type": "code",
   "execution_count": 6,
   "id": "87f3bcc2-248c-46d3-9f2e-56e798d75349",
   "metadata": {},
   "outputs": [],
   "source": [
    "df_all = prep.load_cases_data()\n",
    "enso = prep.load_sea_indicators()\n",
    "df_pop_region = pd.read_csv('./data/pop_regional.csv')\n",
    "df_all_epi = pd.read_csv('./data/episcanner_regional.csv.gz')"
   ]
  },
  {
   "cell_type": "code",
   "execution_count": 7,
   "id": "f6b89c0c-c317-4c3f-a718-03d1aebf03c0",
   "metadata": {},
   "outputs": [],
   "source": [
    "df = df_all.loc[df_all.uf == STATE]"
   ]
  },
  {
   "cell_type": "code",
   "execution_count": 8,
   "id": "01d8400e-e49e-4cc6-9bbd-dab53c0d689e",
   "metadata": {},
   "outputs": [],
   "source": [
    "cols_to_norm = ['casos','epiweek', 'enso', 'R0', \n",
    "                                                                  'peak_week',\n",
    "                                                                  'total_cases', \n",
    "                                                                  'perc_geocode']\n",
    "\n",
    "list_of_enso_indicators = ['enso', 'iod', 'pdo']\n",
    "indicators = [item for item in list_of_enso_indicators if item in cols_to_norm]"
   ]
  },
  {
   "cell_type": "code",
   "execution_count": 9,
   "id": "43e73890-b8e0-49eb-9d7a-6ea4444ac5fe",
   "metadata": {},
   "outputs": [
    {
     "name": "stdout",
     "output_type": "stream",
     "text": [
      "CPU times: user 23min 33s, sys: 6.65 s, total: 23min 40s\n",
      "Wall time: 24min 9s\n"
     ]
    }
   ],
   "source": [
    "%%time \n",
    "\n",
    "for test_year in np.arange(2013, 2025):\n",
    "\n",
    "    for region in df_macro.code_region.unique(): \n",
    "\n",
    "        df_w = prep.aggregate_data(df, region, column = 'regional_geocode')\n",
    "\n",
    "        #df_w['inc'] = 10*df_w['casos']/df_pop_region.loc[df_pop_region.regional_geocode==geo]['pop'].values[0]\n",
    "        df_w['pop_norm'] = df_pop_region.loc[df_pop_region.regional_geocode==region]['pop_norm'].values[0]\n",
    "        \n",
    "        df_w = df_w.reset_index().merge( df_all_epi.loc[df_all_epi.code_region == region][['year',\n",
    "                                                                  'R0', \n",
    "                                                                  'peak_week',\n",
    "                                                                  'total_cases', \n",
    "                                                                  'perc_geocode']], how = 'left', left_on = 'year', right_on = 'year').set_index('date')\n",
    "        \n",
    "        df_w = df_w.fillna(0)\n",
    "                \n",
    "        data = df_w.merge(enso[indicators], left_index = True, right_index = True)\n",
    "        \n",
    "        X_train, y_train, norm_values = prep.get_train_data(data.loc[data.year < test_year], columns_to_normalize= cols_to_norm)\n",
    "        \n",
    "        X_test, y_test =  prep.get_test_data(norm_values, data, test_year, columns_to_normalize = cols_to_norm, target_1 = False) \n",
    "\n",
    "        dates = prep.gen_forecast_dates(test_year)\n",
    "\n",
    "        if test_year == 2024:\n",
    "            model = load_model(f'./saved_models/model_{STATE}_2023_{model_name}.keras') \n",
    "        else:\n",
    "            model = load_model(f'./saved_models/model_{STATE}_2022_{model_name}.keras') \n",
    "\n",
    "\n",
    "        predicted_ = np.stack([model(X_test.astype(np.float32), training =True) for i in range(100)], axis=2)\n",
    "\n",
    "        predicted_ = predicted_*norm_values['casos']\n",
    "\n",
    "        pd.DataFrame(predicted_.reshape(52,100)).to_csv(f'./predictions_ensemble/{STATE}_{region}_{test_year}.csv.gz')\n",
    "\n",
    "        #df_preds = make_predictions(model, X_test, norm_values, dates = dates)\n",
    "\n",
    "        \n",
    "        \n",
    "            "
   ]
  },
  {
   "cell_type": "code",
   "execution_count": null,
   "id": "06ca487f-9d72-45cc-a177-5798be832e28",
   "metadata": {},
   "outputs": [],
   "source": []
  }
 ],
 "metadata": {
  "kernelspec": {
   "display_name": "Python 3 (ipykernel)",
   "language": "python",
   "name": "python3"
  },
  "language_info": {
   "codemirror_mode": {
    "name": "ipython",
    "version": 3
   },
   "file_extension": ".py",
   "mimetype": "text/x-python",
   "name": "python",
   "nbconvert_exporter": "python",
   "pygments_lexer": "ipython3",
   "version": "3.12.4"
  }
 },
 "nbformat": 4,
 "nbformat_minor": 5
}
