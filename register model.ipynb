{
 "cells": [
  {
   "cell_type": "code",
   "execution_count": 3,
   "id": "ed0e4489-bde1-4d50-8df4-eb7d47696f97",
   "metadata": {},
   "outputs": [],
   "source": [
    "import os\n",
    "from dotenv import load_dotenv\n",
    "\n",
    "# Load environment variables from .env file\n",
    "load_dotenv()\n",
    "\n",
    "# Access the environment variables\n",
    "api_key = os.getenv('API_KEY')"
   ]
  },
  {
   "cell_type": "code",
   "execution_count": 1,
   "id": "c737588f-8da8-4608-915f-2cbfcbd00510",
   "metadata": {},
   "outputs": [
    {
     "data": {
      "text/plain": [
       "<Response [201]>"
      ]
     },
     "execution_count": 1,
     "metadata": {},
     "output_type": "execute_result"
    }
   ],
   "source": [
    "from mosqlient import upload_model\n",
    "\n",
    "upload_model(\n",
    "\n",
    "    #author_username ='eduardocorrearaujo', \n",
    "\n",
    "    name = \"LSTM model for Infodengue Sprint\",\n",
    "\n",
    "    description = \"The models used to forecast the dengue cases in the 2024/2025. It's considered different architectures and set of predictors to predict the 52 weeks in different states\",\n",
    "\n",
    "    repository = \"https://github.com/eduardocorrearaujo/lstm_transf_to_state\",\n",
    "\n",
    "    implementation_language = \"Python\",\n",
    "\n",
    "    disease = \"dengue\",\n",
    "\n",
    "    temporal = True,\n",
    "\n",
    "    spatial = False,\n",
    "\n",
    "    categorical = False,\n",
    "\n",
    "    adm_level = 1, # National\n",
    "\n",
    "    time_resolution = \"week\",\n",
    "\n",
    "    api_key = api_key\n",
    "\n",
    "    )"
   ]
  },
  {
   "cell_type": "code",
   "execution_count": null,
   "id": "8871fdfc-13ec-4bef-89a4-f3216b635c87",
   "metadata": {},
   "outputs": [],
   "source": []
  }
 ],
 "metadata": {
  "kernelspec": {
   "display_name": "Python 3 (ipykernel)",
   "language": "python",
   "name": "python3"
  },
  "language_info": {
   "codemirror_mode": {
    "name": "ipython",
    "version": 3
   },
   "file_extension": ".py",
   "mimetype": "text/x-python",
   "name": "python",
   "nbconvert_exporter": "python",
   "pygments_lexer": "ipython3",
   "version": "3.12.4"
  }
 },
 "nbformat": 4,
 "nbformat_minor": 5
}
