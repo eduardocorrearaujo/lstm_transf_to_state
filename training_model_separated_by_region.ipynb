{
 "cells": [
  {
   "cell_type": "code",
   "execution_count": 1,
   "id": "512cc464-9f0b-4f4b-be2f-f6034a835275",
   "metadata": {},
   "outputs": [],
   "source": [
    "import time\n",
    "import numpy as np\n",
    "import pandas as pd\n",
    "import preprocess_data as prep\n",
    "from keras.optimizers import Adam\n",
    "from models import train_model_using_cross_val, schedule, build_baseline, build_lstm_att, build_comb_lstm_att, sum_regions_predictions \n",
    "from tensorflow.keras.callbacks import TensorBoard, EarlyStopping, LearningRateScheduler\n",
    "\n",
    "import warnings\n",
    "warnings.simplefilter(action='ignore', category=pd.errors.SettingWithCopyWarning)\n",
    "\n",
    "'''\n",
    "This script is used to train the model for a specific STATE and forecast the cases on a \n",
    "specific year (TEST_YEAR). The model is trained with the regional health data before the year selected. \n",
    "'''\n",
    "\n",
    "# Load the cases and enso data\n",
    "df_all = prep.load_cases_data()\n",
    "enso = prep.load_enso_data()\n",
    "\n",
    "# flag to decide if the model will be applied or not\n",
    "apply = True \n"
   ]
  },
  {
   "cell_type": "code",
   "execution_count": 2,
   "id": "7eec790d-5eb5-4fca-8b6d-8e8acd9245c1",
   "metadata": {},
   "outputs": [],
   "source": [
    "from sklearn.model_selection import train_test_split"
   ]
  },
  {
   "cell_type": "code",
   "execution_count": 3,
   "id": "605f6393-3b5d-4562-a7fc-1f52edb6d7ae",
   "metadata": {},
   "outputs": [],
   "source": [
    "TB_callback = TensorBoard(\n",
    "                log_dir=\"./tensorboard\",\n",
    "                histogram_freq=0,\n",
    "                write_graph=True,\n",
    "                write_images=True,\n",
    "                update_freq='epoch',\n",
    "                # embeddings_freq=10\n",
    "            )"
   ]
  },
  {
   "cell_type": "code",
   "execution_count": 4,
   "id": "83c83dc8-8041-4244-8e20-6434c5a72f6b",
   "metadata": {},
   "outputs": [],
   "source": [
    "df_pop_region = pd.read_csv('./data/pop_regional.csv')"
   ]
  },
  {
   "cell_type": "code",
   "execution_count": 5,
   "id": "ce5866b5-7551-46cd-a520-b368133898d4",
   "metadata": {},
   "outputs": [
    {
     "name": "stdout",
     "output_type": "stream",
     "text": [
      "GO\n",
      "2023\n"
     ]
    }
   ],
   "source": [
    "STATE  = 'GO'\n",
    "\n",
    "TEST_YEAR = 2023 \n",
    "\n",
    "if STATE == 'PR': \n",
    "\n",
    "    min_year = 2019\n",
    "\n",
    "else: \n",
    "\n",
    "    min_year = 2013\n",
    "\n",
    "#columns used in the model\n",
    "cols_to_norm = ['casos','epiweek', 'enso',  'R0', 'total_cases',\n",
    "                          'peak_week', 'perc_geocode'] \n",
    "\n",
    "    #cols_to_norm = ['casos','epiweek', 'enso', 'ampsas', 'amptrend', 'ST', 'R0', 'total_cases',\n",
    "     #                       'peak_week', 'perc_geocode']\n",
    "print(STATE)\n",
    "print(TEST_YEAR)\n",
    "\n",
    "df = df_all.loc[df_all.uf == STATE]"
   ]
  },
  {
   "cell_type": "code",
   "execution_count": 6,
   "id": "95c645fb-f895-4274-90e5-6300a62d4d4c",
   "metadata": {},
   "outputs": [],
   "source": [
    "df_all_epi = pd.read_csv('./data/episcanner_regional.csv.gz')"
   ]
  },
  {
   "cell_type": "code",
   "execution_count": 7,
   "id": "8a4426ea-0fa9-4bc8-b3eb-2143a1c5d314",
   "metadata": {},
   "outputs": [],
   "source": [
    "def regional_train_samples(model, df, enso, test_year, columns_to_normalize = ['casos', 'epiweek', 'enso'], episcanner = False, clima = False, min_year = None):\n",
    "    '''\n",
    "    Generate the train date from all the health regions \n",
    "    '''\n",
    "\n",
    "    features = len(columns_to_normalize)+1\n",
    "    X_train = np.empty((0, 89, features))\n",
    "    y_train = np.empty((0, 52))\n",
    "\n",
    "    list_of_enso_indicators = ['enso', 'iod', 'pdo']\n",
    "\n",
    "    indicators = [item for item in list_of_enso_indicators if item in columns_to_normalize]\n",
    "\n",
    "    for geo in df.regional_geocode.unique():\n",
    "        \n",
    "        if clima:\n",
    "            df_w = prep.aggregate_data_clima(df, geo, column = 'regional_geocode')\n",
    "        else: \n",
    "            df_w = prep.aggregate_data(df, geo, column = 'regional_geocode')\n",
    "\n",
    "        \n",
    "        #df_w['inc'] = 10*df_w['casos']/df_pop_region.loc[df_pop_region.regional_geocode==geo]['pop'].values[0]\n",
    "        df_w['pop_norm'] = df_pop_region.loc[df_pop_region.regional_geocode==geo]['pop_norm'].values[0]\n",
    "\n",
    "        if episcanner: \n",
    "\n",
    "            df_w = df_w.reset_index().merge( df_all_epi.loc[df_all_epi.code_region == geo][['year',\n",
    "                                                          'R0', \n",
    "                                                          'peak_week',\n",
    "                                                          'total_cases', \n",
    "                                                          'perc_geocode']], how = 'left', left_on = 'year', right_on = 'year').set_index('date')\n",
    "\n",
    "            df_w = df_w.fillna(0)\n",
    "        \n",
    "        data = df_w.merge(enso[indicators], left_index = True, right_index = True)\n",
    "\n",
    "        X_train, y_train, norm_values = prep.get_train_data(data.loc[data.year < test_year], columns_to_normalize= columns_to_normalize, min_year = min_year)\n",
    "\n",
    "        X_train, X_val, y_train, y_val = train_test_split(\n",
    "                                        X_train, y_train, test_size=0.2, shuffle = False, random_state=42)\n",
    "\n",
    "        #print(X_val.shape)\n",
    "        \n",
    "        hist = model.fit(\n",
    "                    X_train,\n",
    "                    y_train,\n",
    "                    batch_size=1,\n",
    "                    epochs=50,\n",
    "                    verbose=0,\n",
    "                    shuffle = False, \n",
    "                    validation_data=(X_val, y_val),\n",
    "                    callbacks=[TB_callback, EarlyStopping(monitor='val_loss', min_delta=0,  patience=15)]\n",
    "                )\n",
    "        \n",
    "    return model "
   ]
  },
  {
   "cell_type": "code",
   "execution_count": 9,
   "id": "468c39c2-e732-46a7-bff7-4592f832940b",
   "metadata": {},
   "outputs": [
    {
     "name": "stderr",
     "output_type": "stream",
     "text": [
      "/opt/homebrew/Caskroom/miniforge/base/envs/lstm_infodengue_sprint/lib/python3.12/site-packages/keras/src/layers/rnn/rnn.py:204: UserWarning: Do not pass an `input_shape`/`input_dim` argument to a layer. When using Sequential models, prefer using an `Input(shape)` object as the first layer in the model instead.\n",
      "  super().__init__(**kwargs)\n"
     ]
    },
    {
     "data": {
      "text/html": [
       "<pre style=\"white-space:pre;overflow-x:auto;line-height:normal;font-family:Menlo,'DejaVu Sans Mono',consolas,'Courier New',monospace\"><span style=\"font-weight: bold\">Model: \"functional_1\"</span>\n",
       "</pre>\n"
      ],
      "text/plain": [
       "\u001b[1mModel: \"functional_1\"\u001b[0m\n"
      ]
     },
     "metadata": {},
     "output_type": "display_data"
    },
    {
     "data": {
      "text/html": [
       "<pre style=\"white-space:pre;overflow-x:auto;line-height:normal;font-family:Menlo,'DejaVu Sans Mono',consolas,'Courier New',monospace\">┏━━━━━━━━━━━━━━━━━━━━━┳━━━━━━━━━━━━━━━━━━━┳━━━━━━━━━━━━┳━━━━━━━━━━━━━━━━━━━┓\n",
       "┃<span style=\"font-weight: bold\"> Layer (type)        </span>┃<span style=\"font-weight: bold\"> Output Shape      </span>┃<span style=\"font-weight: bold\">    Param # </span>┃<span style=\"font-weight: bold\"> Connected to      </span>┃\n",
       "┡━━━━━━━━━━━━━━━━━━━━━╇━━━━━━━━━━━━━━━━━━━╇━━━━━━━━━━━━╇━━━━━━━━━━━━━━━━━━━┩\n",
       "│ input_layer_1       │ (<span style=\"color: #00af00; text-decoration-color: #00af00\">1</span>, <span style=\"color: #00af00; text-decoration-color: #00af00\">89</span>, <span style=\"color: #00af00; text-decoration-color: #00af00\">8</span>)        │          <span style=\"color: #00af00; text-decoration-color: #00af00\">0</span> │ -                 │\n",
       "│ (<span style=\"color: #0087ff; text-decoration-color: #0087ff\">InputLayer</span>)        │                   │            │                   │\n",
       "├─────────────────────┼───────────────────┼────────────┼───────────────────┤\n",
       "│ Attention           │ (<span style=\"color: #00af00; text-decoration-color: #00af00\">1</span>, <span style=\"color: #00af00; text-decoration-color: #00af00\">89</span>, <span style=\"color: #00af00; text-decoration-color: #00af00\">8</span>)        │         <span style=\"color: #00af00; text-decoration-color: #00af00\">65</span> │ input_layer_1[<span style=\"color: #00af00; text-decoration-color: #00af00\">0</span>]… │\n",
       "│ (<span style=\"color: #0087ff; text-decoration-color: #0087ff\">SeqSelfAttention</span>)  │                   │            │                   │\n",
       "├─────────────────────┼───────────────────┼────────────┼───────────────────┤\n",
       "│ dropout_2 (<span style=\"color: #0087ff; text-decoration-color: #0087ff\">Dropout</span>) │ (<span style=\"color: #00af00; text-decoration-color: #00af00\">1</span>, <span style=\"color: #00af00; text-decoration-color: #00af00\">89</span>, <span style=\"color: #00af00; text-decoration-color: #00af00\">8</span>)        │          <span style=\"color: #00af00; text-decoration-color: #00af00\">0</span> │ Attention[<span style=\"color: #00af00; text-decoration-color: #00af00\">0</span>][<span style=\"color: #00af00; text-decoration-color: #00af00\">0</span>]   │\n",
       "├─────────────────────┼───────────────────┼────────────┼───────────────────┤\n",
       "│ concatenate_1       │ (<span style=\"color: #00af00; text-decoration-color: #00af00\">1</span>, <span style=\"color: #00af00; text-decoration-color: #00af00\">89</span>, <span style=\"color: #00af00; text-decoration-color: #00af00\">16</span>)       │          <span style=\"color: #00af00; text-decoration-color: #00af00\">0</span> │ dropout_2[<span style=\"color: #00af00; text-decoration-color: #00af00\">0</span>][<span style=\"color: #00af00; text-decoration-color: #00af00\">0</span>],  │\n",
       "│ (<span style=\"color: #0087ff; text-decoration-color: #0087ff\">Concatenate</span>)       │                   │            │ input_layer_1[<span style=\"color: #00af00; text-decoration-color: #00af00\">0</span>]… │\n",
       "├─────────────────────┼───────────────────┼────────────┼───────────────────┤\n",
       "│ lstm_1 (<span style=\"color: #0087ff; text-decoration-color: #0087ff\">LSTM</span>)       │ (<span style=\"color: #00af00; text-decoration-color: #00af00\">1</span>, <span style=\"color: #00af00; text-decoration-color: #00af00\">32</span>)           │      <span style=\"color: #00af00; text-decoration-color: #00af00\">6,272</span> │ concatenate_1[<span style=\"color: #00af00; text-decoration-color: #00af00\">0</span>]… │\n",
       "├─────────────────────┼───────────────────┼────────────┼───────────────────┤\n",
       "│ dropout_3 (<span style=\"color: #0087ff; text-decoration-color: #0087ff\">Dropout</span>) │ (<span style=\"color: #00af00; text-decoration-color: #00af00\">1</span>, <span style=\"color: #00af00; text-decoration-color: #00af00\">32</span>)           │          <span style=\"color: #00af00; text-decoration-color: #00af00\">0</span> │ lstm_1[<span style=\"color: #00af00; text-decoration-color: #00af00\">0</span>][<span style=\"color: #00af00; text-decoration-color: #00af00\">0</span>]      │\n",
       "├─────────────────────┼───────────────────┼────────────┼───────────────────┤\n",
       "│ dense_1 (<span style=\"color: #0087ff; text-decoration-color: #0087ff\">Dense</span>)     │ (<span style=\"color: #00af00; text-decoration-color: #00af00\">1</span>, <span style=\"color: #00af00; text-decoration-color: #00af00\">52</span>)           │      <span style=\"color: #00af00; text-decoration-color: #00af00\">1,716</span> │ dropout_3[<span style=\"color: #00af00; text-decoration-color: #00af00\">0</span>][<span style=\"color: #00af00; text-decoration-color: #00af00\">0</span>]   │\n",
       "└─────────────────────┴───────────────────┴────────────┴───────────────────┘\n",
       "</pre>\n"
      ],
      "text/plain": [
       "┏━━━━━━━━━━━━━━━━━━━━━┳━━━━━━━━━━━━━━━━━━━┳━━━━━━━━━━━━┳━━━━━━━━━━━━━━━━━━━┓\n",
       "┃\u001b[1m \u001b[0m\u001b[1mLayer (type)       \u001b[0m\u001b[1m \u001b[0m┃\u001b[1m \u001b[0m\u001b[1mOutput Shape     \u001b[0m\u001b[1m \u001b[0m┃\u001b[1m \u001b[0m\u001b[1m   Param #\u001b[0m\u001b[1m \u001b[0m┃\u001b[1m \u001b[0m\u001b[1mConnected to     \u001b[0m\u001b[1m \u001b[0m┃\n",
       "┡━━━━━━━━━━━━━━━━━━━━━╇━━━━━━━━━━━━━━━━━━━╇━━━━━━━━━━━━╇━━━━━━━━━━━━━━━━━━━┩\n",
       "│ input_layer_1       │ (\u001b[38;5;34m1\u001b[0m, \u001b[38;5;34m89\u001b[0m, \u001b[38;5;34m8\u001b[0m)        │          \u001b[38;5;34m0\u001b[0m │ -                 │\n",
       "│ (\u001b[38;5;33mInputLayer\u001b[0m)        │                   │            │                   │\n",
       "├─────────────────────┼───────────────────┼────────────┼───────────────────┤\n",
       "│ Attention           │ (\u001b[38;5;34m1\u001b[0m, \u001b[38;5;34m89\u001b[0m, \u001b[38;5;34m8\u001b[0m)        │         \u001b[38;5;34m65\u001b[0m │ input_layer_1[\u001b[38;5;34m0\u001b[0m]… │\n",
       "│ (\u001b[38;5;33mSeqSelfAttention\u001b[0m)  │                   │            │                   │\n",
       "├─────────────────────┼───────────────────┼────────────┼───────────────────┤\n",
       "│ dropout_2 (\u001b[38;5;33mDropout\u001b[0m) │ (\u001b[38;5;34m1\u001b[0m, \u001b[38;5;34m89\u001b[0m, \u001b[38;5;34m8\u001b[0m)        │          \u001b[38;5;34m0\u001b[0m │ Attention[\u001b[38;5;34m0\u001b[0m][\u001b[38;5;34m0\u001b[0m]   │\n",
       "├─────────────────────┼───────────────────┼────────────┼───────────────────┤\n",
       "│ concatenate_1       │ (\u001b[38;5;34m1\u001b[0m, \u001b[38;5;34m89\u001b[0m, \u001b[38;5;34m16\u001b[0m)       │          \u001b[38;5;34m0\u001b[0m │ dropout_2[\u001b[38;5;34m0\u001b[0m][\u001b[38;5;34m0\u001b[0m],  │\n",
       "│ (\u001b[38;5;33mConcatenate\u001b[0m)       │                   │            │ input_layer_1[\u001b[38;5;34m0\u001b[0m]… │\n",
       "├─────────────────────┼───────────────────┼────────────┼───────────────────┤\n",
       "│ lstm_1 (\u001b[38;5;33mLSTM\u001b[0m)       │ (\u001b[38;5;34m1\u001b[0m, \u001b[38;5;34m32\u001b[0m)           │      \u001b[38;5;34m6,272\u001b[0m │ concatenate_1[\u001b[38;5;34m0\u001b[0m]… │\n",
       "├─────────────────────┼───────────────────┼────────────┼───────────────────┤\n",
       "│ dropout_3 (\u001b[38;5;33mDropout\u001b[0m) │ (\u001b[38;5;34m1\u001b[0m, \u001b[38;5;34m32\u001b[0m)           │          \u001b[38;5;34m0\u001b[0m │ lstm_1[\u001b[38;5;34m0\u001b[0m][\u001b[38;5;34m0\u001b[0m]      │\n",
       "├─────────────────────┼───────────────────┼────────────┼───────────────────┤\n",
       "│ dense_1 (\u001b[38;5;33mDense\u001b[0m)     │ (\u001b[38;5;34m1\u001b[0m, \u001b[38;5;34m52\u001b[0m)           │      \u001b[38;5;34m1,716\u001b[0m │ dropout_3[\u001b[38;5;34m0\u001b[0m][\u001b[38;5;34m0\u001b[0m]   │\n",
       "└─────────────────────┴───────────────────┴────────────┴───────────────────┘\n"
      ]
     },
     "metadata": {},
     "output_type": "display_data"
    },
    {
     "data": {
      "text/html": [
       "<pre style=\"white-space:pre;overflow-x:auto;line-height:normal;font-family:Menlo,'DejaVu Sans Mono',consolas,'Courier New',monospace\"><span style=\"font-weight: bold\"> Total params: </span><span style=\"color: #00af00; text-decoration-color: #00af00\">8,053</span> (31.46 KB)\n",
       "</pre>\n"
      ],
      "text/plain": [
       "\u001b[1m Total params: \u001b[0m\u001b[38;5;34m8,053\u001b[0m (31.46 KB)\n"
      ]
     },
     "metadata": {},
     "output_type": "display_data"
    },
    {
     "data": {
      "text/html": [
       "<pre style=\"white-space:pre;overflow-x:auto;line-height:normal;font-family:Menlo,'DejaVu Sans Mono',consolas,'Courier New',monospace\"><span style=\"font-weight: bold\"> Trainable params: </span><span style=\"color: #00af00; text-decoration-color: #00af00\">8,053</span> (31.46 KB)\n",
       "</pre>\n"
      ],
      "text/plain": [
       "\u001b[1m Trainable params: \u001b[0m\u001b[38;5;34m8,053\u001b[0m (31.46 KB)\n"
      ]
     },
     "metadata": {},
     "output_type": "display_data"
    },
    {
     "data": {
      "text/html": [
       "<pre style=\"white-space:pre;overflow-x:auto;line-height:normal;font-family:Menlo,'DejaVu Sans Mono',consolas,'Courier New',monospace\"><span style=\"font-weight: bold\"> Non-trainable params: </span><span style=\"color: #00af00; text-decoration-color: #00af00\">0</span> (0.00 B)\n",
       "</pre>\n"
      ],
      "text/plain": [
       "\u001b[1m Non-trainable params: \u001b[0m\u001b[38;5;34m0\u001b[0m (0.00 B)\n"
      ]
     },
     "metadata": {},
     "output_type": "display_data"
    },
    {
     "name": "stdout",
     "output_type": "stream",
     "text": [
      "None\n",
      "2024\n",
      "CPU times: user 5min 27s, sys: 7.73 s, total: 5min 35s\n",
      "Wall time: 5min 47s\n"
     ]
    }
   ],
   "source": [
    "%%time \n",
    "\n",
    "# generate the samples to train and test based on the regional data \n",
    "\n",
    "# parameters of the model\n",
    "LOSS = 'msle'\n",
    "batch_size = 1\n",
    "model_name = 'att_reg'\n",
    "\n",
    "cols_to_norm = ['casos','epiweek', 'enso',  'R0', 'total_cases',\n",
    "                          'peak_week', 'perc_geocode'] \n",
    "\n",
    "#create model\n",
    "model = build_lstm_att(hidden=64, features=8, predict_n=52, look_back=89, loss=LOSS, \n",
    "                    stateful = False, batch_size = batch_size,  optimizer = 'adam', activation = 'relu')\n",
    "\n",
    "# train model \n",
    "model = regional_train_samples(model, df, enso, TEST_YEAR, columns_to_normalize = cols_to_norm, episcanner = True, clima = False, min_year = None)\n",
    "   \n",
    "# save model \n",
    "model.save(f'saved_models/model_{STATE}_{TEST_YEAR-1}_{model_name}.keras')\n",
    "\n",
    "if apply:\n",
    "    df_preds = sum_regions_predictions(model, df, enso, TEST_YEAR, cols_to_norm, True, False)\n",
    "    df_preds['adm_1'] = STATE\n",
    "    df_preds['adm_0'] = 'BR'\n",
    "    df_preds['adm_2'] = pd.NA\n",
    "    df_preds.to_csv(f'./predictions/preds_{STATE}_{TEST_YEAR}_{model_name}.csv', index = False)\n",
    "\n",
    "TEST_YEAR = 2024 \n",
    "print(TEST_YEAR)\n",
    "\n",
    "model.compile(loss=LOSS, optimizer = Adam(learning_rate = 0.0005), metrics=[\"accuracy\", \"mape\", \"mse\"])\n",
    "\n",
    "model = regional_train_samples(model, df, enso, TEST_YEAR, columns_to_normalize = cols_to_norm, episcanner = True, clima = False, min_year = None)\n",
    "  \n",
    "# save the model\n",
    "model.save(f'saved_models/model_{STATE}_{TEST_YEAR-1}_{model_name}.keras')\n",
    "\n",
    "if apply: \n",
    "    df_preds = sum_regions_predictions(model, df, enso, TEST_YEAR, cols_to_norm, True, False)\n",
    "    df_preds['adm_1'] = STATE\n",
    "    df_preds['adm_0'] = 'BR'\n",
    "    df_preds['adm_2'] = pd.NA\n",
    "    df_preds.to_csv(f'./predictions/preds_{STATE}_{TEST_YEAR}_{model_name}.csv', index = False)\n",
    "\n"
   ]
  },
  {
   "cell_type": "code",
   "execution_count": null,
   "id": "7d75c803-d076-4ba5-a832-3762f78f3594",
   "metadata": {},
   "outputs": [],
   "source": []
  }
 ],
 "metadata": {
  "kernelspec": {
   "display_name": "Python 3 (ipykernel)",
   "language": "python",
   "name": "python3"
  },
  "language_info": {
   "codemirror_mode": {
    "name": "ipython",
    "version": 3
   },
   "file_extension": ".py",
   "mimetype": "text/x-python",
   "name": "python",
   "nbconvert_exporter": "python",
   "pygments_lexer": "ipython3",
   "version": "3.12.4"
  }
 },
 "nbformat": 4,
 "nbformat_minor": 5
}
