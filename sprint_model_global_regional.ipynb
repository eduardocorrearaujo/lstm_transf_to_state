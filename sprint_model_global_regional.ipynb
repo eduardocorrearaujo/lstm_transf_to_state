{
 "cells": [
  {
   "cell_type": "code",
   "execution_count": 1,
   "metadata": {
    "id": "dOZRd6MwgOHM"
   },
   "outputs": [],
   "source": [
    "import numpy as np\n",
    "import pandas as pd\n",
    "from epiweeks import Week\n",
    "from itertools import product\n",
    "import matplotlib.pyplot as plt\n",
    "from models import make_predictions\n",
    "from preprocess_data import add_epiweek_label, aggregate_data, get_train_data, get_test_data, gen_forecast_dates"
   ]
  },
  {
   "cell_type": "code",
   "execution_count": 2,
   "metadata": {
    "id": "WMC-hxK9qQQy"
   },
   "outputs": [],
   "source": [
    "import warnings\n",
    "warnings.simplefilter(action='ignore', category=pd.errors.SettingWithCopyWarning)"
   ]
  },
  {
   "cell_type": "markdown",
   "metadata": {
    "id": "pmZ31B-5g-Yb"
   },
   "source": [
    "Nesse notebook será aplicado um modelo LSTM com 2 camadas para realizar a previsão dos casos de dengue.\n",
    "\n",
    "O modelo usa como input os casos de dengue nas semanas 1-52 dos 3 anos anteriores (y-1) para prever as semanas 1-52 do próximo ano. Além disso o modelo usa como feature a série temporal do enso no último ano e a média dos casos por semana epidemiológica dos últimos anos. Logo, o modelo usa como input 5 features.\n",
    "\n",
    "Como o output de saída do modelo, segundo o sprint, devem ser as semanas 41-40 eu criei uma função específica para redefinir esse intervalo como 1-52. Logo, essa função transforma um label de uma semana epidemiológica '201041' na semana '201101'.\n",
    "\n",
    "As semanas 53 foram removidas dos dados. \n",
    "\n",
    "Serão utilizados como dados de treinamento os dados de todas as regionais de saúde normalizados. Para realizar a previsão à nível de estado o modelo será retreinado utilizando os dados do estado com poucos épocas e um valor baixo para taxa de aprendizado. (Nesse última passo é como se a técnica de transferência de aprendizado estivesse sendo aplicada)"
   ]
  },
  {
   "cell_type": "markdown",
   "metadata": {
    "id": "kQ57A61DntlS"
   },
   "source": [
    "O dataset abaixo já foi filtrado para MG"
   ]
  },
  {
   "cell_type": "code",
   "execution_count": 3,
   "metadata": {
    "colab": {
     "base_uri": "https://localhost:8080/",
     "height": 238
    },
    "id": "HQsn-f0plk3i",
    "outputId": "1c848b62-aab0-40f3-cecf-d08925b25184"
   },
   "outputs": [
    {
     "data": {
      "text/html": [
       "<div>\n",
       "<style scoped>\n",
       "    .dataframe tbody tr th:only-of-type {\n",
       "        vertical-align: middle;\n",
       "    }\n",
       "\n",
       "    .dataframe tbody tr th {\n",
       "        vertical-align: top;\n",
       "    }\n",
       "\n",
       "    .dataframe thead th {\n",
       "        text-align: right;\n",
       "    }\n",
       "</style>\n",
       "<table border=\"1\" class=\"dataframe\">\n",
       "  <thead>\n",
       "    <tr style=\"text-align: right;\">\n",
       "      <th></th>\n",
       "      <th>casos</th>\n",
       "      <th>epiweek</th>\n",
       "      <th>geocode</th>\n",
       "      <th>regional_geocode</th>\n",
       "    </tr>\n",
       "    <tr>\n",
       "      <th>date</th>\n",
       "      <th></th>\n",
       "      <th></th>\n",
       "      <th></th>\n",
       "      <th></th>\n",
       "    </tr>\n",
       "  </thead>\n",
       "  <tbody>\n",
       "    <tr>\n",
       "      <th>2010-01-03</th>\n",
       "      <td>0</td>\n",
       "      <td>201001</td>\n",
       "      <td>3110806</td>\n",
       "      <td>31096</td>\n",
       "    </tr>\n",
       "    <tr>\n",
       "      <th>2010-01-03</th>\n",
       "      <td>0</td>\n",
       "      <td>201001</td>\n",
       "      <td>3132404</td>\n",
       "      <td>31003</td>\n",
       "    </tr>\n",
       "    <tr>\n",
       "      <th>2010-01-03</th>\n",
       "      <td>0</td>\n",
       "      <td>201001</td>\n",
       "      <td>3168903</td>\n",
       "      <td>31082</td>\n",
       "    </tr>\n",
       "    <tr>\n",
       "      <th>2010-01-03</th>\n",
       "      <td>0</td>\n",
       "      <td>201001</td>\n",
       "      <td>3155405</td>\n",
       "      <td>31097</td>\n",
       "    </tr>\n",
       "    <tr>\n",
       "      <th>2010-01-03</th>\n",
       "      <td>0</td>\n",
       "      <td>201001</td>\n",
       "      <td>3170602</td>\n",
       "      <td>31093</td>\n",
       "    </tr>\n",
       "  </tbody>\n",
       "</table>\n",
       "</div>"
      ],
      "text/plain": [
       "            casos  epiweek  geocode  regional_geocode\n",
       "date                                                 \n",
       "2010-01-03      0   201001  3110806             31096\n",
       "2010-01-03      0   201001  3132404             31003\n",
       "2010-01-03      0   201001  3168903             31082\n",
       "2010-01-03      0   201001  3155405             31097\n",
       "2010-01-03      0   201001  3170602             31093"
      ]
     },
     "execution_count": 3,
     "metadata": {},
     "output_type": "execute_result"
    }
   ],
   "source": [
    "df = pd.read_csv('https://raw.githubusercontent.com/eduardocorrearaujo/baseline_week/main/data/data_MG.csv')\n",
    "\n",
    "df.date = pd.to_datetime(df.date)\n",
    "\n",
    "df.set_index('date', inplace = True)\n",
    "\n",
    "df.head()"
   ]
  },
  {
   "cell_type": "code",
   "execution_count": 4,
   "metadata": {
    "colab": {
     "base_uri": "https://localhost:8080/"
    },
    "id": "NnVfkcMonr1L",
    "outputId": "3e8a05ce-f36a-478e-e3a0-037d54f667f9"
   },
   "outputs": [
    {
     "data": {
      "text/plain": [
       "(89,)"
      ]
     },
     "execution_count": 4,
     "metadata": {},
     "output_type": "execute_result"
    }
   ],
   "source": [
    "df.regional_geocode.unique().shape"
   ]
  },
  {
   "cell_type": "markdown",
   "metadata": {
    "id": "T98MINNeofuM"
   },
   "source": [
    "Download dos dados do Enso:"
   ]
  },
  {
   "cell_type": "code",
   "execution_count": 5,
   "metadata": {
    "colab": {
     "base_uri": "https://localhost:8080/",
     "height": 238
    },
    "id": "Od_sk_KsoSM_",
    "outputId": "156415cf-5c68-4286-e574-9153b3f09ee1"
   },
   "outputs": [
    {
     "data": {
      "text/html": [
       "<div>\n",
       "<style scoped>\n",
       "    .dataframe tbody tr th:only-of-type {\n",
       "        vertical-align: middle;\n",
       "    }\n",
       "\n",
       "    .dataframe tbody tr th {\n",
       "        vertical-align: top;\n",
       "    }\n",
       "\n",
       "    .dataframe thead th {\n",
       "        text-align: right;\n",
       "    }\n",
       "</style>\n",
       "<table border=\"1\" class=\"dataframe\">\n",
       "  <thead>\n",
       "    <tr style=\"text-align: right;\">\n",
       "      <th></th>\n",
       "      <th>enso</th>\n",
       "      <th>epiweek_label</th>\n",
       "      <th>epiweek</th>\n",
       "      <th>year</th>\n",
       "    </tr>\n",
       "    <tr>\n",
       "      <th>date</th>\n",
       "      <th></th>\n",
       "      <th></th>\n",
       "      <th></th>\n",
       "      <th></th>\n",
       "    </tr>\n",
       "  </thead>\n",
       "  <tbody>\n",
       "    <tr>\n",
       "      <th>2010-01-10</th>\n",
       "      <td>1.230226</td>\n",
       "      <td>201014</td>\n",
       "      <td>14</td>\n",
       "      <td>2010</td>\n",
       "    </tr>\n",
       "    <tr>\n",
       "      <th>2010-01-17</th>\n",
       "      <td>1.070318</td>\n",
       "      <td>201015</td>\n",
       "      <td>15</td>\n",
       "      <td>2010</td>\n",
       "    </tr>\n",
       "    <tr>\n",
       "      <th>2010-01-24</th>\n",
       "      <td>0.957734</td>\n",
       "      <td>201016</td>\n",
       "      <td>16</td>\n",
       "      <td>2010</td>\n",
       "    </tr>\n",
       "    <tr>\n",
       "      <th>2010-01-31</th>\n",
       "      <td>1.210819</td>\n",
       "      <td>201017</td>\n",
       "      <td>17</td>\n",
       "      <td>2010</td>\n",
       "    </tr>\n",
       "    <tr>\n",
       "      <th>2010-02-07</th>\n",
       "      <td>1.210819</td>\n",
       "      <td>201018</td>\n",
       "      <td>18</td>\n",
       "      <td>2010</td>\n",
       "    </tr>\n",
       "  </tbody>\n",
       "</table>\n",
       "</div>"
      ],
      "text/plain": [
       "                enso epiweek_label  epiweek  year\n",
       "date                                             \n",
       "2010-01-10  1.230226        201014       14  2010\n",
       "2010-01-17  1.070318        201015       15  2010\n",
       "2010-01-24  0.957734        201016       16  2010\n",
       "2010-01-31  1.210819        201017       17  2010\n",
       "2010-02-07  1.210819        201018       18  2010"
      ]
     },
     "execution_count": 5,
     "metadata": {},
     "output_type": "execute_result"
    }
   ],
   "source": [
    "enso = pd.read_csv('data/enso.csv.gz')\n",
    "\n",
    "enso.date = pd.to_datetime(enso.date)\n",
    "\n",
    "enso.set_index('date', inplace = True)\n",
    "\n",
    "enso = enso.loc[enso.index.year >= 2010]\n",
    "\n",
    "enso = enso.resample('W-SUN').mean()  # Resample to monthly frequency and calculate mean\n",
    "\n",
    "enso = enso.ffill()\n",
    "\n",
    "enso = add_epiweek_label(enso)\n",
    "\n",
    "enso.head()"
   ]
  },
  {
   "cell_type": "markdown",
   "metadata": {
    "id": "fGgl8Yk1pFRs"
   },
   "source": [
    "As funções abaixo são utilizadas para obter as amostras de treinamento e teste do modelo:"
   ]
  },
  {
   "cell_type": "markdown",
   "metadata": {
    "id": "syHB4B1hql4U"
   },
   "source": [
    "Definição dos dados de treinamento agregando os dados de treinamento de todas as regionais de saúde de MG"
   ]
  },
  {
   "cell_type": "markdown",
   "metadata": {
    "id": "l1bvLAq2rfsx"
   },
   "source": [
    "Definindo o ano que será predito:"
   ]
  },
  {
   "cell_type": "code",
   "execution_count": 6,
   "metadata": {
    "id": "Vyna6BR6rht8"
   },
   "outputs": [],
   "source": [
    "YEAR = 2024"
   ]
  },
  {
   "cell_type": "code",
   "execution_count": 7,
   "metadata": {
    "id": "5GfO4mLppZTz"
   },
   "outputs": [],
   "source": [
    "X_train = np.empty((0, 52, 5))\n",
    "\n",
    "y_train = np.empty((0, 52))\n",
    "\n",
    "for geo in df.regional_geocode.unique():\n",
    "\n",
    "    df_w = aggregate_data(df, geo, column = 'regional_geocode')\n",
    "\n",
    "    data = df_w.merge(enso[['enso']], left_index = True, right_index = True)\n",
    "\n",
    "    X_train_, y_train_, norm_values_ = get_train_data(data.loc[data.year < YEAR])\n",
    "\n",
    "    X_train = np.append(X_train, X_train_, axis = 0)\n",
    "\n",
    "    y_train = np.append(y_train, y_train_ , axis = 0)\n"
   ]
  },
  {
   "cell_type": "code",
   "execution_count": 8,
   "metadata": {
    "colab": {
     "base_uri": "https://localhost:8080/"
    },
    "id": "YMcXwSm_rLjZ",
    "outputId": "8da4c9a0-05e9-4e00-93a5-d7792ce6c68b"
   },
   "outputs": [
    {
     "name": "stdout",
     "output_type": "stream",
     "text": [
      "(890, 52, 5)\n",
      "(890, 52)\n"
     ]
    }
   ],
   "source": [
    "print(X_train.shape)\n",
    "print(y_train.shape)"
   ]
  },
  {
   "cell_type": "markdown",
   "metadata": {
    "id": "rg5K47ivr6Xl"
   },
   "source": [
    "#### Definindo o modelo:\n",
    "\n",
    "Abaixo há a implementação de 3 arquiteturas diferentes. \n",
    "\n",
    "`build_baseline`: Faz o uso de 2 camadas LSTM. \n",
    "`build_bi_lstm`: Possui uma camada 1 - Bi-LSTM e outras 2 camadas LSTM\n",
    "`build_conv_lstm`: Possui uma camada convolutional (CONV) e outras 2 camadas LSTM.\n",
    "\n",
    "O modelo com melhor performance foi o `build_baseline`."
   ]
  },
  {
   "cell_type": "code",
   "execution_count": 9,
   "metadata": {},
   "outputs": [],
   "source": [
    "from models import build_baseline\n",
    "from keras.optimizers import Adam\n",
    "from sklearn.model_selection import KFold\n",
    "from tensorflow.keras.callbacks import TensorBoard, EarlyStopping"
   ]
  },
  {
   "cell_type": "code",
   "execution_count": 10,
   "metadata": {
    "colab": {
     "base_uri": "https://localhost:8080/"
    },
    "id": "HCp7S9rosJ7y",
    "outputId": "11cd7a80-d0ea-4417-a135-7aa2e7adeb26"
   },
   "outputs": [
    {
     "name": "stderr",
     "output_type": "stream",
     "text": [
      "/opt/homebrew/Caskroom/miniforge/base/envs/train_lstm/lib/python3.12/site-packages/keras/src/layers/rnn/rnn.py:204: UserWarning: Do not pass an `input_shape`/`input_dim` argument to a layer. When using Sequential models, prefer using an `Input(shape)` object as the first layer in the model instead.\n",
      "  super().__init__(**kwargs)\n"
     ]
    },
    {
     "data": {
      "text/html": [
       "<pre style=\"white-space:pre;overflow-x:auto;line-height:normal;font-family:Menlo,'DejaVu Sans Mono',consolas,'Courier New',monospace\"><span style=\"font-weight: bold\">Model: \"functional\"</span>\n",
       "</pre>\n"
      ],
      "text/plain": [
       "\u001b[1mModel: \"functional\"\u001b[0m\n"
      ]
     },
     "metadata": {},
     "output_type": "display_data"
    },
    {
     "data": {
      "text/html": [
       "<pre style=\"white-space:pre;overflow-x:auto;line-height:normal;font-family:Menlo,'DejaVu Sans Mono',consolas,'Courier New',monospace\">┏━━━━━━━━━━━━━━━━━━━━━━━━━━━━━━━━━┳━━━━━━━━━━━━━━━━━━━━━━━━┳━━━━━━━━━━━━━━━┓\n",
       "┃<span style=\"font-weight: bold\"> Layer (type)                    </span>┃<span style=\"font-weight: bold\"> Output Shape           </span>┃<span style=\"font-weight: bold\">       Param # </span>┃\n",
       "┡━━━━━━━━━━━━━━━━━━━━━━━━━━━━━━━━━╇━━━━━━━━━━━━━━━━━━━━━━━━╇━━━━━━━━━━━━━━━┩\n",
       "│ input_layer (<span style=\"color: #0087ff; text-decoration-color: #0087ff\">InputLayer</span>)        │ (<span style=\"color: #00af00; text-decoration-color: #00af00\">4</span>, <span style=\"color: #00af00; text-decoration-color: #00af00\">52</span>, <span style=\"color: #00af00; text-decoration-color: #00af00\">5</span>)             │             <span style=\"color: #00af00; text-decoration-color: #00af00\">0</span> │\n",
       "├─────────────────────────────────┼────────────────────────┼───────────────┤\n",
       "│ lstm (<span style=\"color: #0087ff; text-decoration-color: #0087ff\">LSTM</span>)                     │ (<span style=\"color: #00af00; text-decoration-color: #00af00\">4</span>, <span style=\"color: #00af00; text-decoration-color: #00af00\">52</span>, <span style=\"color: #00af00; text-decoration-color: #00af00\">32</span>)            │         <span style=\"color: #00af00; text-decoration-color: #00af00\">4,864</span> │\n",
       "├─────────────────────────────────┼────────────────────────┼───────────────┤\n",
       "│ dropout_1 (<span style=\"color: #0087ff; text-decoration-color: #0087ff\">Dropout</span>)             │ (<span style=\"color: #00af00; text-decoration-color: #00af00\">4</span>, <span style=\"color: #00af00; text-decoration-color: #00af00\">52</span>, <span style=\"color: #00af00; text-decoration-color: #00af00\">32</span>)            │             <span style=\"color: #00af00; text-decoration-color: #00af00\">0</span> │\n",
       "├─────────────────────────────────┼────────────────────────┼───────────────┤\n",
       "│ lstm_1 (<span style=\"color: #0087ff; text-decoration-color: #0087ff\">LSTM</span>)                   │ (<span style=\"color: #00af00; text-decoration-color: #00af00\">4</span>, <span style=\"color: #00af00; text-decoration-color: #00af00\">32</span>)                │         <span style=\"color: #00af00; text-decoration-color: #00af00\">8,320</span> │\n",
       "├─────────────────────────────────┼────────────────────────┼───────────────┤\n",
       "│ dropout_2 (<span style=\"color: #0087ff; text-decoration-color: #0087ff\">Dropout</span>)             │ (<span style=\"color: #00af00; text-decoration-color: #00af00\">4</span>, <span style=\"color: #00af00; text-decoration-color: #00af00\">32</span>)                │             <span style=\"color: #00af00; text-decoration-color: #00af00\">0</span> │\n",
       "├─────────────────────────────────┼────────────────────────┼───────────────┤\n",
       "│ dense (<span style=\"color: #0087ff; text-decoration-color: #0087ff\">Dense</span>)                   │ (<span style=\"color: #00af00; text-decoration-color: #00af00\">4</span>, <span style=\"color: #00af00; text-decoration-color: #00af00\">52</span>)                │         <span style=\"color: #00af00; text-decoration-color: #00af00\">1,716</span> │\n",
       "└─────────────────────────────────┴────────────────────────┴───────────────┘\n",
       "</pre>\n"
      ],
      "text/plain": [
       "┏━━━━━━━━━━━━━━━━━━━━━━━━━━━━━━━━━┳━━━━━━━━━━━━━━━━━━━━━━━━┳━━━━━━━━━━━━━━━┓\n",
       "┃\u001b[1m \u001b[0m\u001b[1mLayer (type)                   \u001b[0m\u001b[1m \u001b[0m┃\u001b[1m \u001b[0m\u001b[1mOutput Shape          \u001b[0m\u001b[1m \u001b[0m┃\u001b[1m \u001b[0m\u001b[1m      Param #\u001b[0m\u001b[1m \u001b[0m┃\n",
       "┡━━━━━━━━━━━━━━━━━━━━━━━━━━━━━━━━━╇━━━━━━━━━━━━━━━━━━━━━━━━╇━━━━━━━━━━━━━━━┩\n",
       "│ input_layer (\u001b[38;5;33mInputLayer\u001b[0m)        │ (\u001b[38;5;34m4\u001b[0m, \u001b[38;5;34m52\u001b[0m, \u001b[38;5;34m5\u001b[0m)             │             \u001b[38;5;34m0\u001b[0m │\n",
       "├─────────────────────────────────┼────────────────────────┼───────────────┤\n",
       "│ lstm (\u001b[38;5;33mLSTM\u001b[0m)                     │ (\u001b[38;5;34m4\u001b[0m, \u001b[38;5;34m52\u001b[0m, \u001b[38;5;34m32\u001b[0m)            │         \u001b[38;5;34m4,864\u001b[0m │\n",
       "├─────────────────────────────────┼────────────────────────┼───────────────┤\n",
       "│ dropout_1 (\u001b[38;5;33mDropout\u001b[0m)             │ (\u001b[38;5;34m4\u001b[0m, \u001b[38;5;34m52\u001b[0m, \u001b[38;5;34m32\u001b[0m)            │             \u001b[38;5;34m0\u001b[0m │\n",
       "├─────────────────────────────────┼────────────────────────┼───────────────┤\n",
       "│ lstm_1 (\u001b[38;5;33mLSTM\u001b[0m)                   │ (\u001b[38;5;34m4\u001b[0m, \u001b[38;5;34m32\u001b[0m)                │         \u001b[38;5;34m8,320\u001b[0m │\n",
       "├─────────────────────────────────┼────────────────────────┼───────────────┤\n",
       "│ dropout_2 (\u001b[38;5;33mDropout\u001b[0m)             │ (\u001b[38;5;34m4\u001b[0m, \u001b[38;5;34m32\u001b[0m)                │             \u001b[38;5;34m0\u001b[0m │\n",
       "├─────────────────────────────────┼────────────────────────┼───────────────┤\n",
       "│ dense (\u001b[38;5;33mDense\u001b[0m)                   │ (\u001b[38;5;34m4\u001b[0m, \u001b[38;5;34m52\u001b[0m)                │         \u001b[38;5;34m1,716\u001b[0m │\n",
       "└─────────────────────────────────┴────────────────────────┴───────────────┘\n"
      ]
     },
     "metadata": {},
     "output_type": "display_data"
    },
    {
     "data": {
      "text/html": [
       "<pre style=\"white-space:pre;overflow-x:auto;line-height:normal;font-family:Menlo,'DejaVu Sans Mono',consolas,'Courier New',monospace\"><span style=\"font-weight: bold\"> Total params: </span><span style=\"color: #00af00; text-decoration-color: #00af00\">14,900</span> (58.20 KB)\n",
       "</pre>\n"
      ],
      "text/plain": [
       "\u001b[1m Total params: \u001b[0m\u001b[38;5;34m14,900\u001b[0m (58.20 KB)\n"
      ]
     },
     "metadata": {},
     "output_type": "display_data"
    },
    {
     "data": {
      "text/html": [
       "<pre style=\"white-space:pre;overflow-x:auto;line-height:normal;font-family:Menlo,'DejaVu Sans Mono',consolas,'Courier New',monospace\"><span style=\"font-weight: bold\"> Trainable params: </span><span style=\"color: #00af00; text-decoration-color: #00af00\">14,900</span> (58.20 KB)\n",
       "</pre>\n"
      ],
      "text/plain": [
       "\u001b[1m Trainable params: \u001b[0m\u001b[38;5;34m14,900\u001b[0m (58.20 KB)\n"
      ]
     },
     "metadata": {},
     "output_type": "display_data"
    },
    {
     "data": {
      "text/html": [
       "<pre style=\"white-space:pre;overflow-x:auto;line-height:normal;font-family:Menlo,'DejaVu Sans Mono',consolas,'Courier New',monospace\"><span style=\"font-weight: bold\"> Non-trainable params: </span><span style=\"color: #00af00; text-decoration-color: #00af00\">0</span> (0.00 B)\n",
       "</pre>\n"
      ],
      "text/plain": [
       "\u001b[1m Non-trainable params: \u001b[0m\u001b[38;5;34m0\u001b[0m (0.00 B)\n"
      ]
     },
     "metadata": {},
     "output_type": "display_data"
    },
    {
     "name": "stdout",
     "output_type": "stream",
     "text": [
      "None\n"
     ]
    },
    {
     "data": {
      "text/plain": [
       "<Functional name=functional, built=True>"
      ]
     },
     "execution_count": 10,
     "metadata": {},
     "output_type": "execute_result"
    }
   ],
   "source": [
    "model = build_baseline( hidden=32, features=5, predict_n=52, look_back=52, loss='msle', \n",
    "                  stateful = False, batch_size = 4,  optimizer = Adam(learning_rate=0.001))\n",
    "\n",
    "model"
   ]
  },
  {
   "cell_type": "markdown",
   "metadata": {
    "id": "BzpfdQQUtQVU"
   },
   "source": [
    "## Training the model\n",
    "\n",
    "No treinamento do modelo são utilizados: \n",
    "* Early stopping a partir do erro nos dados de validação;\n",
    "* 4 camadas para validação cruzada do modelo;\n",
    "* Treinamentos em batch (batch = 4)."
   ]
  },
  {
   "cell_type": "code",
   "execution_count": 11,
   "metadata": {},
   "outputs": [],
   "source": [
    "\n",
    "TB_callback = TensorBoard(\n",
    "        log_dir=\"./tensorboard\",\n",
    "        histogram_freq=0,\n",
    "        write_graph=True,\n",
    "        write_images=True,\n",
    "        update_freq='epoch',\n",
    "        # embeddings_freq=10\n",
    "    )\n",
    "\n",
    "seed = 7\n",
    "epochs = 100\n",
    "verbose = 1\n",
    "monitor = 'val_loss'\n",
    "min_delta = 0\n",
    "patience = 20\n"
   ]
  },
  {
   "cell_type": "code",
   "execution_count": 12,
   "metadata": {
    "id": "Wo32N4V0qr_l",
    "scrolled": true
   },
   "outputs": [
    {
     "name": "stdout",
     "output_type": "stream",
     "text": [
      "Training fold 1...\n",
      "Epoch 1/100\n",
      "\u001b[1m167/167\u001b[0m \u001b[32m━━━━━━━━━━━━━━━━━━━━\u001b[0m\u001b[37m\u001b[0m \u001b[1m3s\u001b[0m 11ms/step - accuracy: 0.0720 - loss: 0.0088 - mape: 2966969.2500 - mse: 0.0145 - val_accuracy: 0.0807 - val_loss: 0.0071 - val_mape: 4484642.5000 - val_mse: 0.0122\n",
      "Epoch 2/100\n",
      "\u001b[1m167/167\u001b[0m \u001b[32m━━━━━━━━━━━━━━━━━━━━\u001b[0m\u001b[37m\u001b[0m \u001b[1m2s\u001b[0m 10ms/step - accuracy: 0.0781 - loss: 0.0071 - mape: 3770504.5000 - mse: 0.0119 - val_accuracy: 0.0852 - val_loss: 0.0066 - val_mape: 2613133.7500 - val_mse: 0.0117\n",
      "Epoch 3/100\n",
      "\u001b[1m167/167\u001b[0m \u001b[32m━━━━━━━━━━━━━━━━━━━━\u001b[0m\u001b[37m\u001b[0m \u001b[1m2s\u001b[0m 10ms/step - accuracy: 0.0752 - loss: 0.0059 - mape: 2989423.2500 - mse: 0.0099 - val_accuracy: 0.0762 - val_loss: 0.0063 - val_mape: 3033212.2500 - val_mse: 0.0110\n",
      "Epoch 4/100\n",
      "\u001b[1m167/167\u001b[0m \u001b[32m━━━━━━━━━━━━━━━━━━━━\u001b[0m\u001b[37m\u001b[0m \u001b[1m2s\u001b[0m 10ms/step - accuracy: 0.0885 - loss: 0.0054 - mape: 2566601.7500 - mse: 0.0090 - val_accuracy: 0.1121 - val_loss: 0.0062 - val_mape: 2212321.5000 - val_mse: 0.0111\n",
      "Epoch 5/100\n",
      "\u001b[1m167/167\u001b[0m \u001b[32m━━━━━━━━━━━━━━━━━━━━\u001b[0m\u001b[37m\u001b[0m \u001b[1m2s\u001b[0m 10ms/step - accuracy: 0.0925 - loss: 0.0063 - mape: 2909344.7500 - mse: 0.0109 - val_accuracy: 0.1121 - val_loss: 0.0059 - val_mape: 1939136.8750 - val_mse: 0.0106\n",
      "Epoch 6/100\n",
      "\u001b[1m167/167\u001b[0m \u001b[32m━━━━━━━━━━━━━━━━━━━━\u001b[0m\u001b[37m\u001b[0m \u001b[1m2s\u001b[0m 10ms/step - accuracy: 0.0824 - loss: 0.0056 - mape: 2145727.7500 - mse: 0.0096 - val_accuracy: 0.1300 - val_loss: 0.0059 - val_mape: 2376589.0000 - val_mse: 0.0104\n",
      "Epoch 7/100\n",
      "\u001b[1m167/167\u001b[0m \u001b[32m━━━━━━━━━━━━━━━━━━━━\u001b[0m\u001b[37m\u001b[0m \u001b[1m2s\u001b[0m 11ms/step - accuracy: 0.0998 - loss: 0.0061 - mape: 2323484.7500 - mse: 0.0106 - val_accuracy: 0.0942 - val_loss: 0.0061 - val_mape: 1747346.3750 - val_mse: 0.0109\n",
      "Epoch 8/100\n",
      "\u001b[1m167/167\u001b[0m \u001b[32m━━━━━━━━━━━━━━━━━━━━\u001b[0m\u001b[37m\u001b[0m \u001b[1m2s\u001b[0m 10ms/step - accuracy: 0.0934 - loss: 0.0055 - mape: 2183609.5000 - mse: 0.0097 - val_accuracy: 0.1390 - val_loss: 0.0058 - val_mape: 3122624.7500 - val_mse: 0.0102\n",
      "Epoch 9/100\n",
      "\u001b[1m167/167\u001b[0m \u001b[32m━━━━━━━━━━━━━━━━━━━━\u001b[0m\u001b[37m\u001b[0m \u001b[1m2s\u001b[0m 10ms/step - accuracy: 0.0999 - loss: 0.0060 - mape: 2157557.0000 - mse: 0.0104 - val_accuracy: 0.1480 - val_loss: 0.0058 - val_mape: 3073970.5000 - val_mse: 0.0102\n",
      "Epoch 10/100\n",
      "\u001b[1m167/167\u001b[0m \u001b[32m━━━━━━━━━━━━━━━━━━━━\u001b[0m\u001b[37m\u001b[0m \u001b[1m2s\u001b[0m 10ms/step - accuracy: 0.0982 - loss: 0.0064 - mape: 3149434.2500 - mse: 0.0111 - val_accuracy: 0.1031 - val_loss: 0.0057 - val_mape: 2441029.5000 - val_mse: 0.0102\n",
      "Epoch 11/100\n",
      "\u001b[1m167/167\u001b[0m \u001b[32m━━━━━━━━━━━━━━━━━━━━\u001b[0m\u001b[37m\u001b[0m \u001b[1m2s\u001b[0m 10ms/step - accuracy: 0.0972 - loss: 0.0053 - mape: 2310186.7500 - mse: 0.0090 - val_accuracy: 0.1390 - val_loss: 0.0056 - val_mape: 1861620.0000 - val_mse: 0.0100\n",
      "Epoch 12/100\n",
      "\u001b[1m167/167\u001b[0m \u001b[32m━━━━━━━━━━━━━━━━━━━━\u001b[0m\u001b[37m\u001b[0m \u001b[1m2s\u001b[0m 10ms/step - accuracy: 0.0860 - loss: 0.0056 - mape: 1978890.8750 - mse: 0.0098 - val_accuracy: 0.1749 - val_loss: 0.0057 - val_mape: 1979395.2500 - val_mse: 0.0101\n",
      "Epoch 13/100\n",
      "\u001b[1m167/167\u001b[0m \u001b[32m━━━━━━━━━━━━━━━━━━━━\u001b[0m\u001b[37m\u001b[0m \u001b[1m2s\u001b[0m 10ms/step - accuracy: 0.1307 - loss: 0.0050 - mape: 1947944.7500 - mse: 0.0087 - val_accuracy: 0.1256 - val_loss: 0.0055 - val_mape: 2405423.5000 - val_mse: 0.0098\n",
      "Epoch 14/100\n",
      "\u001b[1m167/167\u001b[0m \u001b[32m━━━━━━━━━━━━━━━━━━━━\u001b[0m\u001b[37m\u001b[0m \u001b[1m2s\u001b[0m 10ms/step - accuracy: 0.0966 - loss: 0.0053 - mape: 2519432.2500 - mse: 0.0091 - val_accuracy: 0.0942 - val_loss: 0.0055 - val_mape: 2165512.5000 - val_mse: 0.0099\n",
      "Epoch 15/100\n",
      "\u001b[1m167/167\u001b[0m \u001b[32m━━━━━━━━━━━━━━━━━━━━\u001b[0m\u001b[37m\u001b[0m \u001b[1m2s\u001b[0m 10ms/step - accuracy: 0.1063 - loss: 0.0045 - mape: 2237238.0000 - mse: 0.0076 - val_accuracy: 0.0897 - val_loss: 0.0057 - val_mape: 3458898.2500 - val_mse: 0.0100\n",
      "Epoch 16/100\n",
      "\u001b[1m167/167\u001b[0m \u001b[32m━━━━━━━━━━━━━━━━━━━━\u001b[0m\u001b[37m\u001b[0m \u001b[1m2s\u001b[0m 12ms/step - accuracy: 0.1169 - loss: 0.0056 - mape: 2831968.5000 - mse: 0.0097 - val_accuracy: 0.1256 - val_loss: 0.0055 - val_mape: 2244440.0000 - val_mse: 0.0096\n",
      "Epoch 17/100\n",
      "\u001b[1m167/167\u001b[0m \u001b[32m━━━━━━━━━━━━━━━━━━━━\u001b[0m\u001b[37m\u001b[0m \u001b[1m2s\u001b[0m 10ms/step - accuracy: 0.1132 - loss: 0.0054 - mape: 2346762.5000 - mse: 0.0092 - val_accuracy: 0.1390 - val_loss: 0.0053 - val_mape: 2044353.6250 - val_mse: 0.0095\n",
      "Epoch 18/100\n",
      "\u001b[1m167/167\u001b[0m \u001b[32m━━━━━━━━━━━━━━━━━━━━\u001b[0m\u001b[37m\u001b[0m \u001b[1m2s\u001b[0m 10ms/step - accuracy: 0.1072 - loss: 0.0052 - mape: 2246436.0000 - mse: 0.0090 - val_accuracy: 0.1166 - val_loss: 0.0055 - val_mape: 1924271.7500 - val_mse: 0.0100\n",
      "Epoch 19/100\n",
      "\u001b[1m167/167\u001b[0m \u001b[32m━━━━━━━━━━━━━━━━━━━━\u001b[0m\u001b[37m\u001b[0m \u001b[1m2s\u001b[0m 10ms/step - accuracy: 0.1255 - loss: 0.0059 - mape: 2079572.2500 - mse: 0.0104 - val_accuracy: 0.1256 - val_loss: 0.0052 - val_mape: 2027121.7500 - val_mse: 0.0093\n",
      "Epoch 20/100\n",
      "\u001b[1m167/167\u001b[0m \u001b[32m━━━━━━━━━━━━━━━━━━━━\u001b[0m\u001b[37m\u001b[0m \u001b[1m2s\u001b[0m 10ms/step - accuracy: 0.1485 - loss: 0.0046 - mape: 2178241.5000 - mse: 0.0081 - val_accuracy: 0.0987 - val_loss: 0.0057 - val_mape: 3212012.7500 - val_mse: 0.0098\n",
      "Epoch 21/100\n",
      "\u001b[1m167/167\u001b[0m \u001b[32m━━━━━━━━━━━━━━━━━━━━\u001b[0m\u001b[37m\u001b[0m \u001b[1m2s\u001b[0m 10ms/step - accuracy: 0.1119 - loss: 0.0056 - mape: 2789666.5000 - mse: 0.0098 - val_accuracy: 0.1121 - val_loss: 0.0053 - val_mape: 2308374.5000 - val_mse: 0.0095\n",
      "Epoch 22/100\n",
      "\u001b[1m167/167\u001b[0m \u001b[32m━━━━━━━━━━━━━━━━━━━━\u001b[0m\u001b[37m\u001b[0m \u001b[1m2s\u001b[0m 10ms/step - accuracy: 0.1115 - loss: 0.0047 - mape: 2144597.2500 - mse: 0.0082 - val_accuracy: 0.1076 - val_loss: 0.0052 - val_mape: 2679943.2500 - val_mse: 0.0093\n",
      "Epoch 23/100\n",
      "\u001b[1m167/167\u001b[0m \u001b[32m━━━━━━━━━━━━━━━━━━━━\u001b[0m\u001b[37m\u001b[0m \u001b[1m2s\u001b[0m 10ms/step - accuracy: 0.1263 - loss: 0.0055 - mape: 2334404.5000 - mse: 0.0094 - val_accuracy: 0.1480 - val_loss: 0.0054 - val_mape: 1779267.8750 - val_mse: 0.0096\n",
      "Epoch 24/100\n",
      "\u001b[1m167/167\u001b[0m \u001b[32m━━━━━━━━━━━━━━━━━━━━\u001b[0m\u001b[37m\u001b[0m \u001b[1m2s\u001b[0m 10ms/step - accuracy: 0.1052 - loss: 0.0048 - mape: 2066217.0000 - mse: 0.0082 - val_accuracy: 0.1166 - val_loss: 0.0053 - val_mape: 2449786.0000 - val_mse: 0.0096\n",
      "Epoch 25/100\n",
      "\u001b[1m167/167\u001b[0m \u001b[32m━━━━━━━━━━━━━━━━━━━━\u001b[0m\u001b[37m\u001b[0m \u001b[1m2s\u001b[0m 10ms/step - accuracy: 0.1082 - loss: 0.0051 - mape: 2130393.0000 - mse: 0.0089 - val_accuracy: 0.1031 - val_loss: 0.0055 - val_mape: 3172965.5000 - val_mse: 0.0097\n",
      "Epoch 26/100\n",
      "\u001b[1m167/167\u001b[0m \u001b[32m━━━━━━━━━━━━━━━━━━━━\u001b[0m\u001b[37m\u001b[0m \u001b[1m2s\u001b[0m 10ms/step - accuracy: 0.1026 - loss: 0.0054 - mape: 2516062.2500 - mse: 0.0095 - val_accuracy: 0.1031 - val_loss: 0.0053 - val_mape: 1493240.6250 - val_mse: 0.0094\n",
      "Epoch 27/100\n",
      "\u001b[1m167/167\u001b[0m \u001b[32m━━━━━━━━━━━━━━━━━━━━\u001b[0m\u001b[37m\u001b[0m \u001b[1m2s\u001b[0m 10ms/step - accuracy: 0.1097 - loss: 0.0045 - mape: 1875541.2500 - mse: 0.0079 - val_accuracy: 0.1211 - val_loss: 0.0053 - val_mape: 2197114.0000 - val_mse: 0.0096\n",
      "Epoch 28/100\n",
      "\u001b[1m167/167\u001b[0m \u001b[32m━━━━━━━━━━━━━━━━━━━━\u001b[0m\u001b[37m\u001b[0m \u001b[1m2s\u001b[0m 10ms/step - accuracy: 0.0870 - loss: 0.0048 - mape: 2302329.5000 - mse: 0.0084 - val_accuracy: 0.1659 - val_loss: 0.0054 - val_mape: 2510801.7500 - val_mse: 0.0096\n",
      "Epoch 29/100\n",
      "\u001b[1m167/167\u001b[0m \u001b[32m━━━━━━━━━━━━━━━━━━━━\u001b[0m\u001b[37m\u001b[0m \u001b[1m2s\u001b[0m 10ms/step - accuracy: 0.0870 - loss: 0.0049 - mape: 2409959.2500 - mse: 0.0085 - val_accuracy: 0.1211 - val_loss: 0.0052 - val_mape: 1652523.8750 - val_mse: 0.0093\n",
      "Epoch 30/100\n",
      "\u001b[1m167/167\u001b[0m \u001b[32m━━━━━━━━━━━━━━━━━━━━\u001b[0m\u001b[37m\u001b[0m \u001b[1m2s\u001b[0m 10ms/step - accuracy: 0.1077 - loss: 0.0056 - mape: 2069571.1250 - mse: 0.0098 - val_accuracy: 0.1166 - val_loss: 0.0052 - val_mape: 1844014.8750 - val_mse: 0.0094\n",
      "Epoch 31/100\n",
      "\u001b[1m167/167\u001b[0m \u001b[32m━━━━━━━━━━━━━━━━━━━━\u001b[0m\u001b[37m\u001b[0m \u001b[1m2s\u001b[0m 10ms/step - accuracy: 0.1025 - loss: 0.0052 - mape: 2516515.0000 - mse: 0.0091 - val_accuracy: 0.1076 - val_loss: 0.0054 - val_mape: 2975219.0000 - val_mse: 0.0097\n",
      "Epoch 32/100\n",
      "\u001b[1m167/167\u001b[0m \u001b[32m━━━━━━━━━━━━━━━━━━━━\u001b[0m\u001b[37m\u001b[0m \u001b[1m2s\u001b[0m 10ms/step - accuracy: 0.1110 - loss: 0.0051 - mape: 2702092.0000 - mse: 0.0088 - val_accuracy: 0.1121 - val_loss: 0.0050 - val_mape: 2429575.5000 - val_mse: 0.0090\n",
      "Epoch 33/100\n",
      "\u001b[1m167/167\u001b[0m \u001b[32m━━━━━━━━━━━━━━━━━━━━\u001b[0m\u001b[37m\u001b[0m \u001b[1m2s\u001b[0m 10ms/step - accuracy: 0.0999 - loss: 0.0042 - mape: 2508377.0000 - mse: 0.0070 - val_accuracy: 0.1256 - val_loss: 0.0053 - val_mape: 2024698.7500 - val_mse: 0.0092\n",
      "Epoch 34/100\n",
      "\u001b[1m167/167\u001b[0m \u001b[32m━━━━━━━━━━━━━━━━━━━━\u001b[0m\u001b[37m\u001b[0m \u001b[1m2s\u001b[0m 10ms/step - accuracy: 0.1082 - loss: 0.0046 - mape: 2568777.7500 - mse: 0.0080 - val_accuracy: 0.1614 - val_loss: 0.0052 - val_mape: 2397283.0000 - val_mse: 0.0092\n",
      "Epoch 35/100\n",
      "\u001b[1m167/167\u001b[0m \u001b[32m━━━━━━━━━━━━━━━━━━━━\u001b[0m\u001b[37m\u001b[0m \u001b[1m2s\u001b[0m 10ms/step - accuracy: 0.1242 - loss: 0.0052 - mape: 2870588.7500 - mse: 0.0091 - val_accuracy: 0.1390 - val_loss: 0.0052 - val_mape: 1695665.6250 - val_mse: 0.0094\n",
      "Epoch 36/100\n",
      "\u001b[1m167/167\u001b[0m \u001b[32m━━━━━━━━━━━━━━━━━━━━\u001b[0m\u001b[37m\u001b[0m \u001b[1m2s\u001b[0m 10ms/step - accuracy: 0.1501 - loss: 0.0048 - mape: 2145520.7500 - mse: 0.0083 - val_accuracy: 0.1256 - val_loss: 0.0053 - val_mape: 2110724.2500 - val_mse: 0.0096\n",
      "Epoch 37/100\n",
      "\u001b[1m167/167\u001b[0m \u001b[32m━━━━━━━━━━━━━━━━━━━━\u001b[0m\u001b[37m\u001b[0m \u001b[1m2s\u001b[0m 10ms/step - accuracy: 0.1170 - loss: 0.0048 - mape: 2467818.7500 - mse: 0.0084 - val_accuracy: 0.0987 - val_loss: 0.0053 - val_mape: 3111891.2500 - val_mse: 0.0093\n",
      "Epoch 38/100\n",
      "\u001b[1m167/167\u001b[0m \u001b[32m━━━━━━━━━━━━━━━━━━━━\u001b[0m\u001b[37m\u001b[0m \u001b[1m2s\u001b[0m 11ms/step - accuracy: 0.1097 - loss: 0.0047 - mape: 2696381.5000 - mse: 0.0081 - val_accuracy: 0.1390 - val_loss: 0.0051 - val_mape: 2006492.5000 - val_mse: 0.0091\n",
      "Epoch 39/100\n",
      "\u001b[1m167/167\u001b[0m \u001b[32m━━━━━━━━━━━━━━━━━━━━\u001b[0m\u001b[37m\u001b[0m \u001b[1m2s\u001b[0m 11ms/step - accuracy: 0.1017 - loss: 0.0044 - mape: 2314061.5000 - mse: 0.0078 - val_accuracy: 0.1121 - val_loss: 0.0054 - val_mape: 2669892.0000 - val_mse: 0.0096\n",
      "Epoch 40/100\n",
      "\u001b[1m167/167\u001b[0m \u001b[32m━━━━━━━━━━━━━━━━━━━━\u001b[0m\u001b[37m\u001b[0m \u001b[1m2s\u001b[0m 10ms/step - accuracy: 0.1215 - loss: 0.0048 - mape: 2894544.5000 - mse: 0.0082 - val_accuracy: 0.1480 - val_loss: 0.0054 - val_mape: 2239259.7500 - val_mse: 0.0094\n",
      "Epoch 41/100\n",
      "\u001b[1m167/167\u001b[0m \u001b[32m━━━━━━━━━━━━━━━━━━━━\u001b[0m\u001b[37m\u001b[0m \u001b[1m2s\u001b[0m 10ms/step - accuracy: 0.1108 - loss: 0.0048 - mape: 2082221.3750 - mse: 0.0084 - val_accuracy: 0.1390 - val_loss: 0.0051 - val_mape: 2240120.7500 - val_mse: 0.0093\n",
      "Epoch 42/100\n",
      "\u001b[1m167/167\u001b[0m \u001b[32m━━━━━━━━━━━━━━━━━━━━\u001b[0m\u001b[37m\u001b[0m \u001b[1m2s\u001b[0m 10ms/step - accuracy: 0.1371 - loss: 0.0048 - mape: 2667179.7500 - mse: 0.0084 - val_accuracy: 0.1076 - val_loss: 0.0049 - val_mape: 1846601.1250 - val_mse: 0.0089\n",
      "Epoch 43/100\n",
      "\u001b[1m167/167\u001b[0m \u001b[32m━━━━━━━━━━━━━━━━━━━━\u001b[0m\u001b[37m\u001b[0m \u001b[1m2s\u001b[0m 10ms/step - accuracy: 0.1190 - loss: 0.0044 - mape: 2622482.2500 - mse: 0.0074 - val_accuracy: 0.1480 - val_loss: 0.0051 - val_mape: 2038069.1250 - val_mse: 0.0089\n",
      "Epoch 44/100\n",
      "\u001b[1m167/167\u001b[0m \u001b[32m━━━━━━━━━━━━━━━━━━━━\u001b[0m\u001b[37m\u001b[0m \u001b[1m2s\u001b[0m 10ms/step - accuracy: 0.1288 - loss: 0.0048 - mape: 2450857.0000 - mse: 0.0084 - val_accuracy: 0.1480 - val_loss: 0.0051 - val_mape: 2237518.7500 - val_mse: 0.0094\n",
      "Epoch 45/100\n",
      "\u001b[1m167/167\u001b[0m \u001b[32m━━━━━━━━━━━━━━━━━━━━\u001b[0m\u001b[37m\u001b[0m \u001b[1m2s\u001b[0m 10ms/step - accuracy: 0.1375 - loss: 0.0043 - mape: 2329025.7500 - mse: 0.0074 - val_accuracy: 0.1345 - val_loss: 0.0050 - val_mape: 2443302.7500 - val_mse: 0.0089\n",
      "Epoch 46/100\n",
      "\u001b[1m167/167\u001b[0m \u001b[32m━━━━━━━━━━━━━━━━━━━━\u001b[0m\u001b[37m\u001b[0m \u001b[1m2s\u001b[0m 10ms/step - accuracy: 0.1215 - loss: 0.0045 - mape: 2312464.0000 - mse: 0.0079 - val_accuracy: 0.1166 - val_loss: 0.0050 - val_mape: 2421766.2500 - val_mse: 0.0089\n",
      "Epoch 47/100\n",
      "\u001b[1m167/167\u001b[0m \u001b[32m━━━━━━━━━━━━━━━━━━━━\u001b[0m\u001b[37m\u001b[0m \u001b[1m2s\u001b[0m 10ms/step - accuracy: 0.1201 - loss: 0.0051 - mape: 2372343.2500 - mse: 0.0089 - val_accuracy: 0.1435 - val_loss: 0.0050 - val_mape: 2599269.0000 - val_mse: 0.0090\n",
      "Epoch 48/100\n",
      "\u001b[1m167/167\u001b[0m \u001b[32m━━━━━━━━━━━━━━━━━━━━\u001b[0m\u001b[37m\u001b[0m \u001b[1m2s\u001b[0m 10ms/step - accuracy: 0.1230 - loss: 0.0047 - mape: 2300961.2500 - mse: 0.0083 - val_accuracy: 0.1345 - val_loss: 0.0050 - val_mape: 2997177.0000 - val_mse: 0.0089\n",
      "Epoch 49/100\n",
      "\u001b[1m167/167\u001b[0m \u001b[32m━━━━━━━━━━━━━━━━━━━━\u001b[0m\u001b[37m\u001b[0m \u001b[1m2s\u001b[0m 10ms/step - accuracy: 0.1339 - loss: 0.0046 - mape: 2348304.2500 - mse: 0.0081 - val_accuracy: 0.1256 - val_loss: 0.0050 - val_mape: 2418968.5000 - val_mse: 0.0089\n",
      "Epoch 50/100\n",
      "\u001b[1m167/167\u001b[0m \u001b[32m━━━━━━━━━━━━━━━━━━━━\u001b[0m\u001b[37m\u001b[0m \u001b[1m2s\u001b[0m 10ms/step - accuracy: 0.1255 - loss: 0.0045 - mape: 2680151.0000 - mse: 0.0077 - val_accuracy: 0.1345 - val_loss: 0.0049 - val_mape: 1448975.8750 - val_mse: 0.0088\n",
      "Epoch 51/100\n",
      "\u001b[1m167/167\u001b[0m \u001b[32m━━━━━━━━━━━━━━━━━━━━\u001b[0m\u001b[37m\u001b[0m \u001b[1m2s\u001b[0m 10ms/step - accuracy: 0.1380 - loss: 0.0049 - mape: 2363574.0000 - mse: 0.0084 - val_accuracy: 0.1211 - val_loss: 0.0052 - val_mape: 2374855.5000 - val_mse: 0.0091\n",
      "Epoch 52/100\n",
      "\u001b[1m167/167\u001b[0m \u001b[32m━━━━━━━━━━━━━━━━━━━━\u001b[0m\u001b[37m\u001b[0m \u001b[1m2s\u001b[0m 10ms/step - accuracy: 0.1441 - loss: 0.0043 - mape: 2166934.0000 - mse: 0.0073 - val_accuracy: 0.1076 - val_loss: 0.0047 - val_mape: 1686109.8750 - val_mse: 0.0085\n",
      "Epoch 53/100\n",
      "\u001b[1m167/167\u001b[0m \u001b[32m━━━━━━━━━━━━━━━━━━━━\u001b[0m\u001b[37m\u001b[0m \u001b[1m2s\u001b[0m 10ms/step - accuracy: 0.1255 - loss: 0.0046 - mape: 2103107.0000 - mse: 0.0080 - val_accuracy: 0.1300 - val_loss: 0.0048 - val_mape: 1679572.1250 - val_mse: 0.0087\n",
      "Epoch 54/100\n",
      "\u001b[1m167/167\u001b[0m \u001b[32m━━━━━━━━━━━━━━━━━━━━\u001b[0m\u001b[37m\u001b[0m \u001b[1m2s\u001b[0m 10ms/step - accuracy: 0.1319 - loss: 0.0049 - mape: 2343786.2500 - mse: 0.0086 - val_accuracy: 0.1256 - val_loss: 0.0049 - val_mape: 2225460.2500 - val_mse: 0.0088\n",
      "Epoch 55/100\n",
      "\u001b[1m167/167\u001b[0m \u001b[32m━━━━━━━━━━━━━━━━━━━━\u001b[0m\u001b[37m\u001b[0m \u001b[1m2s\u001b[0m 10ms/step - accuracy: 0.1349 - loss: 0.0043 - mape: 2365050.0000 - mse: 0.0074 - val_accuracy: 0.1256 - val_loss: 0.0055 - val_mape: 2130799.0000 - val_mse: 0.0095\n",
      "Epoch 56/100\n",
      "\u001b[1m167/167\u001b[0m \u001b[32m━━━━━━━━━━━━━━━━━━━━\u001b[0m\u001b[37m\u001b[0m \u001b[1m2s\u001b[0m 10ms/step - accuracy: 0.1132 - loss: 0.0044 - mape: 1977848.2500 - mse: 0.0073 - val_accuracy: 0.1480 - val_loss: 0.0053 - val_mape: 2095633.1250 - val_mse: 0.0093\n",
      "Epoch 57/100\n",
      "\u001b[1m167/167\u001b[0m \u001b[32m━━━━━━━━━━━━━━━━━━━━\u001b[0m\u001b[37m\u001b[0m \u001b[1m2s\u001b[0m 12ms/step - accuracy: 0.1003 - loss: 0.0043 - mape: 2341819.7500 - mse: 0.0075 - val_accuracy: 0.1390 - val_loss: 0.0049 - val_mape: 1943667.2500 - val_mse: 0.0086\n",
      "Epoch 58/100\n",
      "\u001b[1m167/167\u001b[0m \u001b[32m━━━━━━━━━━━━━━━━━━━━\u001b[0m\u001b[37m\u001b[0m \u001b[1m2s\u001b[0m 10ms/step - accuracy: 0.1401 - loss: 0.0049 - mape: 2312341.0000 - mse: 0.0084 - val_accuracy: 0.1076 - val_loss: 0.0054 - val_mape: 2767815.5000 - val_mse: 0.0093\n",
      "Epoch 59/100\n",
      "\u001b[1m167/167\u001b[0m \u001b[32m━━━━━━━━━━━━━━━━━━━━\u001b[0m\u001b[37m\u001b[0m \u001b[1m2s\u001b[0m 10ms/step - accuracy: 0.0845 - loss: 0.0046 - mape: 2191220.7500 - mse: 0.0080 - val_accuracy: 0.1390 - val_loss: 0.0050 - val_mape: 2027927.1250 - val_mse: 0.0090\n",
      "Epoch 60/100\n",
      "\u001b[1m167/167\u001b[0m \u001b[32m━━━━━━━━━━━━━━━━━━━━\u001b[0m\u001b[37m\u001b[0m \u001b[1m2s\u001b[0m 10ms/step - accuracy: 0.1305 - loss: 0.0049 - mape: 2175271.2500 - mse: 0.0086 - val_accuracy: 0.1211 - val_loss: 0.0052 - val_mape: 2200081.0000 - val_mse: 0.0091\n",
      "Epoch 61/100\n",
      "\u001b[1m167/167\u001b[0m \u001b[32m━━━━━━━━━━━━━━━━━━━━\u001b[0m\u001b[37m\u001b[0m \u001b[1m2s\u001b[0m 10ms/step - accuracy: 0.1293 - loss: 0.0047 - mape: 1884499.7500 - mse: 0.0083 - val_accuracy: 0.1300 - val_loss: 0.0048 - val_mape: 2207316.7500 - val_mse: 0.0088\n",
      "Epoch 62/100\n",
      "\u001b[1m167/167\u001b[0m \u001b[32m━━━━━━━━━━━━━━━━━━━━\u001b[0m\u001b[37m\u001b[0m \u001b[1m2s\u001b[0m 10ms/step - accuracy: 0.1257 - loss: 0.0044 - mape: 2345027.7500 - mse: 0.0077 - val_accuracy: 0.1211 - val_loss: 0.0051 - val_mape: 2887891.2500 - val_mse: 0.0090\n",
      "Epoch 63/100\n",
      "\u001b[1m167/167\u001b[0m \u001b[32m━━━━━━━━━━━━━━━━━━━━\u001b[0m\u001b[37m\u001b[0m \u001b[1m2s\u001b[0m 10ms/step - accuracy: 0.1140 - loss: 0.0045 - mape: 2439136.7500 - mse: 0.0079 - val_accuracy: 0.1345 - val_loss: 0.0046 - val_mape: 2034646.6250 - val_mse: 0.0083\n",
      "Epoch 64/100\n",
      "\u001b[1m167/167\u001b[0m \u001b[32m━━━━━━━━━━━━━━━━━━━━\u001b[0m\u001b[37m\u001b[0m \u001b[1m2s\u001b[0m 10ms/step - accuracy: 0.0977 - loss: 0.0041 - mape: 2378257.7500 - mse: 0.0070 - val_accuracy: 0.1166 - val_loss: 0.0050 - val_mape: 2237432.5000 - val_mse: 0.0087\n",
      "Epoch 65/100\n",
      "\u001b[1m167/167\u001b[0m \u001b[32m━━━━━━━━━━━━━━━━━━━━\u001b[0m\u001b[37m\u001b[0m \u001b[1m2s\u001b[0m 10ms/step - accuracy: 0.1220 - loss: 0.0045 - mape: 2239229.5000 - mse: 0.0078 - val_accuracy: 0.1166 - val_loss: 0.0049 - val_mape: 1635830.5000 - val_mse: 0.0089\n",
      "Epoch 66/100\n",
      "\u001b[1m167/167\u001b[0m \u001b[32m━━━━━━━━━━━━━━━━━━━━\u001b[0m\u001b[37m\u001b[0m \u001b[1m2s\u001b[0m 11ms/step - accuracy: 0.1074 - loss: 0.0042 - mape: 2149094.2500 - mse: 0.0072 - val_accuracy: 0.1390 - val_loss: 0.0047 - val_mape: 1695357.3750 - val_mse: 0.0084\n",
      "Epoch 67/100\n",
      "\u001b[1m167/167\u001b[0m \u001b[32m━━━━━━━━━━━━━━━━━━━━\u001b[0m\u001b[37m\u001b[0m \u001b[1m2s\u001b[0m 10ms/step - accuracy: 0.1013 - loss: 0.0044 - mape: 1934038.5000 - mse: 0.0076 - val_accuracy: 0.1211 - val_loss: 0.0050 - val_mape: 2185309.2500 - val_mse: 0.0088\n",
      "Epoch 68/100\n",
      "\u001b[1m167/167\u001b[0m \u001b[32m━━━━━━━━━━━━━━━━━━━━\u001b[0m\u001b[37m\u001b[0m \u001b[1m2s\u001b[0m 10ms/step - accuracy: 0.1584 - loss: 0.0043 - mape: 2197326.7500 - mse: 0.0076 - val_accuracy: 0.1166 - val_loss: 0.0048 - val_mape: 1294602.6250 - val_mse: 0.0087\n",
      "Epoch 69/100\n",
      "\u001b[1m167/167\u001b[0m \u001b[32m━━━━━━━━━━━━━━━━━━━━\u001b[0m\u001b[37m\u001b[0m \u001b[1m2s\u001b[0m 10ms/step - accuracy: 0.1520 - loss: 0.0053 - mape: 2222807.0000 - mse: 0.0092 - val_accuracy: 0.1031 - val_loss: 0.0046 - val_mape: 2240390.2500 - val_mse: 0.0083\n",
      "Epoch 70/100\n",
      "\u001b[1m167/167\u001b[0m \u001b[32m━━━━━━━━━━━━━━━━━━━━\u001b[0m\u001b[37m\u001b[0m \u001b[1m2s\u001b[0m 10ms/step - accuracy: 0.1336 - loss: 0.0047 - mape: 2231539.7500 - mse: 0.0081 - val_accuracy: 0.1345 - val_loss: 0.0056 - val_mape: 3364668.7500 - val_mse: 0.0096\n",
      "Epoch 71/100\n",
      "\u001b[1m167/167\u001b[0m \u001b[32m━━━━━━━━━━━━━━━━━━━━\u001b[0m\u001b[37m\u001b[0m \u001b[1m2s\u001b[0m 10ms/step - accuracy: 0.1727 - loss: 0.0046 - mape: 2120361.0000 - mse: 0.0080 - val_accuracy: 0.1570 - val_loss: 0.0050 - val_mape: 2495796.7500 - val_mse: 0.0087\n",
      "Epoch 72/100\n",
      "\u001b[1m167/167\u001b[0m \u001b[32m━━━━━━━━━━━━━━━━━━━━\u001b[0m\u001b[37m\u001b[0m \u001b[1m2s\u001b[0m 10ms/step - accuracy: 0.1554 - loss: 0.0042 - mape: 2135796.2500 - mse: 0.0074 - val_accuracy: 0.1256 - val_loss: 0.0048 - val_mape: 1608618.2500 - val_mse: 0.0087\n",
      "Epoch 73/100\n",
      "\u001b[1m167/167\u001b[0m \u001b[32m━━━━━━━━━━━━━━━━━━━━\u001b[0m\u001b[37m\u001b[0m \u001b[1m2s\u001b[0m 10ms/step - accuracy: 0.1211 - loss: 0.0043 - mape: 1946139.8750 - mse: 0.0076 - val_accuracy: 0.1390 - val_loss: 0.0051 - val_mape: 2812229.5000 - val_mse: 0.0090\n",
      "Epoch 74/100\n",
      "\u001b[1m167/167\u001b[0m \u001b[32m━━━━━━━━━━━━━━━━━━━━\u001b[0m\u001b[37m\u001b[0m \u001b[1m2s\u001b[0m 12ms/step - accuracy: 0.1401 - loss: 0.0046 - mape: 2302714.5000 - mse: 0.0080 - val_accuracy: 0.1390 - val_loss: 0.0049 - val_mape: 1913027.7500 - val_mse: 0.0086\n",
      "Epoch 75/100\n",
      "\u001b[1m167/167\u001b[0m \u001b[32m━━━━━━━━━━━━━━━━━━━━\u001b[0m\u001b[37m\u001b[0m \u001b[1m2s\u001b[0m 10ms/step - accuracy: 0.1008 - loss: 0.0046 - mape: 2359548.2500 - mse: 0.0079 - val_accuracy: 0.1345 - val_loss: 0.0046 - val_mape: 1578835.3750 - val_mse: 0.0082\n",
      "Epoch 76/100\n",
      "\u001b[1m167/167\u001b[0m \u001b[32m━━━━━━━━━━━━━━━━━━━━\u001b[0m\u001b[37m\u001b[0m \u001b[1m2s\u001b[0m 10ms/step - accuracy: 0.1190 - loss: 0.0044 - mape: 1673967.2500 - mse: 0.0077 - val_accuracy: 0.1256 - val_loss: 0.0047 - val_mape: 1996307.7500 - val_mse: 0.0085\n",
      "Epoch 77/100\n",
      "\u001b[1m167/167\u001b[0m \u001b[32m━━━━━━━━━━━━━━━━━━━━\u001b[0m\u001b[37m\u001b[0m \u001b[1m2s\u001b[0m 10ms/step - accuracy: 0.1230 - loss: 0.0039 - mape: 2025179.8750 - mse: 0.0069 - val_accuracy: 0.1345 - val_loss: 0.0051 - val_mape: 2567261.5000 - val_mse: 0.0088\n",
      "Epoch 78/100\n",
      "\u001b[1m167/167\u001b[0m \u001b[32m━━━━━━━━━━━━━━━━━━━━\u001b[0m\u001b[37m\u001b[0m \u001b[1m2s\u001b[0m 11ms/step - accuracy: 0.1132 - loss: 0.0047 - mape: 1849258.8750 - mse: 0.0083 - val_accuracy: 0.1345 - val_loss: 0.0047 - val_mape: 2157582.2500 - val_mse: 0.0084\n",
      "Epoch 79/100\n",
      "\u001b[1m167/167\u001b[0m \u001b[32m━━━━━━━━━━━━━━━━━━━━\u001b[0m\u001b[37m\u001b[0m \u001b[1m2s\u001b[0m 10ms/step - accuracy: 0.1450 - loss: 0.0042 - mape: 2072644.8750 - mse: 0.0075 - val_accuracy: 0.1256 - val_loss: 0.0045 - val_mape: 2320662.0000 - val_mse: 0.0081\n",
      "Epoch 80/100\n",
      "\u001b[1m167/167\u001b[0m \u001b[32m━━━━━━━━━━━━━━━━━━━━\u001b[0m\u001b[37m\u001b[0m \u001b[1m2s\u001b[0m 10ms/step - accuracy: 0.1160 - loss: 0.0046 - mape: 2718566.2500 - mse: 0.0080 - val_accuracy: 0.1256 - val_loss: 0.0050 - val_mape: 2236822.7500 - val_mse: 0.0087\n",
      "Epoch 81/100\n",
      "\u001b[1m167/167\u001b[0m \u001b[32m━━━━━━━━━━━━━━━━━━━━\u001b[0m\u001b[37m\u001b[0m \u001b[1m2s\u001b[0m 10ms/step - accuracy: 0.1014 - loss: 0.0043 - mape: 2036437.7500 - mse: 0.0073 - val_accuracy: 0.1211 - val_loss: 0.0048 - val_mape: 2312011.2500 - val_mse: 0.0087\n",
      "Epoch 82/100\n",
      "\u001b[1m167/167\u001b[0m \u001b[32m━━━━━━━━━━━━━━━━━━━━\u001b[0m\u001b[37m\u001b[0m \u001b[1m2s\u001b[0m 10ms/step - accuracy: 0.1082 - loss: 0.0042 - mape: 2141892.0000 - mse: 0.0073 - val_accuracy: 0.0942 - val_loss: 0.0047 - val_mape: 2003359.6250 - val_mse: 0.0084\n",
      "Epoch 83/100\n",
      "\u001b[1m167/167\u001b[0m \u001b[32m━━━━━━━━━━━━━━━━━━━━\u001b[0m\u001b[37m\u001b[0m \u001b[1m2s\u001b[0m 10ms/step - accuracy: 0.1465 - loss: 0.0043 - mape: 1908655.7500 - mse: 0.0075 - val_accuracy: 0.1390 - val_loss: 0.0049 - val_mape: 2678793.0000 - val_mse: 0.0087\n",
      "Epoch 84/100\n",
      "\u001b[1m167/167\u001b[0m \u001b[32m━━━━━━━━━━━━━━━━━━━━\u001b[0m\u001b[37m\u001b[0m \u001b[1m2s\u001b[0m 10ms/step - accuracy: 0.1014 - loss: 0.0045 - mape: 2159923.7500 - mse: 0.0080 - val_accuracy: 0.1166 - val_loss: 0.0048 - val_mape: 1761283.2500 - val_mse: 0.0084\n",
      "Epoch 85/100\n",
      "\u001b[1m167/167\u001b[0m \u001b[32m━━━━━━━━━━━━━━━━━━━━\u001b[0m\u001b[37m\u001b[0m \u001b[1m2s\u001b[0m 10ms/step - accuracy: 0.1273 - loss: 0.0042 - mape: 1988390.3750 - mse: 0.0074 - val_accuracy: 0.0897 - val_loss: 0.0045 - val_mape: 2447538.0000 - val_mse: 0.0082\n",
      "Epoch 86/100\n",
      "\u001b[1m167/167\u001b[0m \u001b[32m━━━━━━━━━━━━━━━━━━━━\u001b[0m\u001b[37m\u001b[0m \u001b[1m2s\u001b[0m 10ms/step - accuracy: 0.1214 - loss: 0.0047 - mape: 2703280.0000 - mse: 0.0083 - val_accuracy: 0.1256 - val_loss: 0.0046 - val_mape: 1680356.5000 - val_mse: 0.0083\n",
      "Epoch 87/100\n",
      "\u001b[1m167/167\u001b[0m \u001b[32m━━━━━━━━━━━━━━━━━━━━\u001b[0m\u001b[37m\u001b[0m \u001b[1m2s\u001b[0m 12ms/step - accuracy: 0.1044 - loss: 0.0043 - mape: 1811866.3750 - mse: 0.0075 - val_accuracy: 0.1121 - val_loss: 0.0047 - val_mape: 2794971.0000 - val_mse: 0.0083\n",
      "Epoch 88/100\n",
      "\u001b[1m167/167\u001b[0m \u001b[32m━━━━━━━━━━━━━━━━━━━━\u001b[0m\u001b[37m\u001b[0m \u001b[1m2s\u001b[0m 10ms/step - accuracy: 0.1577 - loss: 0.0043 - mape: 2089050.7500 - mse: 0.0075 - val_accuracy: 0.1076 - val_loss: 0.0048 - val_mape: 1419155.2500 - val_mse: 0.0085\n",
      "Epoch 89/100\n",
      "\u001b[1m167/167\u001b[0m \u001b[32m━━━━━━━━━━━━━━━━━━━━\u001b[0m\u001b[37m\u001b[0m \u001b[1m2s\u001b[0m 10ms/step - accuracy: 0.1388 - loss: 0.0041 - mape: 1627691.1250 - mse: 0.0072 - val_accuracy: 0.1390 - val_loss: 0.0046 - val_mape: 1261553.6250 - val_mse: 0.0084\n",
      "Epoch 90/100\n",
      "\u001b[1m167/167\u001b[0m \u001b[32m━━━━━━━━━━━━━━━━━━━━\u001b[0m\u001b[37m\u001b[0m \u001b[1m2s\u001b[0m 10ms/step - accuracy: 0.1019 - loss: 0.0037 - mape: 2066106.6250 - mse: 0.0062 - val_accuracy: 0.1345 - val_loss: 0.0049 - val_mape: 2001190.5000 - val_mse: 0.0086\n",
      "Epoch 91/100\n",
      "\u001b[1m167/167\u001b[0m \u001b[32m━━━━━━━━━━━━━━━━━━━━\u001b[0m\u001b[37m\u001b[0m \u001b[1m2s\u001b[0m 10ms/step - accuracy: 0.1132 - loss: 0.0042 - mape: 2056316.3750 - mse: 0.0073 - val_accuracy: 0.1076 - val_loss: 0.0047 - val_mape: 1479092.5000 - val_mse: 0.0084\n",
      "Epoch 92/100\n",
      "\u001b[1m167/167\u001b[0m \u001b[32m━━━━━━━━━━━━━━━━━━━━\u001b[0m\u001b[37m\u001b[0m \u001b[1m2s\u001b[0m 10ms/step - accuracy: 0.1407 - loss: 0.0044 - mape: 2135852.2500 - mse: 0.0075 - val_accuracy: 0.1166 - val_loss: 0.0047 - val_mape: 1498667.2500 - val_mse: 0.0084\n",
      "Epoch 93/100\n",
      "\u001b[1m167/167\u001b[0m \u001b[32m━━━━━━━━━━━━━━━━━━━━\u001b[0m\u001b[37m\u001b[0m \u001b[1m2s\u001b[0m 10ms/step - accuracy: 0.1347 - loss: 0.0043 - mape: 1689491.1250 - mse: 0.0076 - val_accuracy: 0.1211 - val_loss: 0.0046 - val_mape: 1458707.2500 - val_mse: 0.0083\n",
      "Epoch 94/100\n",
      "\u001b[1m167/167\u001b[0m \u001b[32m━━━━━━━━━━━━━━━━━━━━\u001b[0m\u001b[37m\u001b[0m \u001b[1m2s\u001b[0m 10ms/step - accuracy: 0.1452 - loss: 0.0040 - mape: 1751663.3750 - mse: 0.0070 - val_accuracy: 0.1166 - val_loss: 0.0048 - val_mape: 1811123.7500 - val_mse: 0.0086\n",
      "Epoch 95/100\n",
      "\u001b[1m167/167\u001b[0m \u001b[32m━━━━━━━━━━━━━━━━━━━━\u001b[0m\u001b[37m\u001b[0m \u001b[1m2s\u001b[0m 10ms/step - accuracy: 0.1260 - loss: 0.0042 - mape: 1980017.0000 - mse: 0.0073 - val_accuracy: 0.1166 - val_loss: 0.0047 - val_mape: 1567082.8750 - val_mse: 0.0085\n",
      "Epoch 96/100\n",
      "\u001b[1m167/167\u001b[0m \u001b[32m━━━━━━━━━━━━━━━━━━━━\u001b[0m\u001b[37m\u001b[0m \u001b[1m2s\u001b[0m 10ms/step - accuracy: 0.0937 - loss: 0.0042 - mape: 2252390.2500 - mse: 0.0072 - val_accuracy: 0.1256 - val_loss: 0.0048 - val_mape: 1742810.3750 - val_mse: 0.0085\n",
      "Epoch 97/100\n",
      "\u001b[1m167/167\u001b[0m \u001b[32m━━━━━━━━━━━━━━━━━━━━\u001b[0m\u001b[37m\u001b[0m \u001b[1m2s\u001b[0m 10ms/step - accuracy: 0.1251 - loss: 0.0040 - mape: 1872255.7500 - mse: 0.0071 - val_accuracy: 0.1525 - val_loss: 0.0052 - val_mape: 2379428.7500 - val_mse: 0.0089\n",
      "Epoch 98/100\n",
      "\u001b[1m167/167\u001b[0m \u001b[32m━━━━━━━━━━━━━━━━━━━━\u001b[0m\u001b[37m\u001b[0m \u001b[1m2s\u001b[0m 10ms/step - accuracy: 0.1138 - loss: 0.0042 - mape: 2423772.5000 - mse: 0.0073 - val_accuracy: 0.1121 - val_loss: 0.0052 - val_mape: 2230128.7500 - val_mse: 0.0090\n",
      "Epoch 99/100\n",
      "\u001b[1m167/167\u001b[0m \u001b[32m━━━━━━━━━━━━━━━━━━━━\u001b[0m\u001b[37m\u001b[0m \u001b[1m2s\u001b[0m 12ms/step - accuracy: 0.1193 - loss: 0.0045 - mape: 1628968.2500 - mse: 0.0078 - val_accuracy: 0.1435 - val_loss: 0.0049 - val_mape: 2129897.0000 - val_mse: 0.0086\n",
      "Epoch 100/100\n",
      "\u001b[1m167/167\u001b[0m \u001b[32m━━━━━━━━━━━━━━━━━━━━\u001b[0m\u001b[37m\u001b[0m \u001b[1m2s\u001b[0m 10ms/step - accuracy: 0.1240 - loss: 0.0040 - mape: 2220700.5000 - mse: 0.0067 - val_accuracy: 0.0987 - val_loss: 0.0048 - val_mape: 1746547.1250 - val_mse: 0.0084\n",
      "Training fold 2...\n",
      "Epoch 1/100\n",
      "\u001b[1m167/167\u001b[0m \u001b[32m━━━━━━━━━━━━━━━━━━━━\u001b[0m\u001b[37m\u001b[0m \u001b[1m2s\u001b[0m 10ms/step - accuracy: 0.1165 - loss: 0.0045 - mape: 1733855.7500 - mse: 0.0080 - val_accuracy: 0.1166 - val_loss: 0.0049 - val_mape: 2488568.0000 - val_mse: 0.0085\n",
      "Epoch 2/100\n",
      "\u001b[1m167/167\u001b[0m \u001b[32m━━━━━━━━━━━━━━━━━━━━\u001b[0m\u001b[37m\u001b[0m \u001b[1m2s\u001b[0m 10ms/step - accuracy: 0.1252 - loss: 0.0044 - mape: 2240094.2500 - mse: 0.0078 - val_accuracy: 0.1121 - val_loss: 0.0045 - val_mape: 2150400.7500 - val_mse: 0.0078\n",
      "Epoch 3/100\n",
      "\u001b[1m167/167\u001b[0m \u001b[32m━━━━━━━━━━━━━━━━━━━━\u001b[0m\u001b[37m\u001b[0m \u001b[1m2s\u001b[0m 10ms/step - accuracy: 0.1062 - loss: 0.0043 - mape: 2090913.3750 - mse: 0.0077 - val_accuracy: 0.1211 - val_loss: 0.0045 - val_mape: 2680930.5000 - val_mse: 0.0075\n",
      "Epoch 4/100\n",
      "\u001b[1m167/167\u001b[0m \u001b[32m━━━━━━━━━━━━━━━━━━━━\u001b[0m\u001b[37m\u001b[0m \u001b[1m2s\u001b[0m 10ms/step - accuracy: 0.1432 - loss: 0.0041 - mape: 2030257.5000 - mse: 0.0073 - val_accuracy: 0.1480 - val_loss: 0.0043 - val_mape: 2636358.5000 - val_mse: 0.0073\n",
      "Epoch 5/100\n",
      "\u001b[1m167/167\u001b[0m \u001b[32m━━━━━━━━━━━━━━━━━━━━\u001b[0m\u001b[37m\u001b[0m \u001b[1m2s\u001b[0m 10ms/step - accuracy: 0.1089 - loss: 0.0042 - mape: 1832604.8750 - mse: 0.0075 - val_accuracy: 0.0942 - val_loss: 0.0047 - val_mape: 2532243.2500 - val_mse: 0.0081\n",
      "Epoch 6/100\n",
      "\u001b[1m167/167\u001b[0m \u001b[32m━━━━━━━━━━━━━━━━━━━━\u001b[0m\u001b[37m\u001b[0m \u001b[1m2s\u001b[0m 10ms/step - accuracy: 0.1186 - loss: 0.0039 - mape: 2577777.0000 - mse: 0.0066 - val_accuracy: 0.1300 - val_loss: 0.0046 - val_mape: 1585743.1250 - val_mse: 0.0078\n",
      "Epoch 7/100\n",
      "\u001b[1m167/167\u001b[0m \u001b[32m━━━━━━━━━━━━━━━━━━━━\u001b[0m\u001b[37m\u001b[0m \u001b[1m2s\u001b[0m 10ms/step - accuracy: 0.1162 - loss: 0.0042 - mape: 2125623.2500 - mse: 0.0073 - val_accuracy: 0.1435 - val_loss: 0.0044 - val_mape: 2290469.5000 - val_mse: 0.0076\n",
      "Epoch 8/100\n",
      "\u001b[1m167/167\u001b[0m \u001b[32m━━━━━━━━━━━━━━━━━━━━\u001b[0m\u001b[37m\u001b[0m \u001b[1m2s\u001b[0m 10ms/step - accuracy: 0.1371 - loss: 0.0044 - mape: 2128225.7500 - mse: 0.0076 - val_accuracy: 0.0942 - val_loss: 0.0045 - val_mape: 1757265.5000 - val_mse: 0.0077\n",
      "Epoch 9/100\n",
      "\u001b[1m167/167\u001b[0m \u001b[32m━━━━━━━━━━━━━━━━━━━━\u001b[0m\u001b[37m\u001b[0m \u001b[1m2s\u001b[0m 12ms/step - accuracy: 0.1274 - loss: 0.0041 - mape: 1811708.3750 - mse: 0.0073 - val_accuracy: 0.0987 - val_loss: 0.0046 - val_mape: 2848223.2500 - val_mse: 0.0079\n",
      "Epoch 10/100\n",
      "\u001b[1m167/167\u001b[0m \u001b[32m━━━━━━━━━━━━━━━━━━━━\u001b[0m\u001b[37m\u001b[0m \u001b[1m2s\u001b[0m 10ms/step - accuracy: 0.1068 - loss: 0.0040 - mape: 2140661.7500 - mse: 0.0069 - val_accuracy: 0.1256 - val_loss: 0.0047 - val_mape: 1923834.2500 - val_mse: 0.0080\n",
      "Epoch 11/100\n",
      "\u001b[1m167/167\u001b[0m \u001b[32m━━━━━━━━━━━━━━━━━━━━\u001b[0m\u001b[37m\u001b[0m \u001b[1m2s\u001b[0m 10ms/step - accuracy: 0.1184 - loss: 0.0046 - mape: 1797396.5000 - mse: 0.0080 - val_accuracy: 0.1166 - val_loss: 0.0045 - val_mape: 2001674.2500 - val_mse: 0.0078\n",
      "Epoch 12/100\n",
      "\u001b[1m167/167\u001b[0m \u001b[32m━━━━━━━━━━━━━━━━━━━━\u001b[0m\u001b[37m\u001b[0m \u001b[1m2s\u001b[0m 11ms/step - accuracy: 0.1082 - loss: 0.0040 - mape: 1832563.3750 - mse: 0.0071 - val_accuracy: 0.0852 - val_loss: 0.0043 - val_mape: 1939473.6250 - val_mse: 0.0074\n",
      "Epoch 13/100\n",
      "\u001b[1m167/167\u001b[0m \u001b[32m━━━━━━━━━━━━━━━━━━━━\u001b[0m\u001b[37m\u001b[0m \u001b[1m2s\u001b[0m 10ms/step - accuracy: 0.1107 - loss: 0.0038 - mape: 1861034.5000 - mse: 0.0066 - val_accuracy: 0.1256 - val_loss: 0.0049 - val_mape: 1940729.6250 - val_mse: 0.0084\n",
      "Epoch 14/100\n",
      "\u001b[1m167/167\u001b[0m \u001b[32m━━━━━━━━━━━━━━━━━━━━\u001b[0m\u001b[37m\u001b[0m \u001b[1m2s\u001b[0m 10ms/step - accuracy: 0.1103 - loss: 0.0039 - mape: 1986492.5000 - mse: 0.0069 - val_accuracy: 0.1121 - val_loss: 0.0050 - val_mape: 1401461.1250 - val_mse: 0.0087\n",
      "Epoch 15/100\n",
      "\u001b[1m167/167\u001b[0m \u001b[32m━━━━━━━━━━━━━━━━━━━━\u001b[0m\u001b[37m\u001b[0m \u001b[1m2s\u001b[0m 10ms/step - accuracy: 0.1324 - loss: 0.0040 - mape: 1874272.8750 - mse: 0.0070 - val_accuracy: 0.0762 - val_loss: 0.0052 - val_mape: 2388680.0000 - val_mse: 0.0087\n",
      "Epoch 16/100\n",
      "\u001b[1m167/167\u001b[0m \u001b[32m━━━━━━━━━━━━━━━━━━━━\u001b[0m\u001b[37m\u001b[0m \u001b[1m2s\u001b[0m 10ms/step - accuracy: 0.1373 - loss: 0.0045 - mape: 1735002.8750 - mse: 0.0080 - val_accuracy: 0.1211 - val_loss: 0.0049 - val_mape: 2744530.2500 - val_mse: 0.0084\n",
      "Epoch 17/100\n",
      "\u001b[1m167/167\u001b[0m \u001b[32m━━━━━━━━━━━━━━━━━━━━\u001b[0m\u001b[37m\u001b[0m \u001b[1m2s\u001b[0m 11ms/step - accuracy: 0.1354 - loss: 0.0042 - mape: 1915740.0000 - mse: 0.0075 - val_accuracy: 0.0942 - val_loss: 0.0047 - val_mape: 2467577.7500 - val_mse: 0.0081\n",
      "Epoch 18/100\n",
      "\u001b[1m167/167\u001b[0m \u001b[32m━━━━━━━━━━━━━━━━━━━━\u001b[0m\u001b[37m\u001b[0m \u001b[1m2s\u001b[0m 10ms/step - accuracy: 0.1018 - loss: 0.0039 - mape: 1994625.3750 - mse: 0.0069 - val_accuracy: 0.1031 - val_loss: 0.0048 - val_mape: 2352193.2500 - val_mse: 0.0082\n",
      "Epoch 19/100\n",
      "\u001b[1m167/167\u001b[0m \u001b[32m━━━━━━━━━━━━━━━━━━━━\u001b[0m\u001b[37m\u001b[0m \u001b[1m2s\u001b[0m 12ms/step - accuracy: 0.1590 - loss: 0.0043 - mape: 1773490.0000 - mse: 0.0077 - val_accuracy: 0.0942 - val_loss: 0.0049 - val_mape: 1907690.0000 - val_mse: 0.0084\n",
      "Epoch 20/100\n",
      "\u001b[1m167/167\u001b[0m \u001b[32m━━━━━━━━━━━━━━━━━━━━\u001b[0m\u001b[37m\u001b[0m \u001b[1m2s\u001b[0m 10ms/step - accuracy: 0.1218 - loss: 0.0035 - mape: 2211719.5000 - mse: 0.0062 - val_accuracy: 0.1121 - val_loss: 0.0047 - val_mape: 1566762.5000 - val_mse: 0.0081\n",
      "Epoch 21/100\n",
      "\u001b[1m167/167\u001b[0m \u001b[32m━━━━━━━━━━━━━━━━━━━━\u001b[0m\u001b[37m\u001b[0m \u001b[1m2s\u001b[0m 10ms/step - accuracy: 0.1084 - loss: 0.0042 - mape: 1859706.6250 - mse: 0.0073 - val_accuracy: 0.1166 - val_loss: 0.0049 - val_mape: 2170629.5000 - val_mse: 0.0085\n",
      "Epoch 22/100\n",
      "\u001b[1m167/167\u001b[0m \u001b[32m━━━━━━━━━━━━━━━━━━━━\u001b[0m\u001b[37m\u001b[0m \u001b[1m2s\u001b[0m 10ms/step - accuracy: 0.1261 - loss: 0.0047 - mape: 1648318.6250 - mse: 0.0083 - val_accuracy: 0.1345 - val_loss: 0.0046 - val_mape: 1642642.3750 - val_mse: 0.0077\n",
      "Epoch 23/100\n",
      "\u001b[1m167/167\u001b[0m \u001b[32m━━━━━━━━━━━━━━━━━━━━\u001b[0m\u001b[37m\u001b[0m \u001b[1m2s\u001b[0m 10ms/step - accuracy: 0.0959 - loss: 0.0044 - mape: 1535652.0000 - mse: 0.0077 - val_accuracy: 0.1166 - val_loss: 0.0054 - val_mape: 2003596.6250 - val_mse: 0.0092\n",
      "Epoch 24/100\n",
      "\u001b[1m167/167\u001b[0m \u001b[32m━━━━━━━━━━━━━━━━━━━━\u001b[0m\u001b[37m\u001b[0m \u001b[1m2s\u001b[0m 10ms/step - accuracy: 0.1670 - loss: 0.0044 - mape: 1733259.5000 - mse: 0.0078 - val_accuracy: 0.0897 - val_loss: 0.0050 - val_mape: 1345599.6250 - val_mse: 0.0086\n",
      "Epoch 25/100\n",
      "\u001b[1m167/167\u001b[0m \u001b[32m━━━━━━━━━━━━━━━━━━━━\u001b[0m\u001b[37m\u001b[0m \u001b[1m2s\u001b[0m 10ms/step - accuracy: 0.1064 - loss: 0.0040 - mape: 1528082.2500 - mse: 0.0071 - val_accuracy: 0.0628 - val_loss: 0.0051 - val_mape: 1960467.5000 - val_mse: 0.0087\n",
      "Epoch 26/100\n",
      "\u001b[1m167/167\u001b[0m \u001b[32m━━━━━━━━━━━━━━━━━━━━\u001b[0m\u001b[37m\u001b[0m \u001b[1m2s\u001b[0m 10ms/step - accuracy: 0.1106 - loss: 0.0038 - mape: 1829855.5000 - mse: 0.0066 - val_accuracy: 0.0942 - val_loss: 0.0050 - val_mape: 1792567.6250 - val_mse: 0.0084\n",
      "Epoch 27/100\n",
      "\u001b[1m167/167\u001b[0m \u001b[32m━━━━━━━━━━━━━━━━━━━━\u001b[0m\u001b[37m\u001b[0m \u001b[1m2s\u001b[0m 12ms/step - accuracy: 0.1548 - loss: 0.0036 - mape: 1708871.3750 - mse: 0.0063 - val_accuracy: 0.1031 - val_loss: 0.0047 - val_mape: 1819069.5000 - val_mse: 0.0082\n",
      "Epoch 28/100\n",
      "\u001b[1m167/167\u001b[0m \u001b[32m━━━━━━━━━━━━━━━━━━━━\u001b[0m\u001b[37m\u001b[0m \u001b[1m2s\u001b[0m 10ms/step - accuracy: 0.1614 - loss: 0.0038 - mape: 2120015.2500 - mse: 0.0068 - val_accuracy: 0.0807 - val_loss: 0.0048 - val_mape: 1979052.6250 - val_mse: 0.0082\n",
      "Epoch 29/100\n",
      "\u001b[1m167/167\u001b[0m \u001b[32m━━━━━━━━━━━━━━━━━━━━\u001b[0m\u001b[37m\u001b[0m \u001b[1m2s\u001b[0m 10ms/step - accuracy: 0.1233 - loss: 0.0039 - mape: 1716966.6250 - mse: 0.0069 - val_accuracy: 0.0987 - val_loss: 0.0050 - val_mape: 1939659.6250 - val_mse: 0.0085\n",
      "Epoch 30/100\n",
      "\u001b[1m167/167\u001b[0m \u001b[32m━━━━━━━━━━━━━━━━━━━━\u001b[0m\u001b[37m\u001b[0m \u001b[1m2s\u001b[0m 10ms/step - accuracy: 0.1033 - loss: 0.0032 - mape: 1677485.3750 - mse: 0.0056 - val_accuracy: 0.0852 - val_loss: 0.0049 - val_mape: 993892.8125 - val_mse: 0.0085\n",
      "Epoch 31/100\n",
      "\u001b[1m167/167\u001b[0m \u001b[32m━━━━━━━━━━━━━━━━━━━━\u001b[0m\u001b[37m\u001b[0m \u001b[1m2s\u001b[0m 10ms/step - accuracy: 0.1643 - loss: 0.0040 - mape: 1617485.8750 - mse: 0.0072 - val_accuracy: 0.1076 - val_loss: 0.0050 - val_mape: 2089580.6250 - val_mse: 0.0086\n",
      "Epoch 32/100\n",
      "\u001b[1m167/167\u001b[0m \u001b[32m━━━━━━━━━━━━━━━━━━━━\u001b[0m\u001b[37m\u001b[0m \u001b[1m2s\u001b[0m 10ms/step - accuracy: 0.1329 - loss: 0.0036 - mape: 2145377.7500 - mse: 0.0063 - val_accuracy: 0.0897 - val_loss: 0.0047 - val_mape: 1838903.1250 - val_mse: 0.0081\n",
      "Training fold 3...\n",
      "Epoch 1/100\n",
      "\u001b[1m167/167\u001b[0m \u001b[32m━━━━━━━━━━━━━━━━━━━━\u001b[0m\u001b[37m\u001b[0m \u001b[1m2s\u001b[0m 10ms/step - accuracy: 0.1512 - loss: 0.0045 - mape: 1869615.5000 - mse: 0.0080 - val_accuracy: 0.1441 - val_loss: 0.0042 - val_mape: 2129807.5000 - val_mse: 0.0074\n",
      "Epoch 2/100\n",
      "\u001b[1m167/167\u001b[0m \u001b[32m━━━━━━━━━━━━━━━━━━━━\u001b[0m\u001b[37m\u001b[0m \u001b[1m2s\u001b[0m 10ms/step - accuracy: 0.1383 - loss: 0.0040 - mape: 1864573.3750 - mse: 0.0071 - val_accuracy: 0.1081 - val_loss: 0.0040 - val_mape: 2489295.7500 - val_mse: 0.0070\n",
      "Epoch 3/100\n",
      "\u001b[1m167/167\u001b[0m \u001b[32m━━━━━━━━━━━━━━━━━━━━\u001b[0m\u001b[37m\u001b[0m \u001b[1m2s\u001b[0m 10ms/step - accuracy: 0.1468 - loss: 0.0045 - mape: 1789089.3750 - mse: 0.0081 - val_accuracy: 0.1036 - val_loss: 0.0041 - val_mape: 1766228.5000 - val_mse: 0.0073\n",
      "Epoch 4/100\n",
      "\u001b[1m167/167\u001b[0m \u001b[32m━━━━━━━━━━━━━━━━━━━━\u001b[0m\u001b[37m\u001b[0m \u001b[1m2s\u001b[0m 12ms/step - accuracy: 0.1414 - loss: 0.0042 - mape: 1785751.7500 - mse: 0.0074 - val_accuracy: 0.1351 - val_loss: 0.0044 - val_mape: 1971170.1250 - val_mse: 0.0079\n",
      "Epoch 5/100\n",
      "\u001b[1m167/167\u001b[0m \u001b[32m━━━━━━━━━━━━━━━━━━━━\u001b[0m\u001b[37m\u001b[0m \u001b[1m2s\u001b[0m 10ms/step - accuracy: 0.1323 - loss: 0.0040 - mape: 1797956.6250 - mse: 0.0071 - val_accuracy: 0.1081 - val_loss: 0.0042 - val_mape: 1782562.8750 - val_mse: 0.0073\n",
      "Epoch 6/100\n",
      "\u001b[1m167/167\u001b[0m \u001b[32m━━━━━━━━━━━━━━━━━━━━\u001b[0m\u001b[37m\u001b[0m \u001b[1m2s\u001b[0m 10ms/step - accuracy: 0.1383 - loss: 0.0039 - mape: 1490840.7500 - mse: 0.0070 - val_accuracy: 0.1081 - val_loss: 0.0043 - val_mape: 2156323.2500 - val_mse: 0.0076\n",
      "Epoch 7/100\n",
      "\u001b[1m167/167\u001b[0m \u001b[32m━━━━━━━━━━━━━━━━━━━━\u001b[0m\u001b[37m\u001b[0m \u001b[1m2s\u001b[0m 10ms/step - accuracy: 0.1343 - loss: 0.0040 - mape: 1767080.7500 - mse: 0.0072 - val_accuracy: 0.1036 - val_loss: 0.0043 - val_mape: 1358754.5000 - val_mse: 0.0075\n",
      "Epoch 8/100\n",
      "\u001b[1m167/167\u001b[0m \u001b[32m━━━━━━━━━━━━━━━━━━━━\u001b[0m\u001b[37m\u001b[0m \u001b[1m2s\u001b[0m 11ms/step - accuracy: 0.0999 - loss: 0.0039 - mape: 1823605.3750 - mse: 0.0069 - val_accuracy: 0.1306 - val_loss: 0.0042 - val_mape: 1589424.0000 - val_mse: 0.0073\n",
      "Epoch 9/100\n",
      "\u001b[1m167/167\u001b[0m \u001b[32m━━━━━━━━━━━━━━━━━━━━\u001b[0m\u001b[37m\u001b[0m \u001b[1m2s\u001b[0m 10ms/step - accuracy: 0.1274 - loss: 0.0042 - mape: 1659619.5000 - mse: 0.0074 - val_accuracy: 0.1171 - val_loss: 0.0044 - val_mape: 1860381.1250 - val_mse: 0.0077\n",
      "Epoch 10/100\n",
      "\u001b[1m167/167\u001b[0m \u001b[32m━━━━━━━━━━━━━━━━━━━━\u001b[0m\u001b[37m\u001b[0m \u001b[1m2s\u001b[0m 10ms/step - accuracy: 0.1113 - loss: 0.0042 - mape: 1838981.8750 - mse: 0.0075 - val_accuracy: 0.1171 - val_loss: 0.0043 - val_mape: 1762286.3750 - val_mse: 0.0075\n",
      "Epoch 11/100\n",
      "\u001b[1m167/167\u001b[0m \u001b[32m━━━━━━━━━━━━━━━━━━━━\u001b[0m\u001b[37m\u001b[0m \u001b[1m2s\u001b[0m 10ms/step - accuracy: 0.1233 - loss: 0.0034 - mape: 1523964.6250 - mse: 0.0059 - val_accuracy: 0.0991 - val_loss: 0.0046 - val_mape: 2210864.7500 - val_mse: 0.0079\n",
      "Epoch 12/100\n",
      "\u001b[1m167/167\u001b[0m \u001b[32m━━━━━━━━━━━━━━━━━━━━\u001b[0m\u001b[37m\u001b[0m \u001b[1m2s\u001b[0m 12ms/step - accuracy: 0.1199 - loss: 0.0044 - mape: 1701421.7500 - mse: 0.0079 - val_accuracy: 0.1171 - val_loss: 0.0044 - val_mape: 1877926.5000 - val_mse: 0.0078\n",
      "Epoch 13/100\n",
      "\u001b[1m167/167\u001b[0m \u001b[32m━━━━━━━━━━━━━━━━━━━━\u001b[0m\u001b[37m\u001b[0m \u001b[1m2s\u001b[0m 10ms/step - accuracy: 0.1293 - loss: 0.0039 - mape: 1797224.7500 - mse: 0.0071 - val_accuracy: 0.1126 - val_loss: 0.0047 - val_mape: 1738462.3750 - val_mse: 0.0082\n",
      "Epoch 14/100\n",
      "\u001b[1m167/167\u001b[0m \u001b[32m━━━━━━━━━━━━━━━━━━━━\u001b[0m\u001b[37m\u001b[0m \u001b[1m2s\u001b[0m 11ms/step - accuracy: 0.1453 - loss: 0.0042 - mape: 1762660.7500 - mse: 0.0074 - val_accuracy: 0.1126 - val_loss: 0.0043 - val_mape: 1606090.3750 - val_mse: 0.0076\n",
      "Epoch 15/100\n",
      "\u001b[1m167/167\u001b[0m \u001b[32m━━━━━━━━━━━━━━━━━━━━\u001b[0m\u001b[37m\u001b[0m \u001b[1m2s\u001b[0m 11ms/step - accuracy: 0.1127 - loss: 0.0037 - mape: 1617831.8750 - mse: 0.0064 - val_accuracy: 0.1171 - val_loss: 0.0048 - val_mape: 1423630.5000 - val_mse: 0.0084\n",
      "Epoch 16/100\n",
      "\u001b[1m167/167\u001b[0m \u001b[32m━━━━━━━━━━━━━━━━━━━━\u001b[0m\u001b[37m\u001b[0m \u001b[1m2s\u001b[0m 12ms/step - accuracy: 0.1494 - loss: 0.0039 - mape: 1692257.6250 - mse: 0.0068 - val_accuracy: 0.1081 - val_loss: 0.0046 - val_mape: 1642963.6250 - val_mse: 0.0081\n",
      "Epoch 17/100\n",
      "\u001b[1m167/167\u001b[0m \u001b[32m━━━━━━━━━━━━━━━━━━━━\u001b[0m\u001b[37m\u001b[0m \u001b[1m2s\u001b[0m 11ms/step - accuracy: 0.1298 - loss: 0.0038 - mape: 1714942.1250 - mse: 0.0069 - val_accuracy: 0.1081 - val_loss: 0.0044 - val_mape: 2390880.5000 - val_mse: 0.0077\n",
      "Epoch 18/100\n",
      "\u001b[1m167/167\u001b[0m \u001b[32m━━━━━━━━━━━━━━━━━━━━\u001b[0m\u001b[37m\u001b[0m \u001b[1m2s\u001b[0m 11ms/step - accuracy: 0.1524 - loss: 0.0036 - mape: 1713938.0000 - mse: 0.0063 - val_accuracy: 0.1171 - val_loss: 0.0045 - val_mape: 2136821.7500 - val_mse: 0.0079\n",
      "Epoch 19/100\n",
      "\u001b[1m167/167\u001b[0m \u001b[32m━━━━━━━━━━━━━━━━━━━━\u001b[0m\u001b[37m\u001b[0m \u001b[1m2s\u001b[0m 13ms/step - accuracy: 0.1429 - loss: 0.0041 - mape: 1498064.3750 - mse: 0.0072 - val_accuracy: 0.1126 - val_loss: 0.0044 - val_mape: 1453831.8750 - val_mse: 0.0077\n",
      "Epoch 20/100\n",
      "\u001b[1m167/167\u001b[0m \u001b[32m━━━━━━━━━━━━━━━━━━━━\u001b[0m\u001b[37m\u001b[0m \u001b[1m2s\u001b[0m 10ms/step - accuracy: 0.1403 - loss: 0.0036 - mape: 1478662.3750 - mse: 0.0063 - val_accuracy: 0.1171 - val_loss: 0.0044 - val_mape: 1969471.3750 - val_mse: 0.0077\n",
      "Epoch 21/100\n",
      "\u001b[1m167/167\u001b[0m \u001b[32m━━━━━━━━━━━━━━━━━━━━\u001b[0m\u001b[37m\u001b[0m \u001b[1m2s\u001b[0m 11ms/step - accuracy: 0.1500 - loss: 0.0033 - mape: 1662033.8750 - mse: 0.0059 - val_accuracy: 0.0991 - val_loss: 0.0046 - val_mape: 1915278.5000 - val_mse: 0.0080\n",
      "Epoch 22/100\n",
      "\u001b[1m167/167\u001b[0m \u001b[32m━━━━━━━━━━━━━━━━━━━━\u001b[0m\u001b[37m\u001b[0m \u001b[1m2s\u001b[0m 10ms/step - accuracy: 0.1241 - loss: 0.0036 - mape: 1658757.8750 - mse: 0.0064 - val_accuracy: 0.1081 - val_loss: 0.0045 - val_mape: 2902449.0000 - val_mse: 0.0077\n",
      "Training fold 4...\n",
      "Epoch 1/100\n",
      "\u001b[1m167/167\u001b[0m \u001b[32m━━━━━━━━━━━━━━━━━━━━\u001b[0m\u001b[37m\u001b[0m \u001b[1m2s\u001b[0m 12ms/step - accuracy: 0.1126 - loss: 0.0038 - mape: 2391101.0000 - mse: 0.0065 - val_accuracy: 0.1486 - val_loss: 0.0036 - val_mape: 1580971.5000 - val_mse: 0.0064\n",
      "Epoch 2/100\n",
      "\u001b[1m167/167\u001b[0m \u001b[32m━━━━━━━━━━━━━━━━━━━━\u001b[0m\u001b[37m\u001b[0m \u001b[1m2s\u001b[0m 10ms/step - accuracy: 0.1400 - loss: 0.0038 - mape: 1937182.7500 - mse: 0.0066 - val_accuracy: 0.1486 - val_loss: 0.0036 - val_mape: 1834834.2500 - val_mse: 0.0063\n",
      "Epoch 3/100\n",
      "\u001b[1m167/167\u001b[0m \u001b[32m━━━━━━━━━━━━━━━━━━━━\u001b[0m\u001b[37m\u001b[0m \u001b[1m2s\u001b[0m 10ms/step - accuracy: 0.1595 - loss: 0.0043 - mape: 2247802.7500 - mse: 0.0076 - val_accuracy: 0.1667 - val_loss: 0.0039 - val_mape: 1352088.3750 - val_mse: 0.0069\n",
      "Epoch 4/100\n",
      "\u001b[1m167/167\u001b[0m \u001b[32m━━━━━━━━━━━━━━━━━━━━\u001b[0m\u001b[37m\u001b[0m \u001b[1m2s\u001b[0m 11ms/step - accuracy: 0.1070 - loss: 0.0040 - mape: 1836543.1250 - mse: 0.0071 - val_accuracy: 0.1847 - val_loss: 0.0038 - val_mape: 1349385.6250 - val_mse: 0.0067\n",
      "Epoch 5/100\n",
      "\u001b[1m167/167\u001b[0m \u001b[32m━━━━━━━━━━━━━━━━━━━━\u001b[0m\u001b[37m\u001b[0m \u001b[1m2s\u001b[0m 10ms/step - accuracy: 0.1200 - loss: 0.0033 - mape: 1683529.2500 - mse: 0.0058 - val_accuracy: 0.1982 - val_loss: 0.0036 - val_mape: 1711499.2500 - val_mse: 0.0064\n",
      "Epoch 6/100\n",
      "\u001b[1m167/167\u001b[0m \u001b[32m━━━━━━━━━━━━━━━━━━━━\u001b[0m\u001b[37m\u001b[0m \u001b[1m2s\u001b[0m 11ms/step - accuracy: 0.1312 - loss: 0.0037 - mape: 1804906.8750 - mse: 0.0066 - val_accuracy: 0.1577 - val_loss: 0.0037 - val_mape: 1437521.8750 - val_mse: 0.0065\n",
      "Epoch 7/100\n",
      "\u001b[1m167/167\u001b[0m \u001b[32m━━━━━━━━━━━━━━━━━━━━\u001b[0m\u001b[37m\u001b[0m \u001b[1m2s\u001b[0m 11ms/step - accuracy: 0.1244 - loss: 0.0034 - mape: 1486010.6250 - mse: 0.0059 - val_accuracy: 0.1532 - val_loss: 0.0038 - val_mape: 1695417.2500 - val_mse: 0.0066\n",
      "Epoch 8/100\n",
      "\u001b[1m167/167\u001b[0m \u001b[32m━━━━━━━━━━━━━━━━━━━━\u001b[0m\u001b[37m\u001b[0m \u001b[1m2s\u001b[0m 13ms/step - accuracy: 0.1612 - loss: 0.0039 - mape: 1850724.3750 - mse: 0.0068 - val_accuracy: 0.1577 - val_loss: 0.0040 - val_mape: 1568870.0000 - val_mse: 0.0071\n",
      "Epoch 9/100\n",
      "\u001b[1m167/167\u001b[0m \u001b[32m━━━━━━━━━━━━━━━━━━━━\u001b[0m\u001b[37m\u001b[0m \u001b[1m2s\u001b[0m 11ms/step - accuracy: 0.1022 - loss: 0.0037 - mape: 1871530.1250 - mse: 0.0064 - val_accuracy: 0.1757 - val_loss: 0.0042 - val_mape: 1513574.5000 - val_mse: 0.0072\n",
      "Epoch 10/100\n",
      "\u001b[1m167/167\u001b[0m \u001b[32m━━━━━━━━━━━━━━━━━━━━\u001b[0m\u001b[37m\u001b[0m \u001b[1m4s\u001b[0m 22ms/step - accuracy: 0.1150 - loss: 0.0038 - mape: 1992221.3750 - mse: 0.0066 - val_accuracy: 0.1937 - val_loss: 0.0042 - val_mape: 1707070.8750 - val_mse: 0.0073\n",
      "Epoch 11/100\n",
      "\u001b[1m167/167\u001b[0m \u001b[32m━━━━━━━━━━━━━━━━━━━━\u001b[0m\u001b[37m\u001b[0m \u001b[1m4s\u001b[0m 25ms/step - accuracy: 0.1269 - loss: 0.0039 - mape: 1856184.6250 - mse: 0.0068 - val_accuracy: 0.1306 - val_loss: 0.0040 - val_mape: 1336808.2500 - val_mse: 0.0070\n",
      "Epoch 12/100\n",
      "\u001b[1m167/167\u001b[0m \u001b[32m━━━━━━━━━━━━━━━━━━━━\u001b[0m\u001b[37m\u001b[0m \u001b[1m2s\u001b[0m 11ms/step - accuracy: 0.1253 - loss: 0.0043 - mape: 1778882.6250 - mse: 0.0076 - val_accuracy: 0.1667 - val_loss: 0.0040 - val_mape: 1247884.3750 - val_mse: 0.0070\n",
      "Epoch 13/100\n",
      "\u001b[1m167/167\u001b[0m \u001b[32m━━━━━━━━━━━━━━━━━━━━\u001b[0m\u001b[37m\u001b[0m \u001b[1m2s\u001b[0m 13ms/step - accuracy: 0.1158 - loss: 0.0034 - mape: 1462491.5000 - mse: 0.0059 - val_accuracy: 0.1802 - val_loss: 0.0041 - val_mape: 1405484.8750 - val_mse: 0.0072\n",
      "Epoch 14/100\n",
      "\u001b[1m167/167\u001b[0m \u001b[32m━━━━━━━━━━━━━━━━━━━━\u001b[0m\u001b[37m\u001b[0m \u001b[1m2s\u001b[0m 13ms/step - accuracy: 0.0955 - loss: 0.0036 - mape: 1955501.8750 - mse: 0.0063 - val_accuracy: 0.1712 - val_loss: 0.0041 - val_mape: 1937375.7500 - val_mse: 0.0072\n",
      "Epoch 15/100\n",
      "\u001b[1m167/167\u001b[0m \u001b[32m━━━━━━━━━━━━━━━━━━━━\u001b[0m\u001b[37m\u001b[0m \u001b[1m2s\u001b[0m 13ms/step - accuracy: 0.1206 - loss: 0.0036 - mape: 1821933.7500 - mse: 0.0061 - val_accuracy: 0.1532 - val_loss: 0.0041 - val_mape: 1478770.2500 - val_mse: 0.0071\n",
      "Epoch 16/100\n",
      "\u001b[1m167/167\u001b[0m \u001b[32m━━━━━━━━━━━━━━━━━━━━\u001b[0m\u001b[37m\u001b[0m \u001b[1m2s\u001b[0m 12ms/step - accuracy: 0.1217 - loss: 0.0035 - mape: 1971698.3750 - mse: 0.0062 - val_accuracy: 0.1261 - val_loss: 0.0041 - val_mape: 1649005.0000 - val_mse: 0.0072\n",
      "Epoch 17/100\n",
      "\u001b[1m167/167\u001b[0m \u001b[32m━━━━━━━━━━━━━━━━━━━━\u001b[0m\u001b[37m\u001b[0m \u001b[1m3s\u001b[0m 21ms/step - accuracy: 0.1284 - loss: 0.0034 - mape: 1560475.7500 - mse: 0.0058 - val_accuracy: 0.1622 - val_loss: 0.0044 - val_mape: 1267853.5000 - val_mse: 0.0077\n",
      "Epoch 18/100\n",
      "\u001b[1m167/167\u001b[0m \u001b[32m━━━━━━━━━━━━━━━━━━━━\u001b[0m\u001b[37m\u001b[0m \u001b[1m4s\u001b[0m 25ms/step - accuracy: 0.1164 - loss: 0.0038 - mape: 1649886.6250 - mse: 0.0067 - val_accuracy: 0.1532 - val_loss: 0.0039 - val_mape: 1698107.3750 - val_mse: 0.0068\n",
      "Epoch 19/100\n",
      "\u001b[1m167/167\u001b[0m \u001b[32m━━━━━━━━━━━━━━━━━━━━\u001b[0m\u001b[37m\u001b[0m \u001b[1m2s\u001b[0m 12ms/step - accuracy: 0.1293 - loss: 0.0039 - mape: 1625128.7500 - mse: 0.0069 - val_accuracy: 0.1532 - val_loss: 0.0040 - val_mape: 1740975.6250 - val_mse: 0.0071\n",
      "Epoch 20/100\n",
      "\u001b[1m167/167\u001b[0m \u001b[32m━━━━━━━━━━━━━━━━━━━━\u001b[0m\u001b[37m\u001b[0m \u001b[1m2s\u001b[0m 13ms/step - accuracy: 0.1667 - loss: 0.0041 - mape: 2192910.0000 - mse: 0.0072 - val_accuracy: 0.1532 - val_loss: 0.0039 - val_mape: 2136499.5000 - val_mse: 0.0070\n",
      "Epoch 21/100\n",
      "\u001b[1m167/167\u001b[0m \u001b[32m━━━━━━━━━━━━━━━━━━━━\u001b[0m\u001b[37m\u001b[0m \u001b[1m4s\u001b[0m 21ms/step - accuracy: 0.1321 - loss: 0.0036 - mape: 2099636.5000 - mse: 0.0063 - val_accuracy: 0.1712 - val_loss: 0.0042 - val_mape: 1249571.1250 - val_mse: 0.0073\n",
      "Epoch 22/100\n",
      "\u001b[1m167/167\u001b[0m \u001b[32m━━━━━━━━━━━━━━━━━━━━\u001b[0m\u001b[37m\u001b[0m \u001b[1m11s\u001b[0m 65ms/step - accuracy: 0.1169 - loss: 0.0034 - mape: 1461198.5000 - mse: 0.0061 - val_accuracy: 0.1261 - val_loss: 0.0040 - val_mape: 1628509.3750 - val_mse: 0.0071\n",
      "CPU times: user 5min 32s, sys: 13.2 s, total: 5min 45s\n",
      "Wall time: 5min 31s\n"
     ]
    }
   ],
   "source": [
    "%%time\n",
    "# Definição das camadas de validação cruzada\n",
    "kf = KFold(n_splits=4, shuffle=True, random_state=42)\n",
    "\n",
    "fold_no = 1\n",
    "for train_index, val_index in kf.split(X_train):\n",
    "    print(f'Training fold {fold_no}...')\n",
    "    \n",
    "    # Split data\n",
    "    X_train_, X_val_ = X_train[train_index], X_train[val_index]\n",
    "    y_train_, y_val_ = y_train[train_index], y_train[val_index]\n",
    "\n",
    "    #X_train, X_val, y_train, y_val = train_test_split(\n",
    "    #X_train, y_train, test_size=0.2, shuffle = False)\n",
    "    \n",
    "    hist = model.fit(\n",
    "                X_train_,\n",
    "                y_train_,\n",
    "                batch_size=4,\n",
    "                epochs=epochs,\n",
    "                verbose=verbose,\n",
    "                validation_data=(X_val_, y_val_),\n",
    "                callbacks=[TB_callback, EarlyStopping(monitor=monitor, min_delta=min_delta, patience=patience)]\n",
    "            )\n",
    "\n",
    "    fold_no = fold_no + 1"
   ]
  },
  {
   "cell_type": "markdown",
   "metadata": {
    "id": "omGw_jmSGMJz"
   },
   "source": [
    "Aplicando na regional de BH:"
   ]
  },
  {
   "cell_type": "markdown",
   "metadata": {
    "id": "NObrQ_rOvMrw"
   },
   "source": [
    "### Retreinando com os dados do estado e aplicando para o ano de teste"
   ]
  },
  {
   "cell_type": "code",
   "execution_count": 13,
   "metadata": {
    "id": "o9FTpyDZvTxq"
   },
   "outputs": [],
   "source": [
    "df_w = aggregate_data(df)\n",
    "\n",
    "data = df_w.merge(enso[['enso']], left_index = True, right_index = True)\n",
    "\n",
    "X_train, y_train, norm_values = get_train_data(data.loc[data.year < YEAR])\n",
    "\n",
    "X_test, y_test = get_test_data(norm_values,data, year = YEAR)"
   ]
  },
  {
   "cell_type": "code",
   "execution_count": 14,
   "metadata": {
    "id": "mWq5bn9CHnKB"
   },
   "outputs": [],
   "source": [
    "epochs = 25\n",
    "model.compile(loss='msle', optimizer = Adam(learning_rate = 0.0001), metrics=[\"accuracy\", \"mape\", \"mse\"])"
   ]
  },
  {
   "cell_type": "code",
   "execution_count": 15,
   "metadata": {
    "colab": {
     "base_uri": "https://localhost:8080/"
    },
    "id": "tpDmIqD2va-F",
    "outputId": "15d12197-0c8f-4b37-d9b6-0d692b78e133"
   },
   "outputs": [
    {
     "name": "stdout",
     "output_type": "stream",
     "text": [
      "Epoch 1/25\n",
      "\u001b[1m10/10\u001b[0m \u001b[32m━━━━━━━━━━━━━━━━━━━━\u001b[0m\u001b[37m\u001b[0m \u001b[1m2s\u001b[0m 16ms/step - accuracy: 0.5380 - loss: 0.0027 - mape: 70.2530 - mse: 0.0046\n",
      "Epoch 2/25\n",
      "\u001b[1m10/10\u001b[0m \u001b[32m━━━━━━━━━━━━━━━━━━━━\u001b[0m\u001b[37m\u001b[0m \u001b[1m1s\u001b[0m 67ms/step - accuracy: 0.2958 - loss: 0.0023 - mape: 63.4060 - mse: 0.0039       \n",
      "Epoch 3/25\n",
      "\u001b[1m10/10\u001b[0m \u001b[32m━━━━━━━━━━━━━━━━━━━━\u001b[0m\u001b[37m\u001b[0m \u001b[1m1s\u001b[0m 57ms/step - accuracy: 0.6137 - loss: 0.0024 - mape: 73.3070 - mse: 0.0039\n",
      "Epoch 4/25\n",
      "\u001b[1m10/10\u001b[0m \u001b[32m━━━━━━━━━━━━━━━━━━━━\u001b[0m\u001b[37m\u001b[0m \u001b[1m0s\u001b[0m 15ms/step - accuracy: 0.4367 - loss: 0.0030 - mape: 63.8310 - mse: 0.0069\n",
      "Epoch 5/25\n",
      "\u001b[1m10/10\u001b[0m \u001b[32m━━━━━━━━━━━━━━━━━━━━\u001b[0m\u001b[37m\u001b[0m \u001b[1m0s\u001b[0m 9ms/step - accuracy: 0.5380 - loss: 0.0022 - mape: 62.8913 - mse: 0.0038 \n",
      "Epoch 6/25\n",
      "\u001b[1m10/10\u001b[0m \u001b[32m━━━━━━━━━━━━━━━━━━━━\u001b[0m\u001b[37m\u001b[0m \u001b[1m0s\u001b[0m 7ms/step - accuracy: 0.6487 - loss: 0.0018 - mape: 71.7935 - mse: 0.0036       \n",
      "Epoch 7/25\n",
      "\u001b[1m10/10\u001b[0m \u001b[32m━━━━━━━━━━━━━━━━━━━━\u001b[0m\u001b[37m\u001b[0m \u001b[1m0s\u001b[0m 7ms/step - accuracy: 0.4188 - loss: 0.0012 - mape: 60.5973 - mse: 0.0022           \n",
      "Epoch 8/25\n",
      "\u001b[1m10/10\u001b[0m \u001b[32m━━━━━━━━━━━━━━━━━━━━\u001b[0m\u001b[37m\u001b[0m \u001b[1m0s\u001b[0m 7ms/step - accuracy: 0.7073 - loss: 8.8910e-04 - mape: 71.7808 - mse: 0.0014   \n",
      "Epoch 9/25\n",
      "\u001b[1m10/10\u001b[0m \u001b[32m━━━━━━━━━━━━━━━━━━━━\u001b[0m\u001b[37m\u001b[0m \u001b[1m0s\u001b[0m 7ms/step - accuracy: 0.5328 - loss: 0.0012 - mape: 70.7856 - mse: 0.0022       \n",
      "Epoch 10/25\n",
      "\u001b[1m10/10\u001b[0m \u001b[32m━━━━━━━━━━━━━━━━━━━━\u001b[0m\u001b[37m\u001b[0m \u001b[1m0s\u001b[0m 7ms/step - accuracy: 0.6153 - loss: 0.0020 - mape: 59.8670 - mse: 0.0046\n",
      "Epoch 11/25\n",
      "\u001b[1m10/10\u001b[0m \u001b[32m━━━━━━━━━━━━━━━━━━━━\u001b[0m\u001b[37m\u001b[0m \u001b[1m0s\u001b[0m 7ms/step - accuracy: 0.5278 - loss: 0.0028 - mape: 60.8435 - mse: 0.0048   \n",
      "Epoch 12/25\n",
      "\u001b[1m10/10\u001b[0m \u001b[32m━━━━━━━━━━━━━━━━━━━━\u001b[0m\u001b[37m\u001b[0m \u001b[1m0s\u001b[0m 8ms/step - accuracy: 0.3334 - loss: 8.4807e-04 - mape: 58.4955 - mse: 0.0017       \n",
      "Epoch 13/25\n",
      "\u001b[1m10/10\u001b[0m \u001b[32m━━━━━━━━━━━━━━━━━━━━\u001b[0m\u001b[37m\u001b[0m \u001b[1m0s\u001b[0m 8ms/step - accuracy: 0.5691 - loss: 0.0013 - mape: 57.9336 - mse: 0.0032       \n",
      "Epoch 14/25\n",
      "\u001b[1m10/10\u001b[0m \u001b[32m━━━━━━━━━━━━━━━━━━━━\u001b[0m\u001b[37m\u001b[0m \u001b[1m0s\u001b[0m 8ms/step - accuracy: 0.5045 - loss: 0.0049 - mape: 66.6032 - mse: 0.0113       \n",
      "Epoch 15/25\n",
      "\u001b[1m10/10\u001b[0m \u001b[32m━━━━━━━━━━━━━━━━━━━━\u001b[0m\u001b[37m\u001b[0m \u001b[1m0s\u001b[0m 7ms/step - accuracy: 0.6490 - loss: 0.0017 - mape: 61.0517 - mse: 0.0041\n",
      "Epoch 16/25\n",
      "\u001b[1m10/10\u001b[0m \u001b[32m━━━━━━━━━━━━━━━━━━━━\u001b[0m\u001b[37m\u001b[0m \u001b[1m0s\u001b[0m 7ms/step - accuracy: 0.1820 - loss: 0.0018 - mape: 63.4621 - mse: 0.0041   \n",
      "Epoch 17/25\n",
      "\u001b[1m10/10\u001b[0m \u001b[32m━━━━━━━━━━━━━━━━━━━━\u001b[0m\u001b[37m\u001b[0m \u001b[1m0s\u001b[0m 7ms/step - accuracy: 0.4536 - loss: 0.0010 - mape: 64.9787 - mse: 0.0020    \n",
      "Epoch 18/25\n",
      "\u001b[1m10/10\u001b[0m \u001b[32m━━━━━━━━━━━━━━━━━━━━\u001b[0m\u001b[37m\u001b[0m \u001b[1m0s\u001b[0m 7ms/step - accuracy: 0.4835 - loss: 7.6237e-04 - mape: 64.4757 - mse: 0.0013   \n",
      "Epoch 19/25\n",
      "\u001b[1m10/10\u001b[0m \u001b[32m━━━━━━━━━━━━━━━━━━━━\u001b[0m\u001b[37m\u001b[0m \u001b[1m0s\u001b[0m 7ms/step - accuracy: 0.6844 - loss: 0.0010 - mape: 58.7382 - mse: 0.0026       \n",
      "Epoch 20/25\n",
      "\u001b[1m10/10\u001b[0m \u001b[32m━━━━━━━━━━━━━━━━━━━━\u001b[0m\u001b[37m\u001b[0m \u001b[1m0s\u001b[0m 7ms/step - accuracy: 0.7936 - loss: 9.1869e-04 - mape: 63.2534 - mse: 0.0019\n",
      "Epoch 21/25\n",
      "\u001b[1m10/10\u001b[0m \u001b[32m━━━━━━━━━━━━━━━━━━━━\u001b[0m\u001b[37m\u001b[0m \u001b[1m0s\u001b[0m 7ms/step - accuracy: 0.7884 - loss: 9.0349e-04 - mape: 62.3387 - mse: 0.0016   \n",
      "Epoch 22/25\n",
      "\u001b[1m10/10\u001b[0m \u001b[32m━━━━━━━━━━━━━━━━━━━━\u001b[0m\u001b[37m\u001b[0m \u001b[1m0s\u001b[0m 7ms/step - accuracy: 0.6027 - loss: 4.8193e-04 - mape: 58.6137 - mse: 8.7240e-04\n",
      "Epoch 23/25\n",
      "\u001b[1m10/10\u001b[0m \u001b[32m━━━━━━━━━━━━━━━━━━━━\u001b[0m\u001b[37m\u001b[0m \u001b[1m0s\u001b[0m 7ms/step - accuracy: 0.4700 - loss: 0.0014 - mape: 64.8228 - mse: 0.0031   \n",
      "Epoch 24/25\n",
      "\u001b[1m10/10\u001b[0m \u001b[32m━━━━━━━━━━━━━━━━━━━━\u001b[0m\u001b[37m\u001b[0m \u001b[1m0s\u001b[0m 7ms/step - accuracy: 0.4700 - loss: 8.8196e-04 - mape: 54.0258 - mse: 0.0019\n",
      "Epoch 25/25\n",
      "\u001b[1m10/10\u001b[0m \u001b[32m━━━━━━━━━━━━━━━━━━━━\u001b[0m\u001b[37m\u001b[0m \u001b[1m0s\u001b[0m 8ms/step - accuracy: 0.3328 - loss: 0.0011 - mape: 62.4693 - mse: 0.0023           \n"
     ]
    }
   ],
   "source": [
    "hist = model.fit(\n",
    "            X_train,\n",
    "            y_train,\n",
    "            batch_size=1,\n",
    "            epochs=epochs,\n",
    "            verbose=verbose,\n",
    "            callbacks=[TB_callback]\n",
    "        )"
   ]
  },
  {
   "cell_type": "markdown",
   "metadata": {
    "id": "3fYknRVWwCB_"
   },
   "source": [
    "Função para realizar as previsões"
   ]
  },
  {
   "cell_type": "code",
   "execution_count": 16,
   "metadata": {
    "colab": {
     "base_uri": "https://localhost:8080/",
     "height": 206
    },
    "id": "LfayO_WuwaIE",
    "outputId": "41ace24a-d077-4c51-b2f4-e4a7aa358840"
   },
   "outputs": [
    {
     "data": {
      "text/html": [
       "<div>\n",
       "<style scoped>\n",
       "    .dataframe tbody tr th:only-of-type {\n",
       "        vertical-align: middle;\n",
       "    }\n",
       "\n",
       "    .dataframe tbody tr th {\n",
       "        vertical-align: top;\n",
       "    }\n",
       "\n",
       "    .dataframe thead th {\n",
       "        text-align: right;\n",
       "    }\n",
       "</style>\n",
       "<table border=\"1\" class=\"dataframe\">\n",
       "  <thead>\n",
       "    <tr style=\"text-align: right;\">\n",
       "      <th></th>\n",
       "      <th>dates</th>\n",
       "      <th>lower</th>\n",
       "      <th>preds</th>\n",
       "      <th>upper</th>\n",
       "    </tr>\n",
       "  </thead>\n",
       "  <tbody>\n",
       "    <tr>\n",
       "      <th>0</th>\n",
       "      <td>2023-10-08</td>\n",
       "      <td>0.0</td>\n",
       "      <td>0.0</td>\n",
       "      <td>0.0</td>\n",
       "    </tr>\n",
       "    <tr>\n",
       "      <th>1</th>\n",
       "      <td>2023-10-15</td>\n",
       "      <td>0.0</td>\n",
       "      <td>0.0</td>\n",
       "      <td>0.0</td>\n",
       "    </tr>\n",
       "    <tr>\n",
       "      <th>2</th>\n",
       "      <td>2023-10-22</td>\n",
       "      <td>0.0</td>\n",
       "      <td>0.0</td>\n",
       "      <td>0.0</td>\n",
       "    </tr>\n",
       "    <tr>\n",
       "      <th>3</th>\n",
       "      <td>2023-10-29</td>\n",
       "      <td>0.0</td>\n",
       "      <td>0.0</td>\n",
       "      <td>0.0</td>\n",
       "    </tr>\n",
       "    <tr>\n",
       "      <th>4</th>\n",
       "      <td>2023-11-05</td>\n",
       "      <td>0.0</td>\n",
       "      <td>0.0</td>\n",
       "      <td>0.0</td>\n",
       "    </tr>\n",
       "  </tbody>\n",
       "</table>\n",
       "</div>"
      ],
      "text/plain": [
       "       dates  lower  preds  upper\n",
       "0 2023-10-08    0.0    0.0    0.0\n",
       "1 2023-10-15    0.0    0.0    0.0\n",
       "2 2023-10-22    0.0    0.0    0.0\n",
       "3 2023-10-29    0.0    0.0    0.0\n",
       "4 2023-11-05    0.0    0.0    0.0"
      ]
     },
     "execution_count": 16,
     "metadata": {},
     "output_type": "execute_result"
    }
   ],
   "source": [
    "df_preds = make_predictions(model, X_test, norm_values, dates = gen_forecast_dates(YEAR))\n",
    "\n",
    "df_preds.head()"
   ]
  },
  {
   "cell_type": "code",
   "execution_count": 17,
   "metadata": {
    "colab": {
     "base_uri": "https://localhost:8080/",
     "height": 452
    },
    "id": "9BaVMRtWxOqn",
    "outputId": "b85eff32-4f82-4db8-8b9e-f4f5002c853c"
   },
   "outputs": [
    {
     "data": {
      "image/png": "[encoded data removed]",
      "text/plain": [
       "<Figure size 640x480 with 1 Axes>"
      ]
     },
     "metadata": {},
     "output_type": "display_data"
    }
   ],
   "source": [
    "fig, ax = plt.subplots()\n",
    "\n",
    "ax.plot(df_w.loc[df_w.year == YEAR].casos, label = 'Data')\n",
    "\n",
    "ax.plot(df_preds.dates, df_preds.preds, label = 'preds')\n",
    "\n",
    "ax.fill_between( df_preds.dates, df_preds.lower, df_preds.upper, color = 'tab:orange', alpha = 0.2)\n",
    "\n",
    "ax.set_title(f'MG - {YEAR}')\n",
    "\n",
    "plt.show()"
   ]
  },
  {
   "cell_type": "code",
   "execution_count": null,
   "metadata": {},
   "outputs": [],
   "source": []
  },
  {
   "cell_type": "code",
   "execution_count": null,
   "metadata": {},
   "outputs": [],
   "source": []
  },
  {
   "cell_type": "code",
   "execution_count": null,
   "metadata": {},
   "outputs": [],
   "source": []
  }
 ],
 "metadata": {
  "accelerator": "GPU",
  "colab": {
   "gpuType": "T4",
   "provenance": []
  },
  "kernelspec": {
   "display_name": "Python 3 (ipykernel)",
   "language": "python",
   "name": "python3"
  },
  "language_info": {
   "codemirror_mode": {
    "name": "ipython",
    "version": 3
   },
   "file_extension": ".py",
   "mimetype": "text/x-python",
   "name": "python",
   "nbconvert_exporter": "python",
   "pygments_lexer": "ipython3",
   "version": "3.12.4"
  }
 },
 "nbformat": 4,
 "nbformat_minor": 4
}
