{
 "cells": [
  {
   "cell_type": "code",
   "execution_count": 1,
   "id": "6a61522d-207d-40a4-a512-9b21af8135c4",
   "metadata": {},
   "outputs": [],
   "source": [
    "import time\n",
    "import numpy as np\n",
    "import pandas as pd\n",
    "import preprocess_data as prep\n",
    "from keras.optimizers import Adam\n",
    "from models import build_lstm_att, build_baseline, sum_regions_predictions\n",
    "from sklearn.model_selection import train_test_split\n",
    "from tensorflow.keras.callbacks import TensorBoard, EarlyStopping, LearningRateScheduler\n",
    "\n",
    "import warnings\n",
    "warnings.simplefilter(action='ignore', category=pd.errors.SettingWithCopyWarning)\n",
    "\n",
    "'''\n",
    "This script is used to train the model for a specific STATE and forecast the cases on a \n",
    "specific year (TEST_YEAR). The model is trained with the regional health data before the year selected. \n",
    "'''\n",
    "\n",
    "# Load the cases and enso data\n",
    "df_all = prep.load_cases_data()\n",
    "enso = prep.load_enso_data()\n",
    "df_pop_region = pd.read_csv('./data/pop_regional.csv')\n",
    "df_all_epi = pd.read_csv('./data/episcanner_regional.csv.gz')\n",
    "\n",
    "\n",
    "# flag to decide if the model will be applied or not\n",
    "apply = True "
   ]
  },
  {
   "cell_type": "markdown",
   "id": "d8031c82-e004-4cac-9ce3-e2c42c680b67",
   "metadata": {},
   "source": [
    "### Definindo os callbacks do modelo:"
   ]
  },
  {
   "cell_type": "code",
   "execution_count": 2,
   "id": "d8b82d6f-7de1-4ea5-be01-cd7ac725f147",
   "metadata": {},
   "outputs": [],
   "source": [
    "import tensorflow as tf\n",
    "TB_callback = TensorBoard(\n",
    "                log_dir=\"./tensorboard\",\n",
    "                histogram_freq=0,\n",
    "                write_graph=True,\n",
    "                write_images=True,\n",
    "                update_freq='epoch',\n",
    "                # embeddings_freq=10\n",
    "            )\n",
    "\n",
    "class ResetStatesCallback(tf.keras.callbacks.Callback):\n",
    "    #def __init__(self):\n",
    "    #   self.counter = 0\n",
    "\n",
    "    def on_batch_begin(self, batch, logs={}):\n",
    "        for layer in self.model.layers:\n",
    "            if hasattr(layer, 'reset_states'):\n",
    "                layer.reset_states()\n",
    "        #if self.counter % max_len == 0:\n",
    "        #self.counter += 1\n",
    "        "
   ]
  },
  {
   "cell_type": "code",
   "execution_count": 3,
   "id": "1380f348-bda7-4e09-8da3-3ab434481b07",
   "metadata": {},
   "outputs": [],
   "source": [
    "def regional_train_samples(model, df, enso, test_year, columns_to_normalize = ['casos', 'epiweek', 'enso'], episcanner = False, clima = False, min_year = None):\n",
    "    '''\n",
    "    Generate the train date from all the health regions \n",
    "    '''\n",
    "\n",
    "    features = len(columns_to_normalize)+1\n",
    "    X_train = np.empty((0, 89, features))\n",
    "    y_train = np.empty((0, 52))\n",
    "\n",
    "    list_of_enso_indicators = ['enso', 'iod', 'pdo']\n",
    "\n",
    "    indicators = [item for item in list_of_enso_indicators if item in columns_to_normalize]\n",
    "\n",
    "    for geo in df.regional_geocode.unique():\n",
    "        \n",
    "        if clima:\n",
    "            df_w = prep.aggregate_data_clima(df, geo, column = 'regional_geocode')\n",
    "        else: \n",
    "            df_w = prep.aggregate_data(df, geo, column = 'regional_geocode')\n",
    "\n",
    "        \n",
    "        #df_w['inc'] = 10*df_w['casos']/df_pop_region.loc[df_pop_region.regional_geocode==geo]['pop'].values[0]\n",
    "        df_w['pop_norm'] = df_pop_region.loc[df_pop_region.regional_geocode==geo]['pop_norm'].values[0]\n",
    "\n",
    "        if episcanner: \n",
    "\n",
    "            df_w = df_w.reset_index().merge( df_all_epi.loc[df_all_epi.code_region == geo][['year',\n",
    "                                                          'R0', \n",
    "                                                          'peak_week',\n",
    "                                                          'total_cases', \n",
    "                                                          'perc_geocode']], how = 'left', left_on = 'year', right_on = 'year').set_index('date')\n",
    "\n",
    "            df_w = df_w.fillna(0)\n",
    "        \n",
    "        data = df_w.merge(enso[indicators], left_index = True, right_index = True)\n",
    "\n",
    "        X_train, y_train, norm_values = prep.get_train_data(data.loc[data.year < test_year], columns_to_normalize= columns_to_normalize, min_year = min_year)\n",
    "\n",
    "        X_train, X_val, y_train, y_val = train_test_split(\n",
    "                                        X_train, y_train, test_size=0.2, shuffle = False, random_state=42)\n",
    "\n",
    "        #print(X_val.shape)\n",
    "        \n",
    "        hist = model.fit(\n",
    "                    X_train,\n",
    "                    y_train,\n",
    "                    batch_size=1,\n",
    "                    epochs=100,\n",
    "                    verbose=0,\n",
    "                    shuffle = False, \n",
    "                    validation_data=(X_val, y_val),\n",
    "                    callbacks=[TB_callback,ResetStatesCallback(), EarlyStopping(monitor='val_loss', min_delta=0,  patience=15)]\n",
    "                )\n",
    "        \n",
    "    return model "
   ]
  },
  {
   "cell_type": "code",
   "execution_count": 4,
   "id": "f219da4e-1627-476d-b103-f2f24b0b3f3a",
   "metadata": {},
   "outputs": [
    {
     "name": "stdout",
     "output_type": "stream",
     "text": [
      "CE\n",
      "2023\n"
     ]
    }
   ],
   "source": [
    "STATE  = 'CE'\n",
    "\n",
    "TEST_YEAR = 2023 \n",
    "\n",
    "if STATE == 'PR': \n",
    "\n",
    "    min_year = 2019\n",
    "\n",
    "else: \n",
    "\n",
    "    min_year = 2013\n",
    "\n",
    "#columns used in the model\n",
    "cols_to_norm = ['casos','epiweek', 'enso',  'R0', 'total_cases',\n",
    "                          'peak_week', 'perc_geocode'] \n",
    "\n",
    "print(STATE)\n",
    "print(TEST_YEAR)\n",
    "\n",
    "df = df_all.loc[df_all.uf == STATE]"
   ]
  },
  {
   "cell_type": "code",
   "execution_count": 5,
   "id": "25ba473e-12f1-4268-a5a4-fdd8527d27a1",
   "metadata": {},
   "outputs": [
    {
     "name": "stderr",
     "output_type": "stream",
     "text": [
      "/opt/homebrew/Caskroom/miniforge/base/envs/lstm_infodengue_sprint/lib/python3.12/site-packages/keras/src/layers/rnn/rnn.py:204: UserWarning: Do not pass an `input_shape`/`input_dim` argument to a layer. When using Sequential models, prefer using an `Input(shape)` object as the first layer in the model instead.\n",
      "  super().__init__(**kwargs)\n"
     ]
    },
    {
     "data": {
      "text/html": [
       "<pre style=\"white-space:pre;overflow-x:auto;line-height:normal;font-family:Menlo,'DejaVu Sans Mono',consolas,'Courier New',monospace\"><span style=\"font-weight: bold\">Model: \"functional\"</span>\n",
       "</pre>\n"
      ],
      "text/plain": [
       "\u001b[1mModel: \"functional\"\u001b[0m\n"
      ]
     },
     "metadata": {},
     "output_type": "display_data"
    },
    {
     "data": {
      "text/html": [
       "<pre style=\"white-space:pre;overflow-x:auto;line-height:normal;font-family:Menlo,'DejaVu Sans Mono',consolas,'Courier New',monospace\">┏━━━━━━━━━━━━━━━━━━━━━━━━━━━━━━━━━┳━━━━━━━━━━━━━━━━━━━━━━━━┳━━━━━━━━━━━━━━━┓\n",
       "┃<span style=\"font-weight: bold\"> Layer (type)                    </span>┃<span style=\"font-weight: bold\"> Output Shape           </span>┃<span style=\"font-weight: bold\">       Param # </span>┃\n",
       "┡━━━━━━━━━━━━━━━━━━━━━━━━━━━━━━━━━╇━━━━━━━━━━━━━━━━━━━━━━━━╇━━━━━━━━━━━━━━━┩\n",
       "│ input_layer (<span style=\"color: #0087ff; text-decoration-color: #0087ff\">InputLayer</span>)        │ (<span style=\"color: #00af00; text-decoration-color: #00af00\">1</span>, <span style=\"color: #00af00; text-decoration-color: #00af00\">89</span>, <span style=\"color: #00af00; text-decoration-color: #00af00\">8</span>)             │             <span style=\"color: #00af00; text-decoration-color: #00af00\">0</span> │\n",
       "├─────────────────────────────────┼────────────────────────┼───────────────┤\n",
       "│ lstm (<span style=\"color: #0087ff; text-decoration-color: #0087ff\">LSTM</span>)                     │ (<span style=\"color: #00af00; text-decoration-color: #00af00\">1</span>, <span style=\"color: #00af00; text-decoration-color: #00af00\">89</span>, <span style=\"color: #00af00; text-decoration-color: #00af00\">64</span>)            │        <span style=\"color: #00af00; text-decoration-color: #00af00\">18,688</span> │\n",
       "├─────────────────────────────────┼────────────────────────┼───────────────┤\n",
       "│ dropout_1 (<span style=\"color: #0087ff; text-decoration-color: #0087ff\">Dropout</span>)             │ (<span style=\"color: #00af00; text-decoration-color: #00af00\">1</span>, <span style=\"color: #00af00; text-decoration-color: #00af00\">89</span>, <span style=\"color: #00af00; text-decoration-color: #00af00\">64</span>)            │             <span style=\"color: #00af00; text-decoration-color: #00af00\">0</span> │\n",
       "├─────────────────────────────────┼────────────────────────┼───────────────┤\n",
       "│ lstm_1 (<span style=\"color: #0087ff; text-decoration-color: #0087ff\">LSTM</span>)                   │ (<span style=\"color: #00af00; text-decoration-color: #00af00\">1</span>, <span style=\"color: #00af00; text-decoration-color: #00af00\">64</span>)                │        <span style=\"color: #00af00; text-decoration-color: #00af00\">33,024</span> │\n",
       "├─────────────────────────────────┼────────────────────────┼───────────────┤\n",
       "│ dropout_2 (<span style=\"color: #0087ff; text-decoration-color: #0087ff\">Dropout</span>)             │ (<span style=\"color: #00af00; text-decoration-color: #00af00\">1</span>, <span style=\"color: #00af00; text-decoration-color: #00af00\">64</span>)                │             <span style=\"color: #00af00; text-decoration-color: #00af00\">0</span> │\n",
       "├─────────────────────────────────┼────────────────────────┼───────────────┤\n",
       "│ dense (<span style=\"color: #0087ff; text-decoration-color: #0087ff\">Dense</span>)                   │ (<span style=\"color: #00af00; text-decoration-color: #00af00\">1</span>, <span style=\"color: #00af00; text-decoration-color: #00af00\">52</span>)                │         <span style=\"color: #00af00; text-decoration-color: #00af00\">3,380</span> │\n",
       "└─────────────────────────────────┴────────────────────────┴───────────────┘\n",
       "</pre>\n"
      ],
      "text/plain": [
       "┏━━━━━━━━━━━━━━━━━━━━━━━━━━━━━━━━━┳━━━━━━━━━━━━━━━━━━━━━━━━┳━━━━━━━━━━━━━━━┓\n",
       "┃\u001b[1m \u001b[0m\u001b[1mLayer (type)                   \u001b[0m\u001b[1m \u001b[0m┃\u001b[1m \u001b[0m\u001b[1mOutput Shape          \u001b[0m\u001b[1m \u001b[0m┃\u001b[1m \u001b[0m\u001b[1m      Param #\u001b[0m\u001b[1m \u001b[0m┃\n",
       "┡━━━━━━━━━━━━━━━━━━━━━━━━━━━━━━━━━╇━━━━━━━━━━━━━━━━━━━━━━━━╇━━━━━━━━━━━━━━━┩\n",
       "│ input_layer (\u001b[38;5;33mInputLayer\u001b[0m)        │ (\u001b[38;5;34m1\u001b[0m, \u001b[38;5;34m89\u001b[0m, \u001b[38;5;34m8\u001b[0m)             │             \u001b[38;5;34m0\u001b[0m │\n",
       "├─────────────────────────────────┼────────────────────────┼───────────────┤\n",
       "│ lstm (\u001b[38;5;33mLSTM\u001b[0m)                     │ (\u001b[38;5;34m1\u001b[0m, \u001b[38;5;34m89\u001b[0m, \u001b[38;5;34m64\u001b[0m)            │        \u001b[38;5;34m18,688\u001b[0m │\n",
       "├─────────────────────────────────┼────────────────────────┼───────────────┤\n",
       "│ dropout_1 (\u001b[38;5;33mDropout\u001b[0m)             │ (\u001b[38;5;34m1\u001b[0m, \u001b[38;5;34m89\u001b[0m, \u001b[38;5;34m64\u001b[0m)            │             \u001b[38;5;34m0\u001b[0m │\n",
       "├─────────────────────────────────┼────────────────────────┼───────────────┤\n",
       "│ lstm_1 (\u001b[38;5;33mLSTM\u001b[0m)                   │ (\u001b[38;5;34m1\u001b[0m, \u001b[38;5;34m64\u001b[0m)                │        \u001b[38;5;34m33,024\u001b[0m │\n",
       "├─────────────────────────────────┼────────────────────────┼───────────────┤\n",
       "│ dropout_2 (\u001b[38;5;33mDropout\u001b[0m)             │ (\u001b[38;5;34m1\u001b[0m, \u001b[38;5;34m64\u001b[0m)                │             \u001b[38;5;34m0\u001b[0m │\n",
       "├─────────────────────────────────┼────────────────────────┼───────────────┤\n",
       "│ dense (\u001b[38;5;33mDense\u001b[0m)                   │ (\u001b[38;5;34m1\u001b[0m, \u001b[38;5;34m52\u001b[0m)                │         \u001b[38;5;34m3,380\u001b[0m │\n",
       "└─────────────────────────────────┴────────────────────────┴───────────────┘\n"
      ]
     },
     "metadata": {},
     "output_type": "display_data"
    },
    {
     "data": {
      "text/html": [
       "<pre style=\"white-space:pre;overflow-x:auto;line-height:normal;font-family:Menlo,'DejaVu Sans Mono',consolas,'Courier New',monospace\"><span style=\"font-weight: bold\"> Total params: </span><span style=\"color: #00af00; text-decoration-color: #00af00\">55,092</span> (215.20 KB)\n",
       "</pre>\n"
      ],
      "text/plain": [
       "\u001b[1m Total params: \u001b[0m\u001b[38;5;34m55,092\u001b[0m (215.20 KB)\n"
      ]
     },
     "metadata": {},
     "output_type": "display_data"
    },
    {
     "data": {
      "text/html": [
       "<pre style=\"white-space:pre;overflow-x:auto;line-height:normal;font-family:Menlo,'DejaVu Sans Mono',consolas,'Courier New',monospace\"><span style=\"font-weight: bold\"> Trainable params: </span><span style=\"color: #00af00; text-decoration-color: #00af00\">55,092</span> (215.20 KB)\n",
       "</pre>\n"
      ],
      "text/plain": [
       "\u001b[1m Trainable params: \u001b[0m\u001b[38;5;34m55,092\u001b[0m (215.20 KB)\n"
      ]
     },
     "metadata": {},
     "output_type": "display_data"
    },
    {
     "data": {
      "text/html": [
       "<pre style=\"white-space:pre;overflow-x:auto;line-height:normal;font-family:Menlo,'DejaVu Sans Mono',consolas,'Courier New',monospace\"><span style=\"font-weight: bold\"> Non-trainable params: </span><span style=\"color: #00af00; text-decoration-color: #00af00\">0</span> (0.00 B)\n",
       "</pre>\n"
      ],
      "text/plain": [
       "\u001b[1m Non-trainable params: \u001b[0m\u001b[38;5;34m0\u001b[0m (0.00 B)\n"
      ]
     },
     "metadata": {},
     "output_type": "display_data"
    },
    {
     "name": "stdout",
     "output_type": "stream",
     "text": [
      "None\n"
     ]
    }
   ],
   "source": [
    "LOSS = 'msle'\n",
    "batch_size = 1\n",
    "model_name = 'base_reg_stat'\n",
    "\n",
    "#create model\n",
    "model = build_baseline(hidden=64, features=8, predict_n=52, look_back=89, loss=LOSS, \n",
    "                    stateful = True, batch_size = batch_size,  optimizer = 'adam', activation = 'relu')"
   ]
  },
  {
   "cell_type": "code",
   "execution_count": 6,
   "id": "b5fd974f-a834-4208-b138-8b582e23acde",
   "metadata": {},
   "outputs": [
    {
     "name": "stdout",
     "output_type": "stream",
     "text": [
      "2024\n"
     ]
    }
   ],
   "source": [
    "# train model \n",
    "model = regional_train_samples(model, df, enso, TEST_YEAR, columns_to_normalize = cols_to_norm, episcanner = True, clima = False, min_year = None)\n",
    "   \n",
    "# save model \n",
    "model.save(f'saved_models/model_{STATE}_{TEST_YEAR-1}_{model_name}.keras')\n",
    "\n",
    "if apply:\n",
    "    df_preds = sum_regions_predictions(model, df, enso, TEST_YEAR, cols_to_norm, True, False)\n",
    "    df_preds['adm_1'] = STATE\n",
    "    df_preds['adm_0'] = 'BR'\n",
    "    df_preds['adm_2'] = pd.NA\n",
    "    df_preds.to_csv(f'./predictions/preds_{STATE}_{TEST_YEAR}_{model_name}.csv', index = False)\n",
    "\n",
    "TEST_YEAR = 2024 \n",
    "print(TEST_YEAR)\n",
    "\n",
    "model.compile(loss=LOSS, optimizer = Adam(learning_rate = 0.0005), metrics=[\"accuracy\", \"mape\", \"mse\"])\n",
    "\n",
    "model = regional_train_samples(model, df, enso, TEST_YEAR, columns_to_normalize = cols_to_norm, episcanner = True, clima = False, min_year = None)\n",
    "  \n",
    "# save the model\n",
    "model.save(f'saved_models/model_{STATE}_{TEST_YEAR-1}_{model_name}.keras')\n",
    "\n",
    "if apply: \n",
    "    df_preds = sum_regions_predictions(model, df, enso, TEST_YEAR, cols_to_norm, True, False)\n",
    "    df_preds['adm_1'] = STATE\n",
    "    df_preds['adm_0'] = 'BR'\n",
    "    df_preds['adm_2'] = pd.NA\n",
    "    df_preds.to_csv(f'./predictions/preds_{STATE}_{TEST_YEAR}_{model_name}.csv', index = False)\n",
    "\n"
   ]
  },
  {
   "cell_type": "code",
   "execution_count": null,
   "id": "5e541ba7-7fdd-47e0-bcca-47ece91ef11b",
   "metadata": {},
   "outputs": [],
   "source": []
  }
 ],
 "metadata": {
  "kernelspec": {
   "display_name": "Python 3 (ipykernel)",
   "language": "python",
   "name": "python3"
  },
  "language_info": {
   "codemirror_mode": {
    "name": "ipython",
    "version": 3
   },
   "file_extension": ".py",
   "mimetype": "text/x-python",
   "name": "python",
   "nbconvert_exporter": "python",
   "pygments_lexer": "ipython3",
   "version": "3.12.4"
  }
 },
 "nbformat": 4,
 "nbformat_minor": 5
}
