{
 "cells": [
  {
   "cell_type": "code",
   "execution_count": 1,
   "id": "49b74cb8-0ed6-452d-ac70-57c455c3022e",
   "metadata": {},
   "outputs": [],
   "source": [
    "import os\n",
    "from dotenv import load_dotenv\n",
    "\n",
    "# Load environment variables from .env file\n",
    "load_dotenv()\n",
    "\n",
    "# Access the environment variables\n",
    "api_key = os.getenv('API_KEY')"
   ]
  },
  {
   "cell_type": "code",
   "execution_count": 2,
   "id": "e25c60d6-c99a-45dc-a81c-dd22a8e2bede",
   "metadata": {},
   "outputs": [],
   "source": [
    "import json \n",
    "import pandas as pd\n",
    "from mosqlient import upload_prediction\n",
    "\n"
   ]
  },
  {
   "cell_type": "code",
   "execution_count": 3,
   "id": "ed4d025d-7e5a-42aa-9f02-16115a32764a",
   "metadata": {},
   "outputs": [
    {
     "name": "stdout",
     "output_type": "stream",
     "text": [
      "CPU times: user 416 ms, sys: 111 ms, total: 527 ms\n",
      "Wall time: 36.9 s\n"
     ]
    }
   ],
   "source": [
    "%%time\n",
    "for state, model_name in zip(['AM', 'GO', 'CE', 'PR','MG'],\n",
    "                       ['comb_att_n', 'att_3', 'baseline_msle', 'baseline', 'baseline']):\n",
    "\n",
    "    for year in [2023, 2024]:\n",
    "\n",
    "        df = pd.read_csv(f'./predictions/preds_90_{state}_{year}_{model_name}.csv')\n",
    "\n",
    "        df.loc[df.lower==df.upper, 'upper'] = 0.1\n",
    "\n",
    "        del df['adm_2'] \n",
    "        \n",
    "        upload_prediction(\n",
    "        \n",
    "          model_id = 21, # Check the ID in models list or profile\n",
    "        \n",
    "          description = f\"Predictions for {year} in {state} using the {model_name} architecture\",\n",
    "        \n",
    "          commit = \"50b2692d6680646ad86c8401c4d6e43f3c3820f5\",\n",
    "        \n",
    "          predict_date = \"2024-08-20\",\n",
    "        \n",
    "          prediction = df,\n",
    "        \n",
    "          api_key = api_key\n",
    "        \n",
    "          )\n",
    "    "
   ]
  }
 ],
 "metadata": {
  "kernelspec": {
   "display_name": "Python 3 (ipykernel)",
   "language": "python",
   "name": "python3"
  },
  "language_info": {
   "codemirror_mode": {
    "name": "ipython",
    "version": 3
   },
   "file_extension": ".py",
   "mimetype": "text/x-python",
   "name": "python",
   "nbconvert_exporter": "python",
   "pygments_lexer": "ipython3",
   "version": "3.12.4"
  }
 },
 "nbformat": 4,
 "nbformat_minor": 5
}
