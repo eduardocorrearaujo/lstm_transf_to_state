{
 "cells": [
  {
   "cell_type": "code",
   "execution_count": 1,
   "id": "2c82f951-29fb-4143-9edc-fa4736de19ef",
   "metadata": {},
   "outputs": [],
   "source": [
    "import numpy as np \n",
    "import pandas as pd\n",
    "import matplotlib.pyplot as plt\n",
    "import preprocess_data as prep"
   ]
  },
  {
   "cell_type": "code",
   "execution_count": 2,
   "id": "ea58bffe-d558-4a15-acc7-f79acca61494",
   "metadata": {},
   "outputs": [],
   "source": [
    "state = 'GO'"
   ]
  },
  {
   "cell_type": "code",
   "execution_count": 3,
   "id": "2087f695-1575-41f2-8c61-3c83e89168d5",
   "metadata": {},
   "outputs": [
    {
     "name": "stderr",
     "output_type": "stream",
     "text": [
      "/Users/eduardoaraujo/Documents/Github/lstm_transf_to_state/preprocess_data.py:48: SettingWithCopyWarning: \n",
      "A value is trying to be set on a copy of a slice from a DataFrame.\n",
      "Try using .loc[row_indexer,col_indexer] = value instead\n",
      "\n",
      "See the caveats in the documentation: https://pandas.pydata.org/pandas-docs/stable/user_guide/indexing.html#returning-a-view-versus-a-copy\n",
      "  df_w['epiweek_label'] = df_w['epiweek_label'].apply(transform_epiweek_label)\n",
      "/Users/eduardoaraujo/Documents/Github/lstm_transf_to_state/preprocess_data.py:50: SettingWithCopyWarning: \n",
      "A value is trying to be set on a copy of a slice from a DataFrame.\n",
      "Try using .loc[row_indexer,col_indexer] = value instead\n",
      "\n",
      "See the caveats in the documentation: https://pandas.pydata.org/pandas-docs/stable/user_guide/indexing.html#returning-a-view-versus-a-copy\n",
      "  df_w['epiweek'] = df_w['epiweek_label'].astype(str).str[-2:].astype(int)\n",
      "/Users/eduardoaraujo/Documents/Github/lstm_transf_to_state/preprocess_data.py:51: SettingWithCopyWarning: \n",
      "A value is trying to be set on a copy of a slice from a DataFrame.\n",
      "Try using .loc[row_indexer,col_indexer] = value instead\n",
      "\n",
      "See the caveats in the documentation: https://pandas.pydata.org/pandas-docs/stable/user_guide/indexing.html#returning-a-view-versus-a-copy\n",
      "  df_w['year'] = df_w['epiweek_label'].astype(str).str[:4].astype(int)\n"
     ]
    },
    {
     "data": {
      "text/html": [
       "<div>\n",
       "<style scoped>\n",
       "    .dataframe tbody tr th:only-of-type {\n",
       "        vertical-align: middle;\n",
       "    }\n",
       "\n",
       "    .dataframe tbody tr th {\n",
       "        vertical-align: top;\n",
       "    }\n",
       "\n",
       "    .dataframe thead th {\n",
       "        text-align: right;\n",
       "    }\n",
       "</style>\n",
       "<table border=\"1\" class=\"dataframe\">\n",
       "  <thead>\n",
       "    <tr style=\"text-align: right;\">\n",
       "      <th></th>\n",
       "      <th>casos</th>\n",
       "      <th>epiweek_label</th>\n",
       "      <th>epiweek</th>\n",
       "      <th>year</th>\n",
       "    </tr>\n",
       "    <tr>\n",
       "      <th>date</th>\n",
       "      <th></th>\n",
       "      <th></th>\n",
       "      <th></th>\n",
       "      <th></th>\n",
       "    </tr>\n",
       "  </thead>\n",
       "  <tbody>\n",
       "    <tr>\n",
       "      <th>2010-01-03</th>\n",
       "      <td>5554</td>\n",
       "      <td>201013</td>\n",
       "      <td>13</td>\n",
       "      <td>2010</td>\n",
       "    </tr>\n",
       "    <tr>\n",
       "      <th>2010-01-10</th>\n",
       "      <td>6930</td>\n",
       "      <td>201014</td>\n",
       "      <td>14</td>\n",
       "      <td>2010</td>\n",
       "    </tr>\n",
       "    <tr>\n",
       "      <th>2010-01-17</th>\n",
       "      <td>7175</td>\n",
       "      <td>201015</td>\n",
       "      <td>15</td>\n",
       "      <td>2010</td>\n",
       "    </tr>\n",
       "    <tr>\n",
       "      <th>2010-01-24</th>\n",
       "      <td>7317</td>\n",
       "      <td>201016</td>\n",
       "      <td>16</td>\n",
       "      <td>2010</td>\n",
       "    </tr>\n",
       "    <tr>\n",
       "      <th>2010-01-31</th>\n",
       "      <td>7286</td>\n",
       "      <td>201017</td>\n",
       "      <td>17</td>\n",
       "      <td>2010</td>\n",
       "    </tr>\n",
       "  </tbody>\n",
       "</table>\n",
       "</div>"
      ],
      "text/plain": [
       "            casos epiweek_label  epiweek  year\n",
       "date                                          \n",
       "2010-01-03   5554        201013       13  2010\n",
       "2010-01-10   6930        201014       14  2010\n",
       "2010-01-17   7175        201015       15  2010\n",
       "2010-01-24   7317        201016       16  2010\n",
       "2010-01-31   7286        201017       17  2010"
      ]
     },
     "execution_count": 3,
     "metadata": {},
     "output_type": "execute_result"
    }
   ],
   "source": [
    "df = pd.read_csv('./data/dengue.csv.gz')\n",
    "\n",
    "df = df.loc[df.uf == state]\n",
    "\n",
    "df.date = pd.to_datetime(df.date)\n",
    "\n",
    "df.set_index('date', inplace = True)\n",
    "\n",
    "df_w = df[['casos']]\n",
    "\n",
    "df_w = df_w.resample('W-SUN').sum()\n",
    "\n",
    "df_w = prep.add_epiweek_label(df_w)\n",
    "\n",
    "df_w.head()"
   ]
  },
  {
   "cell_type": "code",
   "execution_count": 4,
   "id": "79eb985f-112b-441c-a887-18ed30036a51",
   "metadata": {
    "scrolled": true
   },
   "outputs": [
    {
     "data": {
      "text/html": [
       "<div>\n",
       "<style scoped>\n",
       "    .dataframe tbody tr th:only-of-type {\n",
       "        vertical-align: middle;\n",
       "    }\n",
       "\n",
       "    .dataframe tbody tr th {\n",
       "        vertical-align: top;\n",
       "    }\n",
       "\n",
       "    .dataframe thead th {\n",
       "        text-align: right;\n",
       "    }\n",
       "</style>\n",
       "<table border=\"1\" class=\"dataframe\">\n",
       "  <thead>\n",
       "    <tr style=\"text-align: right;\">\n",
       "      <th></th>\n",
       "      <th>geocode</th>\n",
       "      <th>name_muni</th>\n",
       "      <th>name_region</th>\n",
       "      <th>code_region</th>\n",
       "      <th>name_macro</th>\n",
       "      <th>code_macro</th>\n",
       "      <th>state</th>\n",
       "    </tr>\n",
       "  </thead>\n",
       "  <tbody>\n",
       "    <tr>\n",
       "      <th>354</th>\n",
       "      <td>5208806</td>\n",
       "      <td>Goianira</td>\n",
       "      <td>Central</td>\n",
       "      <td>52001</td>\n",
       "      <td>Centro-Oeste</td>\n",
       "      <td>5208</td>\n",
       "      <td>GO</td>\n",
       "    </tr>\n",
       "    <tr>\n",
       "      <th>355</th>\n",
       "      <td>5208905</td>\n",
       "      <td>Goiás</td>\n",
       "      <td>Rio Vermelho</td>\n",
       "      <td>52012</td>\n",
       "      <td>Centro-Oeste</td>\n",
       "      <td>5208</td>\n",
       "      <td>GO</td>\n",
       "    </tr>\n",
       "    <tr>\n",
       "      <th>356</th>\n",
       "      <td>5209101</td>\n",
       "      <td>Goiatuba</td>\n",
       "      <td>Sul</td>\n",
       "      <td>52017</td>\n",
       "      <td>Centro Sudeste</td>\n",
       "      <td>5210</td>\n",
       "      <td>GO</td>\n",
       "    </tr>\n",
       "    <tr>\n",
       "      <th>393</th>\n",
       "      <td>5213756</td>\n",
       "      <td>Montividiu</td>\n",
       "      <td>Sudoeste I</td>\n",
       "      <td>52015</td>\n",
       "      <td>Sudoeste</td>\n",
       "      <td>5206</td>\n",
       "      <td>GO</td>\n",
       "    </tr>\n",
       "    <tr>\n",
       "      <th>394</th>\n",
       "      <td>5213772</td>\n",
       "      <td>Montividiu do Norte</td>\n",
       "      <td>Norte</td>\n",
       "      <td>52008</td>\n",
       "      <td>Centro-Norte</td>\n",
       "      <td>5209</td>\n",
       "      <td>GO</td>\n",
       "    </tr>\n",
       "  </tbody>\n",
       "</table>\n",
       "</div>"
      ],
      "text/plain": [
       "     geocode            name_muni   name_region  code_region      name_macro  \\\n",
       "354  5208806             Goianira       Central        52001    Centro-Oeste   \n",
       "355  5208905                Goiás  Rio Vermelho        52012    Centro-Oeste   \n",
       "356  5209101             Goiatuba           Sul        52017  Centro Sudeste   \n",
       "393  5213756           Montividiu    Sudoeste I        52015        Sudoeste   \n",
       "394  5213772  Montividiu do Norte         Norte        52008    Centro-Norte   \n",
       "\n",
       "     code_macro state  \n",
       "354        5208    GO  \n",
       "355        5208    GO  \n",
       "356        5210    GO  \n",
       "393        5206    GO  \n",
       "394        5209    GO  "
      ]
     },
     "execution_count": 4,
     "metadata": {},
     "output_type": "execute_result"
    }
   ],
   "source": [
    "df_macro = pd.read_csv('./data/macro_saude.csv', index_col = 'Unnamed: 0')\n",
    "\n",
    "df_macro = df_macro.loc[df_macro.state == state]\n",
    "\n",
    "df_macro.head()"
   ]
  },
  {
   "cell_type": "code",
   "execution_count": 5,
   "id": "fae133a5-1a12-441a-993c-316fa6683ee4",
   "metadata": {},
   "outputs": [],
   "source": [
    "def get_samples(regional_geocodes, year):\n",
    "\n",
    "    df_end = pd.DataFrame()\n",
    "\n",
    "    for region in regional_geocodes: \n",
    "\n",
    "        df = pd.read_csv(f'./predictions_ensemble/{state}_{region}_{year}.csv.gz', index_col = 'Unnamed: 0')\n",
    "\n",
    "        df_reg =  pd.DataFrame()\n",
    "        df_reg[str(region)] = np.percentile(df.values, 50, axis=1)\n",
    "\n",
    "        df_end = pd.concat([df_end, df_reg], axis = 1)\n",
    "\n",
    "    target = pd.DataFrame()\n",
    "\n",
    "    target['casos'] = df_w.loc[df_w.year==year].casos\n",
    "\n",
    "    return df_end, target\n",
    "\n",
    "\n",
    "    "
   ]
  },
  {
   "cell_type": "code",
   "execution_count": 6,
   "id": "90f2e48a-7fd3-4d14-8ac1-08dac9c40bcb",
   "metadata": {},
   "outputs": [],
   "source": [
    "X_train = pd.DataFrame()\n",
    "y_train = pd.DataFrame()\n",
    "\n",
    "for year in np.arange(2013, 2023):\n",
    "    \n",
    "    X_train_, y_train_ = get_samples(regional_geocodes = df_macro.code_region.unique(), year= year)\n",
    "\n",
    "    X_train = pd.concat([X_train, X_train_])\n",
    "    y_train = pd.concat([y_train, y_train_])\n",
    "\n"
   ]
  },
  {
   "cell_type": "code",
   "execution_count": 7,
   "id": "88e536f0-e0f2-44d3-bd7c-c3f0532fe479",
   "metadata": {},
   "outputs": [],
   "source": [
    "X_train = X_train.fillna(0)"
   ]
  },
  {
   "cell_type": "code",
   "execution_count": 8,
   "id": "3e6540fe-68d9-456a-b7eb-230059f895de",
   "metadata": {},
   "outputs": [
    {
     "data": {
      "text/plain": [
       "(520, 18)"
      ]
     },
     "execution_count": 8,
     "metadata": {},
     "output_type": "execute_result"
    }
   ],
   "source": [
    "X_train.shape"
   ]
  },
  {
   "cell_type": "code",
   "execution_count": 9,
   "id": "8300e3dd-4dc6-44a3-b8e6-d87dec3038d1",
   "metadata": {},
   "outputs": [
    {
     "data": {
      "text/plain": [
       "(520, 1)"
      ]
     },
     "execution_count": 9,
     "metadata": {},
     "output_type": "execute_result"
    }
   ],
   "source": [
    "y_train.shape"
   ]
  },
  {
   "cell_type": "code",
   "execution_count": 10,
   "id": "7a1b6df1-8288-49c9-9026-c0bfd8f1dd23",
   "metadata": {},
   "outputs": [
    {
     "data": {
      "text/plain": [
       "casos    0\n",
       "dtype: int64"
      ]
     },
     "execution_count": 10,
     "metadata": {},
     "output_type": "execute_result"
    }
   ],
   "source": [
    "y_train.isnull().sum()"
   ]
  },
  {
   "cell_type": "code",
   "execution_count": 11,
   "id": "8ebf8474-6fe1-4d2c-96a7-cc51f91b5fb0",
   "metadata": {},
   "outputs": [
    {
     "data": {
      "text/plain": [
       "(52,)"
      ]
     },
     "execution_count": 11,
     "metadata": {},
     "output_type": "execute_result"
    }
   ],
   "source": [
    "y_train_.values.ravel().shape"
   ]
  },
  {
   "cell_type": "code",
   "execution_count": 12,
   "id": "35929397-d53e-4f2f-ad52-c4c81b6d4800",
   "metadata": {},
   "outputs": [],
   "source": [
    "from sklearn.linear_model import LinearRegression"
   ]
  },
  {
   "cell_type": "code",
   "execution_count": 13,
   "id": "29f8459c-1ea0-4c37-9a92-5091863ae14b",
   "metadata": {},
   "outputs": [],
   "source": [
    "from sklearn.preprocessing import StandardScaler\n",
    "from sklearn.model_selection import GridSearchCV, KFold\n",
    "from sklearn.ensemble import HistGradientBoostingRegressor"
   ]
  },
  {
   "cell_type": "code",
   "execution_count": 14,
   "id": "664c5f4d-042f-4a10-b240-f19db61d8a12",
   "metadata": {},
   "outputs": [],
   "source": [
    "param = {\"max_iter\": [100, 300, 500],\n",
    "         \"loss\": ['squared_error'],\n",
    "         # \"l2_regularization\":[0.0, 0.5, 1.0]\n",
    "        }\n",
    "\n",
    "cv = KFold(n_splits=4, shuffle=True, random_state=0)"
   ]
  },
  {
   "cell_type": "code",
   "execution_count": 15,
   "id": "a1fc98be-9e9b-4f86-a1cf-caaf5b78492f",
   "metadata": {},
   "outputs": [
    {
     "data": {
      "text/plain": [
       "(520, 18)"
      ]
     },
     "execution_count": 15,
     "metadata": {},
     "output_type": "execute_result"
    }
   ],
   "source": [
    "X_train.shape"
   ]
  },
  {
   "cell_type": "code",
   "execution_count": 16,
   "id": "26b40699-14e1-40d8-a328-b7fe43958c1f",
   "metadata": {},
   "outputs": [
    {
     "data": {
      "text/plain": [
       "(520, 1)"
      ]
     },
     "execution_count": 16,
     "metadata": {},
     "output_type": "execute_result"
    }
   ],
   "source": [
    "y_train.shape"
   ]
  },
  {
   "cell_type": "code",
   "execution_count": 17,
   "id": "433b3104-73fe-4983-88c5-7ac60d7f4946",
   "metadata": {},
   "outputs": [
    {
     "name": "stdout",
     "output_type": "stream",
     "text": [
      "CPU times: user 1min 2s, sys: 24.2 s, total: 1min 26s\n",
      "Wall time: 12.8 s\n"
     ]
    }
   ],
   "source": [
    "%%time  \n",
    "hgbm = HistGradientBoostingRegressor(l2_regularization = 0.2)\n",
    "    \n",
    "grid_search = GridSearchCV(\n",
    "            estimator=hgbm,\n",
    "            param_grid=param,\n",
    "            return_train_score=True,\n",
    "            cv=cv,\n",
    "        ).fit(X_train, y_train.values.ravel())\n"
   ]
  },
  {
   "cell_type": "markdown",
   "id": "f190c4e5-f65f-47b1-9fc5-52f024657cba",
   "metadata": {},
   "source": [
    "model = LinearRegression()\n",
    "\n",
    "model.fit(X_train, y_train)"
   ]
  },
  {
   "cell_type": "code",
   "execution_count": 18,
   "id": "2ac66a5e-9a8f-49bb-9733-00020bee555c",
   "metadata": {},
   "outputs": [],
   "source": [
    "X_test, y_test = get_samples(regional_geocodes = df_macro.code_region.unique(), year= 2023)"
   ]
  },
  {
   "cell_type": "code",
   "execution_count": 19,
   "id": "735eaca6-854f-4b04-b826-46cd1a1b9ed0",
   "metadata": {},
   "outputs": [],
   "source": [
    "pred_ = grid_search.predict(X_test)\n",
    "\n",
    "pred = pred_"
   ]
  },
  {
   "cell_type": "code",
   "execution_count": 20,
   "id": "e7d4246d-7a26-4c65-9fcd-2e0ffab011a6",
   "metadata": {},
   "outputs": [
    {
     "data": {
      "image/png": "[encoded data removed]",
      "text/plain": [
       "<Figure size 640x480 with 1 Axes>"
      ]
     },
     "metadata": {},
     "output_type": "display_data"
    }
   ],
   "source": [
    "fig, ax = plt.subplots()\n",
    "\n",
    "df_w_ = df_w.loc[df_w.year==2023]\n",
    "\n",
    "ax.plot(df_w_.index, df_w_.casos)\n",
    "\n",
    "ax.plot(df_w_.index, pred)\n",
    "\n",
    "plt.show()"
   ]
  },
  {
   "cell_type": "code",
   "execution_count": null,
   "id": "fafa7dc3-3348-4df1-8093-1657d49b0352",
   "metadata": {},
   "outputs": [],
   "source": []
  },
  {
   "cell_type": "code",
   "execution_count": null,
   "id": "f3d109e7-c3ac-4dbc-9bdc-62872dd3d7ef",
   "metadata": {},
   "outputs": [],
   "source": []
  },
  {
   "cell_type": "code",
   "execution_count": null,
   "id": "bd069a40-34e1-4719-b84c-809f176903e2",
   "metadata": {},
   "outputs": [],
   "source": []
  },
  {
   "cell_type": "code",
   "execution_count": null,
   "id": "6c326bf4-1f48-4b4d-8042-31c202cea955",
   "metadata": {},
   "outputs": [],
   "source": []
  },
  {
   "cell_type": "code",
   "execution_count": null,
   "id": "9cdc88ce-eff4-4c71-964d-3fd8aa084c72",
   "metadata": {},
   "outputs": [],
   "source": []
  }
 ],
 "metadata": {
  "kernelspec": {
   "display_name": "Python 3 (ipykernel)",
   "language": "python",
   "name": "python3"
  },
  "language_info": {
   "codemirror_mode": {
    "name": "ipython",
    "version": 3
   },
   "file_extension": ".py",
   "mimetype": "text/x-python",
   "name": "python",
   "nbconvert_exporter": "python",
   "pygments_lexer": "ipython3",
   "version": "3.12.4"
  }
 },
 "nbformat": 4,
 "nbformat_minor": 5
}
